{
 "cells": [
  {
   "cell_type": "markdown",
   "metadata": {},
   "source": [
    "# Web Scraping Project - www.Hanna Andersson.com\n",
    "\n",
    "I have chosen to practise my scraping skills on a US website that mainly sells pajamas: \n",
    "https://www.hannaandersson.com/\n",
    "\n",
    "## Technical Requirements\n",
    "\n",
    "The technical requirements for this project are as follows:\n",
    "\n",
    "** You must clean and normalize your database.\n",
    "* You must have at least 200 rows and 8 columns 9in the final clean database. More data is always welcome.\n",
    "\n",
    "\n",
    "## Necessary Deliverables\n",
    "\n",
    "The following deliverables should be pushed to your **Github repo** for this chapter.\n",
    "* The result should be stored in **CSV format and SQL format. \n",
    "* A **Jupyter Notebook (.ipynb) file** that contains the code used to get the data. \n",
    "* An **output folder** containing the outputs of your API and scraping efforts.\n",
    "* A **`README.md` file** containing a detailed explanation of your approach and code for retrieving data from the API and scraping the web page as well as your results, obstacles encountered, and lessons learned.\n",
    "\n",
    "## Presentation\n",
    "\n",
    "You will have **7 minutes** to present your project to the class and then **3 minutes** for Q&A,\n",
    "so keep it simple!\n",
    "\n",
    "The slides of your presentation must include the content listed below:\n",
    "- Title of the project + Student name\n",
    "- Description of your idea and project\n",
    "- Challenges\n",
    "- Process\n",
    "- Learnings\n",
    "- If I were to start from scratch...\n",
    "- Improvements\n",
    "- Highlights\n",
    "\n",
    "\n",
    "## Suggested Ways to Get Started\n",
    "\n",
    "* **Define a problem** - think what exactly you are willing to study. Prices on Black Friday? Biggest discounts?  Select your topic based on your points of interest and search for websites that contain some useful information.\n",
    "* **Commit early, commit often**, don’t be afraid of doing something incorrectly because you can always roll back to a previous version.\n",
    "* **Consult documentation and resources provided** to better understand the tools you are using and how to accomplish what you want.\n",
    "\n",
    "\n",
    "## Useful Resources\n",
    "\n",
    "* [Requests Library Documentation: Quickstart](http://docs.python-requests.org/en/master/user/quickstart/)\n",
    "* [Requests library](http://docs.python-requests.org/en/master/#the-user-guide)\n",
    "* [BeautifulSoup Documentation](https://www.crummy.com/software/BeautifulSoup/bs4/doc/)\n",
    "* [Stack Overflow Python Requests Questions](https://stackoverflow.com/questions/tagged/python-requests)\n",
    "* [StackOverflow BeautifulSoup Questions](https://stackoverflow.com/questions/tagged/beautifulsoup)\n",
    "* [Urllib](https://docs.python.org/3/library/urllib.html#module-urllib)\n",
    "* [Public APIs](https://github.com/toddmotto/public-apis)\n",
    "* [API List](https://apilist.fun/)\n",
    "* [GOOGLE!!!](https://www.google/com)\n",
    "- [lxml lib](https://lxml.de/)\n",
    "- [Scrapy](https://scrapy.org/)\n",
    "- [List of HTTP status codes](https://en.wikipedia.org/wiki/List_of_HTTP_status_codes)\n",
    "- [HTML basics](http://www.simplehtmlguide.com/cheatsheet.php)\n",
    "- [CSS basics](https://www.cssbasics.com/#page_start)\n",
    "\n"
   ]
  },
  {
   "cell_type": "markdown",
   "metadata": {},
   "source": [
    "#### Below are the libraries and modules you may need. `requests`,  `BeautifulSoup` and `pandas` are already imported for you. If you prefer to use additional libraries feel free to do it."
   ]
  },
  {
   "cell_type": "code",
   "execution_count": 1,
   "metadata": {},
   "outputs": [],
   "source": [
    "import requests as r\n",
    "from bs4 import BeautifulSoup\n",
    "import pandas as pd"
   ]
  },
  {
   "cell_type": "markdown",
   "metadata": {},
   "source": [
    "#### Download, parse (using BeautifulSoup), and print the content from the sale page of website:"
   ]
  },
  {
   "cell_type": "code",
   "execution_count": 2,
   "metadata": {},
   "outputs": [],
   "source": [
    "# This is the url I have scraped in this project\n",
    "url = 'https://www.hannaandersson.com/sale/?start=12&sz=12&format=page-element'"
   ]
  },
  {
   "cell_type": "code",
   "execution_count": 3,
   "metadata": {},
   "outputs": [
    {
     "data": {
      "text/plain": [
       "<Response [403]>"
      ]
     },
     "execution_count": 3,
     "metadata": {},
     "output_type": "execute_result"
    }
   ],
   "source": [
    "# your code here\n",
    "response=r.get(url)\n",
    "response"
   ]
  },
  {
   "cell_type": "code",
   "execution_count": 4,
   "metadata": {},
   "outputs": [],
   "source": [
    "headers=\"\"\"accept: text/html, */*; q=0.01\n",
    "accept-encoding: gzip, deflate, br\n",
    "accept-language: fr-FR,fr;q=0.9,en-US;q=0.8,en;q=0.7\n",
    "cache-control: no-cache\n",
    "cookie: __cfduid=db177e99449198c2582f571806cacecd51606386575; dwanonymous_e4fdf894e6616217dca137d1f8a3f000=bca7iDVLBk7UZL2wB8TbaSRzw6; RfkEnabled=false; __cq_dnt=0; cqcid=bca7iDVLBk7UZL2wB8TbaSRzw6; cquid=||; dw_dnt=0; notice_behavior=expressed,eu; _gcl_au=1.1.1332759810.1606386580; FPC=bd5af2f0-c6de-4e1d-90c30c1a5eb93f44; variantCookie=1; variantCookieTestID=back2criteo100; _ga=GA1.2.198259505.1606386580; _gid=GA1.2.953923278.1606386580; dw=1; dw_cookies_accepted=1; haNewVisitor=here; _fbp=fb.1.1606386581818.462643727; _pin_unauth=dWlkPU4yVTBNalE1TURZdFl6RTJOQzAwTkRCakxXSTNOVEF0WkRrNFpEWTVOamRoT1dVMQ; scarab.visitor=%222F6EB931F62030DA%22; __cq_uuid=bca7iDVLBk7UZL2wB8TbaSRzw6; IR_gbd=hannaandersson.com; __ruid=40293435-86-s5-49-1p-8bxxp3ofr62357vagmib-1606386582496; __rcmp=0!bj1ydzEsZj1ydyxzPTEsYz0yNDQwLHQ9MjAyMDA0MDguMTk1OTtuPXNiMSxmPXNiLHM9MSxjPTI0MzcsdD0yMDIwMDQwOC4yMDUw; bfx.apiKey=0fac4c60-6e15-11ea-ae9f-6965eb1b85ea; bfx.env=PROD; bfx.logLevel=ERROR; extole_access_token=TVPSF1BPU88L99B674HRTNKSPL; bfx.currency=EUR; bfx.language=en; bfx.isInternational=true; bfx.lcpRuleId=; notice_preferences=2:; notice_gdpr_prefs=0,1,2:; cmapi_gtm_bl=; cmapi_cookie_privacy=permit 1,2,3; __olapicU=1606408027741; SIZEBAY_SESSION_ID_V3=1625582F56D36f3d231bb78e4378abca47af504a3dd4; scarab.profile=%2262634%252DGL7%7C1606408223%22; styliticsWidgetSession=92d5534e-7690-4359-9d9c-c736b12d680d; styliticsWidgetData={%22cohortType%22:%22test%22%2C%22visitor_id%22:2902676716}; bfx.sessionId=bb5e3627-f82a-48f6-8bba-0c909b23cd2b; bfx.country=FR; cbt-consent-banner=CROSS-BORDER%20Consent%20Banner; bfx.isWelcomed=true; bfx.currencyQuoteId=71703387; __rfkp=; scarab.mayAdd=%5B%7B%22i%22%3A%2262364-SW5%22%7D%2C%7B%22i%22%3A%2257421-M23%22%7D%2C%7B%22i%22%3A%2265015-011%22%7D%2C%7B%22i%22%3A%2262317-ST0%22%7D%2C%7B%22i%22%3A%2257435-GM3%22%7D%2C%7B%22i%22%3A%2262341-PF8%22%7D%2C%7B%22i%22%3A%2262251-GL7%22%7D%2C%7B%22i%22%3A%2262634-GL7%22%7D%2C%7B%22i%22%3A%2265291-TE5%22%7D%2C%7B%22i%22%3A%2262627-TD6%22%7D%5D; __cq_bc=%7B%22bblm-hannaandersson%22%3A%5B%7B%22id%22%3A%2262634%22%2C%22type%22%3A%22vgroup%22%2C%22alt_id%22%3A%2262634-GL7%22%7D%2C%7B%22id%22%3A%2257435%22%2C%22type%22%3A%22vgroup%22%2C%22alt_id%22%3A%2257435-GM3%22%7D%2C%7B%22id%22%3A%2262627%22%2C%22type%22%3A%22vgroup%22%2C%22alt_id%22%3A%2262627-TD6%22%7D%2C%7B%22id%22%3A%2265291%22%2C%22type%22%3A%22vgroup%22%2C%22alt_id%22%3A%2265291-TE5%22%7D%2C%7B%22id%22%3A%2262251%22%2C%22type%22%3A%22vgroup%22%2C%22alt_id%22%3A%2262251-GL7%22%7D%2C%7B%22id%22%3A%2262341%22%2C%22type%22%3A%22vgroup%22%2C%22alt_id%22%3A%2262341-PF8%22%7D%2C%7B%22id%22%3A%2262317%22%2C%22type%22%3A%22vgroup%22%2C%22alt_id%22%3A%2262317-ST0%22%7D%2C%7B%22id%22%3A%2265015%22%2C%22type%22%3A%22vgroup%22%2C%22alt_id%22%3A%2265015-011%22%7D%2C%7B%22id%22%3A%2257421%22%2C%22type%22%3A%22vgroup%22%2C%22alt_id%22%3A%2257421-M23%22%7D%2C%7B%22id%22%3A%2262364%22%2C%22type%22%3A%22vgroup%22%2C%22alt_id%22%3A%2262364-SW5%22%7D%5D%7D; __cq_seg=0~0.51!1~-0.07!2~-0.40!3~-0.30!4~-0.10!5~-0.20!6~-0.02!7~-0.42!8~-0.21!9~0.46!f0~31~22; dwac_c15d78007bc7c83b06823fd5e8=Iaz7MWH6orFLkJbD08h-YBo55qfZmzCU9os%3D|dw-only|||USD|false|US%2FPacific|true; sid=Iaz7MWH6orFLkJbD08h-YBo55qfZmzCU9os; dwsid=WF3qbMla8ZG46JuTxrb9E2PI9_pxO2O0BfPKKOSxDMQxOs_Smw7ws-0sLgRNNbADVMj5wlfruyCAAgjpPAmL7w==; _fphu=%7B%22value%22%3A%225.414hvI3ylwvTD3HIKgv.1606386583%22%2C%22ts%22%3A1606516086236%7D; IR_PI=4b772917-2fd2-11eb-8667-0a35d197d7d2%7C1606605791433; __rutmb=40293435; ABTasty=uid=xfk1nev9k76xats5&fst=1606386578875&pst=1606516072195&cst=1606519388405&ns=14&pvt=83&pvis=83&th=552141.0.79.2.12.1.1606408052970.1606519394536.1_609645.754796.1.1.1.1.1606468885141.1606468885141.1_630789.782682.83.2.14.1.1606386579098.1606519394559.1_643924.799342.45.2.7.1.1606386578949.1606519394671.1_643925.799343.36.10.7.1.1606408221955.1606503658737.1_645356.801101.36.10.7.1.1606408221197.1606503658654.1_648502.0.36.2.7.1.1606386578962.1606519394692.1; IR_5644=1606519396304%7C417361%7C1606519391433%7C%7C; __rutma=40293435-86-s5-49-1p-8bxxp3ofr62357vagmib-1606386582496.1606516083780.1606519391786.19.61.2; fanplayr=%7B%22uuid%22%3A%221606386583528-702241ba9e3f3eb8df26e0e7%22%2C%22uk%22%3A%225.414hvI3ylwvTD3HIKgv.1606386583%22%2C%22sk%22%3A%222d488f9217c6e74ae69e37b1a9046e37%22%2C%22se%22%3A%22e1.fanplayr.com%22%2C%22tm%22%3A1%2C%22t%22%3A1606519397180%7D; __rpck=0!eyJwcm8iOiJkaXJlY3QiLCJidCI6eyIwIjpmYWxzZSwiMSI6bnVsbCwiMiI6NDk3OSwiMyI6MC4zM30sIkMiOnt9LCJOIjp7fSwiZHRzIjotNjU5LCJjc3AiOnsiYiI6MTI5NDU1LCJ0Ijo2NjkwLCJzcCI6MTU0ODA0LCJjIjo4fX0~; ABTastySession=mrasn=&lp=https://www.hannaandersson.com/sale/&sen=11; _gat_UA-6112906-3=1; __rpckx=0!eyJlYyI6NjUsInQ3Ijp7IjYxIjoxNjA2NTE5Mzk2NjgzfSwidDd2Ijp7IjYxIjoxNjA2NTE5NDU2NzQ2fSwiaXRpbWUiOiIyMDIwMTEyNy4yMzIzIn0~\n",
    "pragma: no-cache\n",
    "referer: https://www.hannaandersson.com/sale/\n",
    "sec-fetch-dest: empty\n",
    "sec-fetch-mode: cors\n",
    "sec-fetch-site: same-origin\n",
    "user-agent: Mozilla/5.0 (Windows NT 10.0; Win64; x64) AppleWebKit/537.36 (KHTML, like Gecko) Chrome/87.0.4280.66 Safari/537.36\"\"\""
   ]
  },
  {
   "cell_type": "code",
   "execution_count": 5,
   "metadata": {
    "scrolled": true
   },
   "outputs": [
    {
     "data": {
      "text/plain": [
       "{'accept': 'text/html, */*; q=0.01',\n",
       " 'accept-encoding': 'gzip, deflate, br',\n",
       " 'accept-language': 'fr-FR,fr;q=0.9,en-US;q=0.8,en;q=0.7',\n",
       " 'cache-control': 'no-cache',\n",
       " 'cookie': '__cfduid=db177e99449198c2582f571806cacecd51606386575; dwanonymous_e4fdf894e6616217dca137d1f8a3f000=bca7iDVLBk7UZL2wB8TbaSRzw6; RfkEnabled=false; __cq_dnt=0; cqcid=bca7iDVLBk7UZL2wB8TbaSRzw6; cquid=||; dw_dnt=0; notice_behavior=expressed,eu; _gcl_au=1.1.1332759810.1606386580; FPC=bd5af2f0-c6de-4e1d-90c30c1a5eb93f44; variantCookie=1; variantCookieTestID=back2criteo100; _ga=GA1.2.198259505.1606386580; _gid=GA1.2.953923278.1606386580; dw=1; dw_cookies_accepted=1; haNewVisitor=here; _fbp=fb.1.1606386581818.462643727; _pin_unauth=dWlkPU4yVTBNalE1TURZdFl6RTJOQzAwTkRCakxXSTNOVEF0WkRrNFpEWTVOamRoT1dVMQ; scarab.visitor=%222F6EB931F62030DA%22; __cq_uuid=bca7iDVLBk7UZL2wB8TbaSRzw6; IR_gbd=hannaandersson.com; __ruid=40293435-86-s5-49-1p-8bxxp3ofr62357vagmib-1606386582496; __rcmp=0!bj1ydzEsZj1ydyxzPTEsYz0yNDQwLHQ9MjAyMDA0MDguMTk1OTtuPXNiMSxmPXNiLHM9MSxjPTI0MzcsdD0yMDIwMDQwOC4yMDUw; bfx.apiKey=0fac4c60-6e15-11ea-ae9f-6965eb1b85ea; bfx.env=PROD; bfx.logLevel=ERROR; extole_access_token=TVPSF1BPU88L99B674HRTNKSPL; bfx.currency=EUR; bfx.language=en; bfx.isInternational=true; bfx.lcpRuleId=; notice_preferences=2:; notice_gdpr_prefs=0,1,2:; cmapi_gtm_bl=; cmapi_cookie_privacy=permit 1,2,3; __olapicU=1606408027741; SIZEBAY_SESSION_ID_V3=1625582F56D36f3d231bb78e4378abca47af504a3dd4; scarab.profile=%2262634%252DGL7%7C1606408223%22; styliticsWidgetSession=92d5534e-7690-4359-9d9c-c736b12d680d; styliticsWidgetData={%22cohortType%22:%22test%22%2C%22visitor_id%22:2902676716}; bfx.sessionId=bb5e3627-f82a-48f6-8bba-0c909b23cd2b; bfx.country=FR; cbt-consent-banner=CROSS-BORDER%20Consent%20Banner; bfx.isWelcomed=true; bfx.currencyQuoteId=71703387; __rfkp=; scarab.mayAdd=%5B%7B%22i%22%3A%2262364-SW5%22%7D%2C%7B%22i%22%3A%2257421-M23%22%7D%2C%7B%22i%22%3A%2265015-011%22%7D%2C%7B%22i%22%3A%2262317-ST0%22%7D%2C%7B%22i%22%3A%2257435-GM3%22%7D%2C%7B%22i%22%3A%2262341-PF8%22%7D%2C%7B%22i%22%3A%2262251-GL7%22%7D%2C%7B%22i%22%3A%2262634-GL7%22%7D%2C%7B%22i%22%3A%2265291-TE5%22%7D%2C%7B%22i%22%3A%2262627-TD6%22%7D%5D; __cq_bc=%7B%22bblm-hannaandersson%22%3A%5B%7B%22id%22%3A%2262634%22%2C%22type%22%3A%22vgroup%22%2C%22alt_id%22%3A%2262634-GL7%22%7D%2C%7B%22id%22%3A%2257435%22%2C%22type%22%3A%22vgroup%22%2C%22alt_id%22%3A%2257435-GM3%22%7D%2C%7B%22id%22%3A%2262627%22%2C%22type%22%3A%22vgroup%22%2C%22alt_id%22%3A%2262627-TD6%22%7D%2C%7B%22id%22%3A%2265291%22%2C%22type%22%3A%22vgroup%22%2C%22alt_id%22%3A%2265291-TE5%22%7D%2C%7B%22id%22%3A%2262251%22%2C%22type%22%3A%22vgroup%22%2C%22alt_id%22%3A%2262251-GL7%22%7D%2C%7B%22id%22%3A%2262341%22%2C%22type%22%3A%22vgroup%22%2C%22alt_id%22%3A%2262341-PF8%22%7D%2C%7B%22id%22%3A%2262317%22%2C%22type%22%3A%22vgroup%22%2C%22alt_id%22%3A%2262317-ST0%22%7D%2C%7B%22id%22%3A%2265015%22%2C%22type%22%3A%22vgroup%22%2C%22alt_id%22%3A%2265015-011%22%7D%2C%7B%22id%22%3A%2257421%22%2C%22type%22%3A%22vgroup%22%2C%22alt_id%22%3A%2257421-M23%22%7D%2C%7B%22id%22%3A%2262364%22%2C%22type%22%3A%22vgroup%22%2C%22alt_id%22%3A%2262364-SW5%22%7D%5D%7D; __cq_seg=0~0.51!1~-0.07!2~-0.40!3~-0.30!4~-0.10!5~-0.20!6~-0.02!7~-0.42!8~-0.21!9~0.46!f0~31~22; dwac_c15d78007bc7c83b06823fd5e8=Iaz7MWH6orFLkJbD08h-YBo55qfZmzCU9os%3D|dw-only|||USD|false|US%2FPacific|true; sid=Iaz7MWH6orFLkJbD08h-YBo55qfZmzCU9os; dwsid=WF3qbMla8ZG46JuTxrb9E2PI9_pxO2O0BfPKKOSxDMQxOs_Smw7ws-0sLgRNNbADVMj5wlfruyCAAgjpPAmL7w==; _fphu=%7B%22value%22%3A%225.414hvI3ylwvTD3HIKgv.1606386583%22%2C%22ts%22%3A1606516086236%7D; IR_PI=4b772917-2fd2-11eb-8667-0a35d197d7d2%7C1606605791433; __rutmb=40293435; ABTasty=uid=xfk1nev9k76xats5&fst=1606386578875&pst=1606516072195&cst=1606519388405&ns=14&pvt=83&pvis=83&th=552141.0.79.2.12.1.1606408052970.1606519394536.1_609645.754796.1.1.1.1.1606468885141.1606468885141.1_630789.782682.83.2.14.1.1606386579098.1606519394559.1_643924.799342.45.2.7.1.1606386578949.1606519394671.1_643925.799343.36.10.7.1.1606408221955.1606503658737.1_645356.801101.36.10.7.1.1606408221197.1606503658654.1_648502.0.36.2.7.1.1606386578962.1606519394692.1; IR_5644=1606519396304%7C417361%7C1606519391433%7C%7C; __rutma=40293435-86-s5-49-1p-8bxxp3ofr62357vagmib-1606386582496.1606516083780.1606519391786.19.61.2; fanplayr=%7B%22uuid%22%3A%221606386583528-702241ba9e3f3eb8df26e0e7%22%2C%22uk%22%3A%225.414hvI3ylwvTD3HIKgv.1606386583%22%2C%22sk%22%3A%222d488f9217c6e74ae69e37b1a9046e37%22%2C%22se%22%3A%22e1.fanplayr.com%22%2C%22tm%22%3A1%2C%22t%22%3A1606519397180%7D; __rpck=0!eyJwcm8iOiJkaXJlY3QiLCJidCI6eyIwIjpmYWxzZSwiMSI6bnVsbCwiMiI6NDk3OSwiMyI6MC4zM30sIkMiOnt9LCJOIjp7fSwiZHRzIjotNjU5LCJjc3AiOnsiYiI6MTI5NDU1LCJ0Ijo2NjkwLCJzcCI6MTU0ODA0LCJjIjo4fX0~; ABTastySession=mrasn=&lp=https://www.hannaandersson.com/sale/&sen=11; _gat_UA-6112906-3=1; __rpckx=0!eyJlYyI6NjUsInQ3Ijp7IjYxIjoxNjA2NTE5Mzk2NjgzfSwidDd2Ijp7IjYxIjoxNjA2NTE5NDU2NzQ2fSwiaXRpbWUiOiIyMDIwMTEyNy4yMzIzIn0~',\n",
       " 'pragma': 'no-cache',\n",
       " 'referer': 'https://www.hannaandersson.com/sale/',\n",
       " 'sec-fetch-dest': 'empty',\n",
       " 'sec-fetch-mode': 'cors',\n",
       " 'sec-fetch-site': 'same-origin',\n",
       " 'user-agent': 'Mozilla/5.0 (Windows NT 10.0; Win64; x64) AppleWebKit/537.36 (KHTML, like Gecko) Chrome/87.0.4280.66 Safari/537.36'}"
      ]
     },
     "execution_count": 5,
     "metadata": {},
     "output_type": "execute_result"
    }
   ],
   "source": [
    "headers=dict([i.split(': ') for i in headers.split('\\n')])\n",
    "headers"
   ]
  },
  {
   "cell_type": "code",
   "execution_count": 6,
   "metadata": {},
   "outputs": [
    {
     "data": {
      "text/plain": [
       "<Response [200]>"
      ]
     },
     "execution_count": 6,
     "metadata": {},
     "output_type": "execute_result"
    }
   ],
   "source": [
    "response=r.get(url,headers=headers)\n",
    "response"
   ]
  },
  {
   "cell_type": "markdown",
   "metadata": {},
   "source": [
    "\"\"\" **Instructions:**\n",
    "\n",
    ". Find out the html tag and class names used for the products in sale, using CSS Selector.\n",
    ". Use BeautifulSoup to extract all the html elements that contain the product characteristics.\n",
    ". Use string manipulation techniques to replace whitespaces and linebreaks (i.e. `\\n`) in the *text* of each html element. Use a list to store the clean names.\n",
    ". Print the list of products.\"\"\"\n"
   ]
  },
  {
   "cell_type": "code",
   "execution_count": 7,
   "metadata": {},
   "outputs": [
    {
     "data": {
      "text/plain": [
       "b'\\n\\n\\n\\n\\n\\n\\n\\n\\n\\n\\n\\n\\n\\n\\n\\n\\n\\n\\n\\n\\n\\n\\n\\n\\n\\n\\n\\n\\n\\n\\n\\n\\n\\n\\n\\n\\n\\n\\n\\n\\n\\n\\n\\n\\n\\n\\n\\n\\n\\n\\n\\n\\n\\n\\n\\n\\n\\n\\n\\n\\n\\n\\n\\n\\n\\n\\n\\n\\n\\n\\n\\n\\n\\n\\n\\n\\n\\n\\n\\n\\n\\n\\n\\n\\n\\n\\n\\n\\n\\n\\n\\n\\n\\n\\n\\n\\n\\n\\n\\n\\n\\n\\n\\n\\n\\n\\n<!-- Product Search Hit current-cat=\"pdict.category.ID\" search-query=\"null\" product=\"57437-011\" product-classification-cat=\"root\" -->\\n\\n<div class=\"category-results__product\" data-container=\"product\" data-product-id=\"57437-011\" data-colors-to-show=\"011\" itemprop=\"itemListElement\" itemscope itemtype=\"http://schema.org/ListItem\">\\n\\n\\n\\n\\n<!-- CQuotient Activity Tracking (viewCategory-cquotient.js) -->\\n<script type=\"text/javascript\">//<!--\\n/* <![CDATA[ */\\n(function(){\\ntry {\\n    if(window.CQuotient) {\\n\\tvar cq_params = {};\\n\\t\\n\\tcq_params.cookieId = window.CQuotient.getCQCookieId();\\n\\tcq_params.userId = window.CQuotient.getCQUserId();\\n\\tcq_params.emailId = CQuotient.getCQHashedEmail();\\n\\tcq_params.loginId = CQuotient.getCQHashedLogin();\\n\\tcq_params.accumulate = true;\\n\\tcq_params.products = [{\\n\\t    id: \\'57437-011\\',\\n\\t    sku: \\'\\'\\n\\t}];\\n\\tcq_params.categoryId = \\'Sale\\';\\n\\tcq_params.refinements = \\'[{\\\\\"name\\\\\":\\\\\"Category\\\\\",\\\\\"value\\\\\":\\\\\"Sale\\\\\"}]\\';\\n\\tcq_params.personalized = \\'true\\';\\n\\tcq_params.sortingRule = \\'default with margin\\';\\n\\tcq_params.imageUUID = \\'__UNDEFINED__\\';\\n\\tcq_params.realm = \"BBLM\";\\n\\tcq_params.siteId = \"hannaandersson\";\\n\\tcq_params.instanceType = \"prd\";\\n\\tcq_params.queryLocale = \"default\";\\n\\tcq_params.locale = window.CQuotient.locale;\\n\\t\\n\\tif(window.CQuotient.sendActivity)\\n\\t    window.CQuotient.sendActivity(CQuotient.clientId, \\'viewCategory\\', cq_params);\\n\\telse\\n\\t    window.CQuotient.activities.push({\\n\\t    \\tactivityType: \\'viewCategory\\',\\n\\t    \\tparameters: cq_params\\n\\t    });\\n  }\\n} catch(err) {}\\n})();\\n/* ]]> */\\n// -->\\n</script>\\n<script type=\"text/javascript\">//<!--\\n/* <![CDATA[ (viewCategoryProduct-active_data.js) */\\n(function(){\\ntry {\\n\\tif (dw.ac) {\\n\\t\\tvar search_params = {};\\n\\t\\tsearch_params.persd = \\'true\\';\\n\\t\\tsearch_params.refs = \\'[{\\\\\"name\\\\\":\\\\\"Category\\\\\",\\\\\"value\\\\\":\\\\\"Sale\\\\\"}]\\';\\n\\t\\tsearch_params.sort = \\'default with margin\\';\\n\\t\\tsearch_params.imageUUID = \\'\\';\\n\\t\\tsearch_params.searchID = \\'dca90b78-6e03-44cd-bd85-10eaade06dfa\\';\\n\\t\\tsearch_params.locale = \\'default\\';\\n\\t\\tsearch_params.queryLocale = \\'default\\';\\n\\t\\tsearch_params.showProducts = \\'true\\';\\n\\t\\tdw.ac.applyContext({category: \"Sale\", searchData: search_params});\\n\\t\\tif (typeof dw.ac._scheduleDataSubmission === \"function\") {\\n\\t\\t\\tdw.ac._scheduleDataSubmission();\\n\\t\\t}\\n\\t}\\n} catch(err) {}\\n})();\\n/* ]]> */\\n// -->\\n</script>\\n<script type=\"text/javascript\">//<!--\\n/* <![CDATA[ (viewProduct-active_data.js) */\\ndw.ac._capture({id: \"57437-011\", type: \"searchhit\"});\\n/* ]]> */\\n// -->\\n</script>\\n\\n\\n\\n\\n\\n\\n\\n\\n\\n\\n\\n\\n\\n\\n\\n\\n\\n\\n\\n\\n\\n\\n\\n\\n\\n\\n\\n\\n\\n\\n\\n\\n\\n\\n\\n\\n\\n\\n\\n\\n\\n\\n\\n\\n\\n\\n\\n\\n\\n\\n\\n\\n\\n\\n\\n\\n\\n\\n\\n\\n\\n\\n\\n\\n\\n\\n\\n\\n\\n\\n\\n\\n\\n\\n\\n\\n\\n\\n\\n\\n\\n\\n\\n\\n\\n\\n\\n\\n\\n\\n\\n\\n\\n\\n\\n\\n\\n\\n\\n\\n\\n\\n\\n\\n\\n\\n\\n\\n<!-- dwMarker=\"product\" dwContentID=\"164a58fe4a953f6332fec3cbf5\" -->\\n<div class=\"product\" id=\"164a58fe4a953f6332fec3cbf5\" data-itemid=\"57437-011\" data-container=\"product\" data-analyticsuuid=\"f29a4b1b2dc4a4e1b9ad822d91\">\\n\\n\\n<script type=\"text/javascript\">\\nvar _analytics_f29a4b1b2dc4a4e1b9ad822d91 = {};\\nif(gtmAnalytics.productImpressions)\\n{\\n_analytics_f29a4b1b2dc4a4e1b9ad822d91 = {\\n\"id\" : \"57437-011\",\\n\"name\" : \"Baby Snap Footed Sleeper In Organic Cotton\",\\n\"brand\" : \"Hanna Andersson\",\\n\"category\" : gtmAnalytics.analyticsBreadcrumb, // breadcrumb\\n\"variant\" : \"Heather Grey\",\\n\"location\" : gtmAnalytics.actionLocation,\\n\"productList\" : gtmAnalytics.productList,\\n\"list\" : gtmAnalytics.analyticsListType,\\n\"type\" : \\'variationGroup\\',\\n\"position\" : (gtmAnalytics.productImpressions.length + 1),\\n\"price\" : 0,\\n\"dimension1\" : \"57437-011\",\\n\"dimension2\" : (gtmAnalytics.analyticsGridLoad >= 0 ? \"load-\"+gtmAnalytics.analyticsGridLoad : \"\"), // load Number (ajax lazy load)\\n\"dimension3\" : \"0.00\",\\n\"dimension4\" : gtmAnalytics.analyticsCategoryDivisionID,\\n\"dimension5\" : gtmAnalytics.analyticsCategoryID,\\n\"dimension6\" : gtmAnalytics.analyticsSubCategoryID,\\n\"dimension7\" : \"pajamas-baby\",\\n\"dimension8\" : false,\\n\"dimension9\" : \"4.5\",\\n\"dimension10\" : \"5.0\",\\n\"dimension11\" : \"available\"\\n};\\n}\\n</script>\\n<div class=\"product__image\">\\n\\n\\n\\n<a class=\"product__image--link thumb-link\" href=\"https://www.hannaandersson.com/pajamas-baby/57437-011.html?dwvar_57437-011_color=011&amp;cgid=Sale\" title=\"Baby Snap Footed Sleeper In Organic Cotton\" data-product-id=\"57437-011\" onclick=\"gtmAnalytics.submitProductImpressionClick(_analytics_f29a4b1b2dc4a4e1b9ad822d91, this, \\'image\\');\" aria-label=\"Image link for Heather Grey Baby Snap Footed Sleeper In Organic Cotton 57437-011\">\\n<img class=\"pt-image lazyload\" src=\"https://www.hannaandersson.com/dw/image/v2/BBLM_PRD/on/demandware.static/-/Sites-master-catalog/default/dwe6d7c706/images/main/57437/57437_011_60_01.jpg?sw=369&amp;q=50\" data-src=\"https://www.hannaandersson.com/dw/image/v2/BBLM_PRD/on/demandware.static/-/Sites-master-catalog/default/dwe6d7c706/images/main/57437/57437_011_60_01.jpg?sw=369&amp;q=90\" alt=\"Product image for 57437-011\" />\\n\\n<img class=\"alt-image lazyload\" src=\"https://www.hannaandersson.com/dw/image/v2/BBLM_PRD/on/demandware.static/-/Sites-master-catalog/default/dwb840eb0d/images/main/57437/57437_011_60_10.jpg?sw=369&amp;q=50\" data-src=\"https://www.hannaandersson.com/dw/image/v2/BBLM_PRD/on/demandware.static/-/Sites-master-catalog/default/dwb840eb0d/images/main/57437/57437_011_60_10.jpg?sw=369&amp;q=90\" alt=\"Alternate product image for 57437-011\" />\\n\\n</a>\\n\\n\\n<a class=\"pqv-quickview-btn button is-quickview quickview quickbuy-btn product__quickview\" href=\"https://www.hannaandersson.com/pajamas-baby/57437-011.html?dwvar_57437-011_color=011&amp;cgid=Sale&amp;type=quickbuy\" title=\"Baby Snap Footed Sleeper In Organic Cotton\" onclick=\"gtmAnalytics.submitProductImpressionClick(_analytics_f29a4b1b2dc4a4e1b9ad822d91, this, \\'image\\', \\'quickbuy\\');\" aria-label=\"Quick Buy Heather Grey Baby Snap Footed Sleeper In Organic Cotton 57437-011\">\\nQuick Buy\\n</a>\\n\\n</div>\\n\\n<a itemprop=\"item\" class=\"product__name\" href=\"https://www.hannaandersson.com/pajamas-baby/57437-011.html?dwvar_57437-011_color=011&amp;cgid=Sale\" onclick=\"gtmAnalytics.submitProductImpressionClick(_analytics_f29a4b1b2dc4a4e1b9ad822d91, this, \\'text\\');\" aria-label=\"Heather Grey Baby Snap Footed Sleeper In Organic Cotton 57437-011\">\\n<span itemprop=\"name\">Baby Snap Footed Sleeper In Organic Cotton</span>\\n</a>\\n<div class=\"product__pricing \">\\n\\n\\n\\n\\n\\n\\n\\n\\n\\n\\n\\n\\n\\n\\n\\n\\n\\n\\n\\n\\n\\n\\n\\n\\n\\n\\n\\n\\n\\n\\n\\n\\n\\n\\n\\n\\n\\n\\n\\n\\n\\n\\n\\n\\n\\n\\n\\n\\n\\n\\n\\n\\n\\n\\n\\n\\n\\n\\n\\n\\n\\n\\n\\n\\n\\n\\n\\n\\n\\n\\n\\n\\n\\n\\n\\n\\n\\n\\n\\n\\n\\n\\n\\n\\n\\n\\n\\n\\n\\n\\n\\n\\n\\n\\n\\n\\n\\n\\n\\n\\n\\n\\n\\n\\n\\n\\n\\n\\n\\n\\n\\n\\n\\n\\n\\n\\n\\n\\n\\n\\n\\n\\n\\n\\n\\n\\n\\n\\n\\n\\n\\n\\n\\n\\n\\n\\n\\n\\n\\n\\n\\n\\n\\n\\n\\n\\n\\n\\n\\n\\n\\n\\n\\n\\n\\n\\n\\n\\n\\n\\n\\n\\n\\n\\n\\n\\n\\n\\n\\n\\n\\n\\n\\n\\n\\n\\n\\n<div class=\"pdo-product-price\">\\n\\n\\n\\n\\n\\n<span class=\"bfx-original-price pdo-price-standard\" tabindex=\"0\"><span class=\"visually-hidden\">Standard Price:</span>$40.00</span>\\n\\n\\n\\n<span class=\"bfx-price pdo-price-sales\" tabindex=\"0\"><span class=\"visually-hidden\">Sale Price:</span>$15.99</span>\\n\\n\\n\\n\\n\\n</div>\\n\\n\\n\\n\\n\\n\\n\\n\\n</div>\\n\\n<div class=\"product__swatches\">\\n<a class=\"product__swatches--link\" href=\"https://www.hannaandersson.com/pajamas-baby/57437-011.html?dwvar_57437-011_color=011&amp;cgid=Sale\" title=\"Go to Product: Baby Snap Footed Sleeper In Organic Cotton\" onclick=\"gtmAnalytics.submitProductImpressionClick(_analytics_f29a4b1b2dc4a4e1b9ad822d91, this, \\'text\\');\" aria-label=\"More colors available for Baby Snap Footed Sleeper In Organic Cotton 57437-011\" >\\n3 colors available\\n</a>\\n</div>\\n\\n\\n<div class=\"product__ratings\">\\n\\n\\n    <div class=\"TTteaser TTteaser-tile\" data-productid=\"57437-011\" data-starrating=\"4.5\"></div>\\n\\n\\n</div>\\n\\n\\n<div class=\"product__promo product-promo pt-promo\">\\n\\n\\n</div>\\n\\n\\n\\n\\n\\n\\n<div class=\"gtm-analytics-product-tile\" data-salesprice=\"15.99\" data-standardprice=\"40.00\" style=\"display:none;\"></div>\\n<script>\\nif (gtmAnalytics.productImpressions && _analytics_f29a4b1b2dc4a4e1b9ad822d91) {\\n_analytics_f29a4b1b2dc4a4e1b9ad822d91.price = \"15.99\";\\n_analytics_f29a4b1b2dc4a4e1b9ad822d91.dimension3 = \"40.00\";\\ngtmAnalytics.productImpressions.push(_analytics_f29a4b1b2dc4a4e1b9ad822d91);\\n}\\n</script>\\n</div>\\n\\n\\n\\n\\n<meta itemprop=\"position\" content=\"12\" />\\n</div>\\n\\n\\n\\n\\n\\n\\n\\n\\n\\n<!-- Product Search Hit current-cat=\"pdict.category.ID\" search-query=\"null\" product=\"64344-SR4\" product-classification-cat=\"root\" -->\\n\\n<div class=\"category-results__product\" data-container=\"product\" data-product-id=\"64344-SR4\" data-colors-to-show=\"SR4\" itemprop=\"itemListElement\" itemscope itemtype=\"http://schema.org/ListItem\">\\n\\n\\n\\n\\n<!-- CQuotient Activity Tracking (viewCategory-cquotient.js) -->\\n<script type=\"text/javascript\">//<!--\\n/* <![CDATA[ */\\n(function(){\\ntry {\\n    if(window.CQuotient) {\\n\\tvar cq_params = {};\\n\\t\\n\\tcq_params.cookieId = window.CQuotient.getCQCookieId();\\n\\tcq_params.userId = window.CQuotient.getCQUserId();\\n\\tcq_params.emailId = CQuotient.getCQHashedEmail();\\n\\tcq_params.loginId = CQuotient.getCQHashedLogin();\\n\\tcq_params.accumulate = true;\\n\\tcq_params.products = [{\\n\\t    id: \\'64344-SR4\\',\\n\\t    sku: \\'\\'\\n\\t}];\\n\\tcq_params.categoryId = \\'Sale\\';\\n\\tcq_params.refinements = \\'[{\\\\\"name\\\\\":\\\\\"Category\\\\\",\\\\\"value\\\\\":\\\\\"Sale\\\\\"}]\\';\\n\\tcq_params.personalized = \\'true\\';\\n\\tcq_params.sortingRule = \\'default with margin\\';\\n\\tcq_params.imageUUID = \\'__UNDEFINED__\\';\\n\\tcq_params.realm = \"BBLM\";\\n\\tcq_params.siteId = \"hannaandersson\";\\n\\tcq_params.instanceType = \"prd\";\\n\\tcq_params.queryLocale = \"default\";\\n\\tcq_params.locale = window.CQuotient.locale;\\n\\t\\n\\tif(window.CQuotient.sendActivity)\\n\\t    window.CQuotient.sendActivity(CQuotient.clientId, \\'viewCategory\\', cq_params);\\n\\telse\\n\\t    window.CQuotient.activities.push({\\n\\t    \\tactivityType: \\'viewCategory\\',\\n\\t    \\tparameters: cq_params\\n\\t    });\\n  }\\n} catch(err) {}\\n})();\\n/* ]]> */\\n// -->\\n</script>\\n<script type=\"text/javascript\">//<!--\\n/* <![CDATA[ (viewCategoryProduct-active_data.js) */\\n(function(){\\ntry {\\n\\tif (dw.ac) {\\n\\t\\tvar search_params = {};\\n\\t\\tsearch_params.persd = \\'true\\';\\n\\t\\tsearch_params.refs = \\'[{\\\\\"name\\\\\":\\\\\"Category\\\\\",\\\\\"value\\\\\":\\\\\"Sale\\\\\"}]\\';\\n\\t\\tsearch_params.sort = \\'default with margin\\';\\n\\t\\tsearch_params.imageUUID = \\'\\';\\n\\t\\tsearch_params.searchID = \\'dca90b78-6e03-44cd-bd85-10eaade06dfa\\';\\n\\t\\tsearch_params.locale = \\'default\\';\\n\\t\\tsearch_params.queryLocale = \\'default\\';\\n\\t\\tsearch_params.showProducts = \\'true\\';\\n\\t\\tdw.ac.applyContext({category: \"Sale\", searchData: search_params});\\n\\t\\tif (typeof dw.ac._scheduleDataSubmission === \"function\") {\\n\\t\\t\\tdw.ac._scheduleDataSubmission();\\n\\t\\t}\\n\\t}\\n} catch(err) {}\\n})();\\n/* ]]> */\\n// -->\\n</script>\\n<script type=\"text/javascript\">//<!--\\n/* <![CDATA[ (viewProduct-active_data.js) */\\ndw.ac._capture({id: \"64344-SR4\", type: \"searchhit\"});\\n/* ]]> */\\n// -->\\n</script>\\n\\n\\n\\n\\n\\n\\n\\n\\n\\n\\n\\n\\n\\n\\n\\n\\n\\n\\n\\n\\n\\n\\n\\n\\n\\n\\n\\n\\n\\n\\n\\n\\n\\n\\n\\n\\n\\n\\n\\n\\n\\n\\n\\n\\n\\n\\n\\n\\n\\n\\n\\n\\n\\n\\n\\n\\n\\n\\n\\n\\n\\n\\n\\n\\n\\n\\n\\n\\n\\n\\n\\n\\n\\n\\n\\n\\n\\n\\n\\n\\n\\n\\n\\n\\n\\n\\n\\n\\n\\n\\n\\n\\n\\n\\n\\n\\n\\n\\n\\n\\n\\n\\n\\n\\n\\n\\n\\n\\n<!-- dwMarker=\"product\" dwContentID=\"0f92816ba94226c74799d38612\" -->\\n<div class=\"product\" id=\"0f92816ba94226c74799d38612\" data-itemid=\"64344-SR4\" data-container=\"product\" data-analyticsuuid=\"8c1cead7cc779752a9ed2ce412\">\\n\\n\\n<script type=\"text/javascript\">\\nvar _analytics_8c1cead7cc779752a9ed2ce412 = {};\\nif(gtmAnalytics.productImpressions)\\n{\\n_analytics_8c1cead7cc779752a9ed2ce412 = {\\n\"id\" : \"64344-SR4\",\\n\"name\" : \"Double Knee Woven Pants\",\\n\"brand\" : \"Hanna Andersson\",\\n\"category\" : gtmAnalytics.analyticsBreadcrumb, // breadcrumb\\n\"variant\" : \"Navy Blue\",\\n\"location\" : gtmAnalytics.actionLocation,\\n\"productList\" : gtmAnalytics.productList,\\n\"list\" : gtmAnalytics.analyticsListType,\\n\"type\" : \\'variationGroup\\',\\n\"position\" : (gtmAnalytics.productImpressions.length + 1),\\n\"price\" : 0,\\n\"dimension1\" : \"64344-SR4\",\\n\"dimension2\" : (gtmAnalytics.analyticsGridLoad >= 0 ? \"load-\"+gtmAnalytics.analyticsGridLoad : \"\"), // load Number (ajax lazy load)\\n\"dimension3\" : \"0.00\",\\n\"dimension4\" : gtmAnalytics.analyticsCategoryDivisionID,\\n\"dimension5\" : gtmAnalytics.analyticsCategoryID,\\n\"dimension6\" : gtmAnalytics.analyticsSubCategoryID,\\n\"dimension7\" : \"boys-clothing-pants-shorts\",\\n\"dimension8\" : false,\\n\"dimension9\" : \"4.0\",\\n\"dimension10\" : \"8.0\",\\n\"dimension11\" : \"available\"\\n};\\n}\\n</script>\\n<div class=\"product__image\">\\n\\n\\n\\n<a class=\"product__image--link thumb-link\" href=\"https://www.hannaandersson.com/boys-clothing-pants-shorts/64344-SR4.html?dwvar_64344-SR4_color=SR4&amp;cgid=Sale\" title=\"Double Knee Woven Pants\" data-product-id=\"64344-SR4\" onclick=\"gtmAnalytics.submitProductImpressionClick(_analytics_8c1cead7cc779752a9ed2ce412, this, \\'image\\');\" aria-label=\"Image link for Navy Blue Double Knee Woven Pants 64344-SR4\">\\n<img class=\"pt-image lazyload\" src=\"https://www.hannaandersson.com/dw/image/v2/BBLM_PRD/on/demandware.static/-/Sites-master-catalog/default/dw47092f5b/images/main/64344/64344_SR4_110_01.jpg?sw=369&amp;q=50\" data-src=\"https://www.hannaandersson.com/dw/image/v2/BBLM_PRD/on/demandware.static/-/Sites-master-catalog/default/dw47092f5b/images/main/64344/64344_SR4_110_01.jpg?sw=369&amp;q=90\" alt=\"Product image for 64344-SR4\" />\\n\\n</a>\\n\\n\\n<a class=\"pqv-quickview-btn button is-quickview quickview quickbuy-btn product__quickview\" href=\"https://www.hannaandersson.com/boys-clothing-pants-shorts/64344-SR4.html?dwvar_64344-SR4_color=SR4&amp;cgid=Sale&amp;type=quickbuy\" title=\"Double Knee Woven Pants\" onclick=\"gtmAnalytics.submitProductImpressionClick(_analytics_8c1cead7cc779752a9ed2ce412, this, \\'image\\', \\'quickbuy\\');\" aria-label=\"Quick Buy Navy Blue Double Knee Woven Pants 64344-SR4\">\\nQuick Buy\\n</a>\\n\\n</div>\\n\\n<a itemprop=\"item\" class=\"product__name\" href=\"https://www.hannaandersson.com/boys-clothing-pants-shorts/64344-SR4.html?dwvar_64344-SR4_color=SR4&amp;cgid=Sale\" onclick=\"gtmAnalytics.submitProductImpressionClick(_analytics_8c1cead7cc779752a9ed2ce412, this, \\'text\\');\" aria-label=\"Navy Blue Double Knee Woven Pants 64344-SR4\">\\n<span itemprop=\"name\">Double Knee Woven Pants</span>\\n</a>\\n<div class=\"product__pricing \">\\n\\n\\n\\n\\n\\n\\n\\n\\n\\n\\n\\n\\n\\n\\n\\n\\n\\n\\n\\n\\n\\n\\n\\n\\n\\n\\n\\n\\n\\n\\n\\n\\n\\n\\n\\n\\n\\n\\n\\n\\n\\n\\n\\n\\n\\n\\n\\n\\n\\n\\n\\n\\n\\n\\n\\n\\n\\n\\n\\n\\n\\n\\n\\n\\n\\n\\n\\n\\n\\n\\n\\n\\n\\n\\n\\n\\n\\n\\n\\n\\n\\n\\n\\n\\n\\n\\n\\n\\n\\n\\n\\n\\n\\n\\n\\n\\n\\n\\n\\n\\n\\n\\n\\n\\n\\n\\n\\n\\n\\n\\n\\n\\n\\n\\n\\n\\n\\n\\n\\n\\n\\n\\n\\n\\n\\n\\n\\n\\n\\n\\n\\n\\n\\n\\n\\n\\n\\n\\n\\n\\n\\n\\n\\n\\n\\n\\n\\n\\n\\n\\n\\n\\n\\n\\n\\n\\n\\n\\n\\n\\n\\n\\n\\n\\n\\n\\n\\n\\n\\n\\n\\n\\n\\n\\n\\n\\n\\n<div class=\"pdo-product-price\">\\n\\n\\n\\n\\n\\n<span class=\"bfx-original-price pdo-price-standard\" tabindex=\"0\"><span class=\"visually-hidden\">Standard Price:</span>$48.00</span>\\n\\n\\n\\n<span class=\"bfx-price pdo-price-sales\" tabindex=\"0\"><span class=\"visually-hidden\">Sale Price:</span>$18.99</span>\\n\\n\\n\\n\\n\\n</div>\\n\\n\\n\\n\\n\\n\\n\\n\\n</div>\\n\\n<div class=\"product__swatches\">\\n<a class=\"product__swatches--link\" href=\"https://www.hannaandersson.com/boys-clothing-pants-shorts/64344-SR4.html?dwvar_64344-SR4_color=SR4&amp;cgid=Sale\" title=\"Go to Product: Double Knee Woven Pants\" onclick=\"gtmAnalytics.submitProductImpressionClick(_analytics_8c1cead7cc779752a9ed2ce412, this, \\'text\\');\" aria-label=\"More colors available for Double Knee Woven Pants 64344-SR4\" >\\n3 colors available\\n</a>\\n</div>\\n\\n\\n<div class=\"product__ratings\">\\n\\n\\n    <div class=\"TTteaser TTteaser-tile\" data-productid=\"64344-SR4\" data-starrating=\"4.0\"></div>\\n\\n\\n</div>\\n\\n\\n<div class=\"product__promo product-promo pt-promo\">\\n\\n\\n</div>\\n\\n\\n\\n\\n\\n\\n<div class=\"gtm-analytics-product-tile\" data-salesprice=\"18.99\" data-standardprice=\"48.00\" style=\"display:none;\"></div>\\n<script>\\nif (gtmAnalytics.productImpressions && _analytics_8c1cead7cc779752a9ed2ce412) {\\n_analytics_8c1cead7cc779752a9ed2ce412.price = \"18.99\";\\n_analytics_8c1cead7cc779752a9ed2ce412.dimension3 = \"48.00\";\\ngtmAnalytics.productImpressions.push(_analytics_8c1cead7cc779752a9ed2ce412);\\n}\\n</script>\\n</div>\\n\\n\\n\\n\\n<meta itemprop=\"position\" content=\"13\" />\\n</div>\\n\\n\\n\\n\\n\\n\\n\\n\\n\\n<!-- Product Search Hit current-cat=\"pdict.category.ID\" search-query=\"null\" product=\"57421-A91\" product-classification-cat=\"root\" -->\\n\\n<div class=\"category-results__product\" data-container=\"product\" data-product-id=\"57421-A91\" data-colors-to-show=\"A91\" itemprop=\"itemListElement\" itemscope itemtype=\"http://schema.org/ListItem\">\\n\\n\\n\\n\\n<!-- CQuotient Activity Tracking (viewCategory-cquotient.js) -->\\n<script type=\"text/javascript\">//<!--\\n/* <![CDATA[ */\\n(function(){\\ntry {\\n    if(window.CQuotient) {\\n\\tvar cq_params = {};\\n\\t\\n\\tcq_params.cookieId = window.CQuotient.getCQCookieId();\\n\\tcq_params.userId = window.CQuotient.getCQUserId();\\n\\tcq_params.emailId = CQuotient.getCQHashedEmail();\\n\\tcq_params.loginId = CQuotient.getCQHashedLogin();\\n\\tcq_params.accumulate = true;\\n\\tcq_params.products = [{\\n\\t    id: \\'57421-A91\\',\\n\\t    sku: \\'\\'\\n\\t}];\\n\\tcq_params.categoryId = \\'Sale\\';\\n\\tcq_params.refinements = \\'[{\\\\\"name\\\\\":\\\\\"Category\\\\\",\\\\\"value\\\\\":\\\\\"Sale\\\\\"}]\\';\\n\\tcq_params.personalized = \\'true\\';\\n\\tcq_params.sortingRule = \\'default with margin\\';\\n\\tcq_params.imageUUID = \\'__UNDEFINED__\\';\\n\\tcq_params.realm = \"BBLM\";\\n\\tcq_params.siteId = \"hannaandersson\";\\n\\tcq_params.instanceType = \"prd\";\\n\\tcq_params.queryLocale = \"default\";\\n\\tcq_params.locale = window.CQuotient.locale;\\n\\t\\n\\tif(window.CQuotient.sendActivity)\\n\\t    window.CQuotient.sendActivity(CQuotient.clientId, \\'viewCategory\\', cq_params);\\n\\telse\\n\\t    window.CQuotient.activities.push({\\n\\t    \\tactivityType: \\'viewCategory\\',\\n\\t    \\tparameters: cq_params\\n\\t    });\\n  }\\n} catch(err) {}\\n})();\\n/* ]]> */\\n// -->\\n</script>\\n<script type=\"text/javascript\">//<!--\\n/* <![CDATA[ (viewCategoryProduct-active_data.js) */\\n(function(){\\ntry {\\n\\tif (dw.ac) {\\n\\t\\tvar search_params = {};\\n\\t\\tsearch_params.persd = \\'true\\';\\n\\t\\tsearch_params.refs = \\'[{\\\\\"name\\\\\":\\\\\"Category\\\\\",\\\\\"value\\\\\":\\\\\"Sale\\\\\"}]\\';\\n\\t\\tsearch_params.sort = \\'default with margin\\';\\n\\t\\tsearch_params.imageUUID = \\'\\';\\n\\t\\tsearch_params.searchID = \\'dca90b78-6e03-44cd-bd85-10eaade06dfa\\';\\n\\t\\tsearch_params.locale = \\'default\\';\\n\\t\\tsearch_params.queryLocale = \\'default\\';\\n\\t\\tsearch_params.showProducts = \\'true\\';\\n\\t\\tdw.ac.applyContext({category: \"Sale\", searchData: search_params});\\n\\t\\tif (typeof dw.ac._scheduleDataSubmission === \"function\") {\\n\\t\\t\\tdw.ac._scheduleDataSubmission();\\n\\t\\t}\\n\\t}\\n} catch(err) {}\\n})();\\n/* ]]> */\\n// -->\\n</script>\\n<script type=\"text/javascript\">//<!--\\n/* <![CDATA[ (viewProduct-active_data.js) */\\ndw.ac._capture({id: \"57421-A91\", type: \"searchhit\"});\\n/* ]]> */\\n// -->\\n</script>\\n\\n\\n\\n\\n\\n\\n\\n\\n\\n\\n\\n\\n\\n\\n\\n\\n\\n\\n\\n\\n\\n\\n\\n\\n\\n\\n\\n\\n\\n\\n\\n\\n\\n\\n\\n\\n\\n\\n\\n\\n\\n\\n\\n\\n\\n\\n\\n\\n\\n\\n\\n\\n\\n\\n\\n\\n\\n\\n\\n\\n\\n\\n\\n\\n\\n\\n\\n\\n\\n\\n\\n\\n\\n\\n\\n\\n\\n\\n\\n\\n\\n\\n\\n\\n\\n\\n\\n\\n\\n\\n\\n\\n\\n\\n\\n\\n\\n\\n\\n\\n\\n\\n\\n\\n\\n\\n\\n\\n<!-- dwMarker=\"product\" dwContentID=\"afefb1aec44c75c985f0ecd990\" -->\\n<div class=\"product\" id=\"afefb1aec44c75c985f0ecd990\" data-itemid=\"57421-A91\" data-container=\"product\" data-analyticsuuid=\"ec3a3ac12e0d233a1a3281f8b5\">\\n\\n\\n<script type=\"text/javascript\">\\nvar _analytics_ec3a3ac12e0d233a1a3281f8b5 = {};\\nif(gtmAnalytics.productImpressions)\\n{\\n_analytics_ec3a3ac12e0d233a1a3281f8b5 = {\\n\"id\" : \"57421-A91\",\\n\"name\" : \"Baby Dress & Bloomer Set In Organic Cotton\",\\n\"brand\" : \"Hanna Andersson\",\\n\"category\" : gtmAnalytics.analyticsBreadcrumb, // breadcrumb\\n\"variant\" : \"Navy\",\\n\"location\" : gtmAnalytics.actionLocation,\\n\"productList\" : gtmAnalytics.productList,\\n\"list\" : gtmAnalytics.analyticsListType,\\n\"type\" : \\'variationGroup\\',\\n\"position\" : (gtmAnalytics.productImpressions.length + 1),\\n\"price\" : 0,\\n\"dimension1\" : \"57421-A91\",\\n\"dimension2\" : (gtmAnalytics.analyticsGridLoad >= 0 ? \"load-\"+gtmAnalytics.analyticsGridLoad : \"\"), // load Number (ajax lazy load)\\n\"dimension3\" : \"0.00\",\\n\"dimension4\" : gtmAnalytics.analyticsCategoryDivisionID,\\n\"dimension5\" : gtmAnalytics.analyticsCategoryID,\\n\"dimension6\" : gtmAnalytics.analyticsSubCategoryID,\\n\"dimension7\" : \"baby-girl-dresses-skirts\",\\n\"dimension8\" : false,\\n\"dimension9\" : \"5.0\",\\n\"dimension10\" : \"70.0\",\\n\"dimension11\" : \"available\"\\n};\\n}\\n</script>\\n<div class=\"product__image\">\\n\\n\\n\\n<a class=\"product__image--link thumb-link\" href=\"https://www.hannaandersson.com/baby-girl-dresses-skirts/57421-A91.html?dwvar_57421-A91_color=A91&amp;cgid=Sale\" title=\"Baby Dress &amp; Bloomer Set In Organic Cotton\" data-product-id=\"57421-A91\" onclick=\"gtmAnalytics.submitProductImpressionClick(_analytics_ec3a3ac12e0d233a1a3281f8b5, this, \\'image\\');\" aria-label=\"Image link for Navy Baby Dress &amp; Bloomer Set In Organic Cotton 57421-A91\">\\n<img class=\"pt-image lazyload\" src=\"https://www.hannaandersson.com/dw/image/v2/BBLM_PRD/on/demandware.static/-/Sites-master-catalog/default/dwdfb2713f/images/main/57421/57421_A91_60_01.jpg?sw=369&amp;q=50\" data-src=\"https://www.hannaandersson.com/dw/image/v2/BBLM_PRD/on/demandware.static/-/Sites-master-catalog/default/dwdfb2713f/images/main/57421/57421_A91_60_01.jpg?sw=369&amp;q=90\" alt=\"Product image for 57421-A91\" />\\n\\n<img class=\"alt-image lazyload\" src=\"https://www.hannaandersson.com/dw/image/v2/BBLM_PRD/on/demandware.static/-/Sites-master-catalog/default/dw2d363b71/images/main/57421/57421_A91_60_02.jpg?sw=369&amp;q=50\" data-src=\"https://www.hannaandersson.com/dw/image/v2/BBLM_PRD/on/demandware.static/-/Sites-master-catalog/default/dw2d363b71/images/main/57421/57421_A91_60_02.jpg?sw=369&amp;q=90\" alt=\"Alternate product image for 57421-A91\" />\\n\\n</a>\\n\\n\\n<a class=\"pqv-quickview-btn button is-quickview quickview quickbuy-btn product__quickview\" href=\"https://www.hannaandersson.com/baby-girl-dresses-skirts/57421-A91.html?dwvar_57421-A91_color=A91&amp;cgid=Sale&amp;type=quickbuy\" title=\"Baby Dress &amp; Bloomer Set In Organic Cotton\" onclick=\"gtmAnalytics.submitProductImpressionClick(_analytics_ec3a3ac12e0d233a1a3281f8b5, this, \\'image\\', \\'quickbuy\\');\" aria-label=\"Quick Buy Navy Baby Dress &amp; Bloomer Set In Organic Cotton 57421-A91\">\\nQuick Buy\\n</a>\\n\\n</div>\\n\\n<a itemprop=\"item\" class=\"product__name\" href=\"https://www.hannaandersson.com/baby-girl-dresses-skirts/57421-A91.html?dwvar_57421-A91_color=A91&amp;cgid=Sale\" onclick=\"gtmAnalytics.submitProductImpressionClick(_analytics_ec3a3ac12e0d233a1a3281f8b5, this, \\'text\\');\" aria-label=\"Navy Baby Dress &amp; Bloomer Set In Organic Cotton 57421-A91\">\\n<span itemprop=\"name\">Baby Dress &amp; Bloomer Set In Organic Cotton</span>\\n</a>\\n<div class=\"product__pricing \">\\n\\n\\n\\n\\n\\n\\n\\n\\n\\n\\n\\n\\n\\n\\n\\n\\n\\n\\n\\n\\n\\n\\n\\n\\n\\n\\n\\n\\n\\n\\n\\n\\n\\n\\n\\n\\n\\n\\n\\n\\n\\n\\n\\n\\n\\n\\n\\n\\n\\n\\n\\n\\n\\n\\n\\n\\n\\n\\n\\n\\n\\n\\n\\n\\n\\n\\n\\n\\n\\n\\n\\n\\n\\n\\n\\n\\n\\n\\n\\n\\n\\n\\n\\n\\n\\n\\n\\n\\n\\n\\n\\n\\n\\n\\n\\n\\n\\n\\n\\n\\n\\n\\n\\n\\n\\n\\n\\n\\n\\n\\n\\n\\n\\n\\n\\n\\n\\n\\n\\n\\n\\n\\n\\n\\n\\n\\n\\n\\n\\n\\n\\n\\n\\n\\n\\n\\n\\n\\n\\n\\n\\n\\n\\n\\n\\n\\n\\n\\n\\n\\n\\n\\n\\n\\n\\n\\n\\n\\n\\n\\n\\n\\n\\n\\n\\n\\n\\n\\n\\n\\n\\n\\n\\n\\n\\n\\n\\n<div class=\"pdo-product-price\">\\n\\n\\n\\n\\n\\n<span class=\"bfx-original-price pdo-price-standard\" tabindex=\"0\"><span class=\"visually-hidden\">Standard Price:</span>$40.00</span>\\n\\n\\n\\n<span class=\"bfx-price pdo-price-sales\" tabindex=\"0\"><span class=\"visually-hidden\">Sale Price:</span>$15.99</span>\\n\\n\\n\\n\\n\\n</div>\\n\\n\\n\\n\\n\\n\\n\\n\\n</div>\\n\\n<div class=\"product__swatches\">\\n<a class=\"product__swatches--link\" href=\"https://www.hannaandersson.com/baby-girl-dresses-skirts/57421-A91.html?dwvar_57421-A91_color=A91&amp;cgid=Sale\" title=\"Go to Product: Baby Dress &amp; Bloomer Set In Organic Cotton\" onclick=\"gtmAnalytics.submitProductImpressionClick(_analytics_ec3a3ac12e0d233a1a3281f8b5, this, \\'text\\');\" aria-label=\"More colors available for Baby Dress &amp; Bloomer Set In Organic Cotton 57421-A91\" >\\n6 colors available\\n</a>\\n</div>\\n\\n\\n<div class=\"product__ratings\">\\n\\n\\n    <div class=\"TTteaser TTteaser-tile\" data-productid=\"57421-A91\" data-starrating=\"5.0\"></div>\\n\\n\\n</div>\\n\\n\\n<div class=\"product__promo product-promo pt-promo\">\\n\\n\\n</div>\\n\\n\\n\\n\\n\\n\\n<div class=\"gtm-analytics-product-tile\" data-salesprice=\"15.99\" data-standardprice=\"40.00\" style=\"display:none;\"></div>\\n<script>\\nif (gtmAnalytics.productImpressions && _analytics_ec3a3ac12e0d233a1a3281f8b5) {\\n_analytics_ec3a3ac12e0d233a1a3281f8b5.price = \"15.99\";\\n_analytics_ec3a3ac12e0d233a1a3281f8b5.dimension3 = \"40.00\";\\ngtmAnalytics.productImpressions.push(_analytics_ec3a3ac12e0d233a1a3281f8b5);\\n}\\n</script>\\n</div>\\n\\n\\n\\n\\n<meta itemprop=\"position\" content=\"14\" />\\n</div>\\n\\n\\n\\n\\n\\n\\n\\n\\n\\n<!-- Product Search Hit current-cat=\"pdict.category.ID\" search-query=\"null\" product=\"60363-M07\" product-classification-cat=\"root\" -->\\n\\n<div class=\"category-results__product\" data-container=\"product\" data-product-id=\"60363-M07\" data-colors-to-show=\"M07\" itemprop=\"itemListElement\" itemscope itemtype=\"http://schema.org/ListItem\">\\n\\n\\n\\n\\n<!-- CQuotient Activity Tracking (viewCategory-cquotient.js) -->\\n<script type=\"text/javascript\">//<!--\\n/* <![CDATA[ */\\n(function(){\\ntry {\\n    if(window.CQuotient) {\\n\\tvar cq_params = {};\\n\\t\\n\\tcq_params.cookieId = window.CQuotient.getCQCookieId();\\n\\tcq_params.userId = window.CQuotient.getCQUserId();\\n\\tcq_params.emailId = CQuotient.getCQHashedEmail();\\n\\tcq_params.loginId = CQuotient.getCQHashedLogin();\\n\\tcq_params.accumulate = true;\\n\\tcq_params.products = [{\\n\\t    id: \\'60363-M07\\',\\n\\t    sku: \\'\\'\\n\\t}];\\n\\tcq_params.categoryId = \\'Sale\\';\\n\\tcq_params.refinements = \\'[{\\\\\"name\\\\\":\\\\\"Category\\\\\",\\\\\"value\\\\\":\\\\\"Sale\\\\\"}]\\';\\n\\tcq_params.personalized = \\'true\\';\\n\\tcq_params.sortingRule = \\'default with margin\\';\\n\\tcq_params.imageUUID = \\'__UNDEFINED__\\';\\n\\tcq_params.realm = \"BBLM\";\\n\\tcq_params.siteId = \"hannaandersson\";\\n\\tcq_params.instanceType = \"prd\";\\n\\tcq_params.queryLocale = \"default\";\\n\\tcq_params.locale = window.CQuotient.locale;\\n\\t\\n\\tif(window.CQuotient.sendActivity)\\n\\t    window.CQuotient.sendActivity(CQuotient.clientId, \\'viewCategory\\', cq_params);\\n\\telse\\n\\t    window.CQuotient.activities.push({\\n\\t    \\tactivityType: \\'viewCategory\\',\\n\\t    \\tparameters: cq_params\\n\\t    });\\n  }\\n} catch(err) {}\\n})();\\n/* ]]> */\\n// -->\\n</script>\\n<script type=\"text/javascript\">//<!--\\n/* <![CDATA[ (viewCategoryProduct-active_data.js) */\\n(function(){\\ntry {\\n\\tif (dw.ac) {\\n\\t\\tvar search_params = {};\\n\\t\\tsearch_params.persd = \\'true\\';\\n\\t\\tsearch_params.refs = \\'[{\\\\\"name\\\\\":\\\\\"Category\\\\\",\\\\\"value\\\\\":\\\\\"Sale\\\\\"}]\\';\\n\\t\\tsearch_params.sort = \\'default with margin\\';\\n\\t\\tsearch_params.imageUUID = \\'\\';\\n\\t\\tsearch_params.searchID = \\'dca90b78-6e03-44cd-bd85-10eaade06dfa\\';\\n\\t\\tsearch_params.locale = \\'default\\';\\n\\t\\tsearch_params.queryLocale = \\'default\\';\\n\\t\\tsearch_params.showProducts = \\'true\\';\\n\\t\\tdw.ac.applyContext({category: \"Sale\", searchData: search_params});\\n\\t\\tif (typeof dw.ac._scheduleDataSubmission === \"function\") {\\n\\t\\t\\tdw.ac._scheduleDataSubmission();\\n\\t\\t}\\n\\t}\\n} catch(err) {}\\n})();\\n/* ]]> */\\n// -->\\n</script>\\n<script type=\"text/javascript\">//<!--\\n/* <![CDATA[ (viewProduct-active_data.js) */\\ndw.ac._capture({id: \"60363-M07\", type: \"searchhit\"});\\n/* ]]> */\\n// -->\\n</script>\\n\\n\\n\\n\\n\\n\\n\\n\\n\\n\\n\\n\\n\\n\\n\\n\\n\\n\\n\\n\\n\\n\\n\\n\\n\\n\\n\\n\\n\\n\\n\\n\\n\\n\\n\\n\\n\\n\\n\\n\\n\\n\\n\\n\\n\\n\\n\\n\\n\\n\\n\\n\\n\\n\\n\\n\\n\\n\\n\\n\\n\\n\\n\\n\\n\\n\\n\\n\\n\\n\\n\\n\\n\\n\\n\\n\\n\\n\\n\\n\\n\\n\\n\\n\\n\\n\\n\\n\\n\\n\\n\\n\\n\\n\\n\\n\\n\\n\\n\\n\\n\\n\\n\\n\\n\\n\\n\\n\\n<!-- dwMarker=\"product\" dwContentID=\"fa1fe6d9746cd9ddb69526b007\" -->\\n<div class=\"product\" id=\"fa1fe6d9746cd9ddb69526b007\" data-itemid=\"60363-M07\" data-container=\"product\" data-analyticsuuid=\"860ea0ffc4c5fe3ae112712df8\">\\n\\n\\n<script type=\"text/javascript\">\\nvar _analytics_860ea0ffc4c5fe3ae112712df8 = {};\\nif(gtmAnalytics.productImpressions)\\n{\\n_analytics_860ea0ffc4c5fe3ae112712df8 = {\\n\"id\" : \"60363-M07\",\\n\"name\" : \"Super Soft Skater Dress\",\\n\"brand\" : \"Hanna Andersson\",\\n\"category\" : gtmAnalytics.analyticsBreadcrumb, // breadcrumb\\n\"variant\" : \"Sunshine\",\\n\"location\" : gtmAnalytics.actionLocation,\\n\"productList\" : gtmAnalytics.productList,\\n\"list\" : gtmAnalytics.analyticsListType,\\n\"type\" : \\'variationGroup\\',\\n\"position\" : (gtmAnalytics.productImpressions.length + 1),\\n\"price\" : 0,\\n\"dimension1\" : \"60363-M07\",\\n\"dimension2\" : (gtmAnalytics.analyticsGridLoad >= 0 ? \"load-\"+gtmAnalytics.analyticsGridLoad : \"\"), // load Number (ajax lazy load)\\n\"dimension3\" : \"0.00\",\\n\"dimension4\" : gtmAnalytics.analyticsCategoryDivisionID,\\n\"dimension5\" : gtmAnalytics.analyticsCategoryID,\\n\"dimension6\" : gtmAnalytics.analyticsSubCategoryID,\\n\"dimension7\" : \"girls-clothing-dresses\",\\n\"dimension8\" : false,\\n\"dimension9\" : \"5.0\",\\n\"dimension10\" : \"142.0\",\\n\"dimension11\" : \"available\"\\n};\\n}\\n</script>\\n<div class=\"product__image\">\\n\\n\\n\\n<a class=\"product__image--link thumb-link\" href=\"https://www.hannaandersson.com/girls-clothing-dresses/60363-M07.html?dwvar_60363-M07_color=M07&amp;cgid=Sale\" title=\"Super Soft Skater Dress\" data-product-id=\"60363-M07\" onclick=\"gtmAnalytics.submitProductImpressionClick(_analytics_860ea0ffc4c5fe3ae112712df8, this, \\'image\\');\" aria-label=\"Image link for Sunshine Super Soft Skater Dress 60363-M07\">\\n<img class=\"pt-image lazyload\" src=\"https://www.hannaandersson.com/dw/image/v2/BBLM_PRD/on/demandware.static/-/Sites-master-catalog/default/dwdda104e6/images/main/60363/60363_M07_110_01.jpg?sw=369&amp;q=50\" data-src=\"https://www.hannaandersson.com/dw/image/v2/BBLM_PRD/on/demandware.static/-/Sites-master-catalog/default/dwdda104e6/images/main/60363/60363_M07_110_01.jpg?sw=369&amp;q=90\" alt=\"Product image for 60363-M07\" />\\n\\n</a>\\n\\n\\n<a class=\"pqv-quickview-btn button is-quickview quickview quickbuy-btn product__quickview\" href=\"https://www.hannaandersson.com/girls-clothing-dresses/60363-M07.html?dwvar_60363-M07_color=M07&amp;cgid=Sale&amp;type=quickbuy\" title=\"Super Soft Skater Dress\" onclick=\"gtmAnalytics.submitProductImpressionClick(_analytics_860ea0ffc4c5fe3ae112712df8, this, \\'image\\', \\'quickbuy\\');\" aria-label=\"Quick Buy Sunshine Super Soft Skater Dress 60363-M07\">\\nQuick Buy\\n</a>\\n\\n</div>\\n\\n<a itemprop=\"item\" class=\"product__name\" href=\"https://www.hannaandersson.com/girls-clothing-dresses/60363-M07.html?dwvar_60363-M07_color=M07&amp;cgid=Sale\" onclick=\"gtmAnalytics.submitProductImpressionClick(_analytics_860ea0ffc4c5fe3ae112712df8, this, \\'text\\');\" aria-label=\"Sunshine Super Soft Skater Dress 60363-M07\">\\n<span itemprop=\"name\">Super Soft Skater Dress</span>\\n</a>\\n<div class=\"product__pricing \">\\n\\n\\n\\n\\n\\n\\n\\n\\n\\n\\n\\n\\n\\n\\n\\n\\n\\n\\n\\n\\n\\n\\n\\n\\n\\n\\n\\n\\n\\n\\n\\n\\n\\n\\n\\n\\n\\n\\n\\n\\n\\n\\n\\n\\n\\n\\n\\n\\n\\n\\n\\n\\n\\n\\n\\n\\n\\n\\n\\n\\n\\n\\n\\n\\n\\n\\n\\n\\n\\n\\n\\n\\n\\n\\n\\n\\n\\n\\n\\n\\n\\n\\n\\n\\n\\n\\n\\n\\n\\n\\n\\n\\n\\n\\n\\n\\n\\n\\n\\n\\n\\n\\n\\n\\n\\n\\n\\n\\n\\n\\n\\n\\n\\n\\n\\n\\n\\n\\n\\n\\n\\n\\n\\n\\n\\n\\n\\n\\n\\n\\n\\n\\n\\n\\n\\n\\n\\n\\n\\n\\n\\n\\n\\n\\n\\n\\n\\n\\n\\n\\n\\n\\n\\n\\n\\n\\n\\n\\n\\n\\n\\n\\n\\n\\n\\n\\n\\n\\n\\n\\n\\n\\n\\n\\n\\n\\n\\n<div class=\"pdo-product-price\">\\n\\n\\n\\n\\n\\n<span class=\"bfx-original-price pdo-price-standard\" tabindex=\"0\"><span class=\"visually-hidden\">Standard Price:</span>$48.00</span>\\n\\n\\n\\n<span class=\"bfx-price pdo-price-sales\" tabindex=\"0\"><span class=\"visually-hidden\">Sale Price:</span>$18.99</span>\\n\\n\\n\\n\\n\\n</div>\\n\\n\\n\\n\\n\\n\\n\\n\\n</div>\\n\\n<div class=\"product__swatches\">\\n<a class=\"product__swatches--link\" href=\"https://www.hannaandersson.com/girls-clothing-dresses/60363-M07.html?dwvar_60363-M07_color=M07&amp;cgid=Sale\" title=\"Go to Product: Super Soft Skater Dress\" onclick=\"gtmAnalytics.submitProductImpressionClick(_analytics_860ea0ffc4c5fe3ae112712df8, this, \\'text\\');\" aria-label=\"More colors available for Super Soft Skater Dress 60363-M07\" >\\n4 colors available\\n</a>\\n</div>\\n\\n\\n<div class=\"product__ratings\">\\n\\n\\n    <div class=\"TTteaser TTteaser-tile\" data-productid=\"60363-M07\" data-starrating=\"5.0\"></div>\\n\\n\\n</div>\\n\\n\\n<div class=\"product__promo product-promo pt-promo\">\\n\\n\\n</div>\\n\\n\\n\\n\\n\\n\\n<div class=\"gtm-analytics-product-tile\" data-salesprice=\"18.99\" data-standardprice=\"48.00\" style=\"display:none;\"></div>\\n<script>\\nif (gtmAnalytics.productImpressions && _analytics_860ea0ffc4c5fe3ae112712df8) {\\n_analytics_860ea0ffc4c5fe3ae112712df8.price = \"18.99\";\\n_analytics_860ea0ffc4c5fe3ae112712df8.dimension3 = \"48.00\";\\ngtmAnalytics.productImpressions.push(_analytics_860ea0ffc4c5fe3ae112712df8);\\n}\\n</script>\\n</div>\\n\\n\\n\\n\\n<meta itemprop=\"position\" content=\"15\" />\\n</div>\\n\\n\\n\\n\\n\\n\\n\\n\\n\\n<!-- Product Search Hit current-cat=\"pdict.category.ID\" search-query=\"null\" product=\"57421-PW1\" product-classification-cat=\"root\" -->\\n\\n<div class=\"category-results__product\" data-container=\"product\" data-product-id=\"57421-PW1\" data-colors-to-show=\"PW1\" itemprop=\"itemListElement\" itemscope itemtype=\"http://schema.org/ListItem\">\\n\\n\\n\\n\\n<!-- CQuotient Activity Tracking (viewCategory-cquotient.js) -->\\n<script type=\"text/javascript\">//<!--\\n/* <![CDATA[ */\\n(function(){\\ntry {\\n    if(window.CQuotient) {\\n\\tvar cq_params = {};\\n\\t\\n\\tcq_params.cookieId = window.CQuotient.getCQCookieId();\\n\\tcq_params.userId = window.CQuotient.getCQUserId();\\n\\tcq_params.emailId = CQuotient.getCQHashedEmail();\\n\\tcq_params.loginId = CQuotient.getCQHashedLogin();\\n\\tcq_params.accumulate = true;\\n\\tcq_params.products = [{\\n\\t    id: \\'57421-PW1\\',\\n\\t    sku: \\'\\'\\n\\t}];\\n\\tcq_params.categoryId = \\'Sale\\';\\n\\tcq_params.refinements = \\'[{\\\\\"name\\\\\":\\\\\"Category\\\\\",\\\\\"value\\\\\":\\\\\"Sale\\\\\"}]\\';\\n\\tcq_params.personalized = \\'true\\';\\n\\tcq_params.sortingRule = \\'default with margin\\';\\n\\tcq_params.imageUUID = \\'__UNDEFINED__\\';\\n\\tcq_params.realm = \"BBLM\";\\n\\tcq_params.siteId = \"hannaandersson\";\\n\\tcq_params.instanceType = \"prd\";\\n\\tcq_params.queryLocale = \"default\";\\n\\tcq_params.locale = window.CQuotient.locale;\\n\\t\\n\\tif(window.CQuotient.sendActivity)\\n\\t    window.CQuotient.sendActivity(CQuotient.clientId, \\'viewCategory\\', cq_params);\\n\\telse\\n\\t    window.CQuotient.activities.push({\\n\\t    \\tactivityType: \\'viewCategory\\',\\n\\t    \\tparameters: cq_params\\n\\t    });\\n  }\\n} catch(err) {}\\n})();\\n/* ]]> */\\n// -->\\n</script>\\n<script type=\"text/javascript\">//<!--\\n/* <![CDATA[ (viewCategoryProduct-active_data.js) */\\n(function(){\\ntry {\\n\\tif (dw.ac) {\\n\\t\\tvar search_params = {};\\n\\t\\tsearch_params.persd = \\'true\\';\\n\\t\\tsearch_params.refs = \\'[{\\\\\"name\\\\\":\\\\\"Category\\\\\",\\\\\"value\\\\\":\\\\\"Sale\\\\\"}]\\';\\n\\t\\tsearch_params.sort = \\'default with margin\\';\\n\\t\\tsearch_params.imageUUID = \\'\\';\\n\\t\\tsearch_params.searchID = \\'dca90b78-6e03-44cd-bd85-10eaade06dfa\\';\\n\\t\\tsearch_params.locale = \\'default\\';\\n\\t\\tsearch_params.queryLocale = \\'default\\';\\n\\t\\tsearch_params.showProducts = \\'true\\';\\n\\t\\tdw.ac.applyContext({category: \"Sale\", searchData: search_params});\\n\\t\\tif (typeof dw.ac._scheduleDataSubmission === \"function\") {\\n\\t\\t\\tdw.ac._scheduleDataSubmission();\\n\\t\\t}\\n\\t}\\n} catch(err) {}\\n})();\\n/* ]]> */\\n// -->\\n</script>\\n<script type=\"text/javascript\">//<!--\\n/* <![CDATA[ (viewProduct-active_data.js) */\\ndw.ac._capture({id: \"57421-PW1\", type: \"searchhit\"});\\n/* ]]> */\\n// -->\\n</script>\\n\\n\\n\\n\\n\\n\\n\\n\\n\\n\\n\\n\\n\\n\\n\\n\\n\\n\\n\\n\\n\\n\\n\\n\\n\\n\\n\\n\\n\\n\\n\\n\\n\\n\\n\\n\\n\\n\\n\\n\\n\\n\\n\\n\\n\\n\\n\\n\\n\\n\\n\\n\\n\\n\\n\\n\\n\\n\\n\\n\\n\\n\\n\\n\\n\\n\\n\\n\\n\\n\\n\\n\\n\\n\\n\\n\\n\\n\\n\\n\\n\\n\\n\\n\\n\\n\\n\\n\\n\\n\\n\\n\\n\\n\\n\\n\\n\\n\\n\\n\\n\\n\\n\\n\\n\\n\\n\\n\\n<!-- dwMarker=\"product\" dwContentID=\"8bdef3e14dfddf9b405c77ccb8\" -->\\n<div class=\"product\" id=\"8bdef3e14dfddf9b405c77ccb8\" data-itemid=\"57421-PW1\" data-container=\"product\" data-analyticsuuid=\"82dcbf1a2e67bb3a8a1d0ad330\">\\n\\n\\n<script type=\"text/javascript\">\\nvar _analytics_82dcbf1a2e67bb3a8a1d0ad330 = {};\\nif(gtmAnalytics.productImpressions)\\n{\\n_analytics_82dcbf1a2e67bb3a8a1d0ad330 = {\\n\"id\" : \"57421-PW1\",\\n\"name\" : \"Baby Dress & Bloomer Set In Organic Cotton\",\\n\"brand\" : \"Hanna Andersson\",\\n\"category\" : gtmAnalytics.analyticsBreadcrumb, // breadcrumb\\n\"variant\" : \"Trek Teal\",\\n\"location\" : gtmAnalytics.actionLocation,\\n\"productList\" : gtmAnalytics.productList,\\n\"list\" : gtmAnalytics.analyticsListType,\\n\"type\" : \\'variationGroup\\',\\n\"position\" : (gtmAnalytics.productImpressions.length + 1),\\n\"price\" : 0,\\n\"dimension1\" : \"57421-PW1\",\\n\"dimension2\" : (gtmAnalytics.analyticsGridLoad >= 0 ? \"load-\"+gtmAnalytics.analyticsGridLoad : \"\"), // load Number (ajax lazy load)\\n\"dimension3\" : \"0.00\",\\n\"dimension4\" : gtmAnalytics.analyticsCategoryDivisionID,\\n\"dimension5\" : gtmAnalytics.analyticsCategoryID,\\n\"dimension6\" : gtmAnalytics.analyticsSubCategoryID,\\n\"dimension7\" : \"baby-girl-dresses-skirts\",\\n\"dimension8\" : false,\\n\"dimension9\" : \"5.0\",\\n\"dimension10\" : \"70.0\",\\n\"dimension11\" : \"available\"\\n};\\n}\\n</script>\\n<div class=\"product__image\">\\n\\n\\n\\n<a class=\"product__image--link thumb-link\" href=\"https://www.hannaandersson.com/baby-girl-dresses-skirts/57421-PW1.html?dwvar_57421-PW1_color=PW1&amp;cgid=Sale\" title=\"Baby Dress &amp; Bloomer Set In Organic Cotton\" data-product-id=\"57421-PW1\" onclick=\"gtmAnalytics.submitProductImpressionClick(_analytics_82dcbf1a2e67bb3a8a1d0ad330, this, \\'image\\');\" aria-label=\"Image link for Trek Teal Baby Dress &amp; Bloomer Set In Organic Cotton 57421-PW1\">\\n<img class=\"pt-image lazyload\" src=\"https://www.hannaandersson.com/dw/image/v2/BBLM_PRD/on/demandware.static/-/Sites-master-catalog/default/dw02ce41b1/images/main/57421/57421_PW1_60_01.jpg?sw=369&amp;q=50\" data-src=\"https://www.hannaandersson.com/dw/image/v2/BBLM_PRD/on/demandware.static/-/Sites-master-catalog/default/dw02ce41b1/images/main/57421/57421_PW1_60_01.jpg?sw=369&amp;q=90\" alt=\"Product image for 57421-PW1\" />\\n\\n<img class=\"alt-image lazyload\" src=\"https://www.hannaandersson.com/dw/image/v2/BBLM_PRD/on/demandware.static/-/Sites-master-catalog/default/dw91fa27e1/images/main/57421/57421_PW1_60_02.jpg?sw=369&amp;q=50\" data-src=\"https://www.hannaandersson.com/dw/image/v2/BBLM_PRD/on/demandware.static/-/Sites-master-catalog/default/dw91fa27e1/images/main/57421/57421_PW1_60_02.jpg?sw=369&amp;q=90\" alt=\"Alternate product image for 57421-PW1\" />\\n\\n</a>\\n\\n\\n<a class=\"pqv-quickview-btn button is-quickview quickview quickbuy-btn product__quickview\" href=\"https://www.hannaandersson.com/baby-girl-dresses-skirts/57421-PW1.html?dwvar_57421-PW1_color=PW1&amp;cgid=Sale&amp;type=quickbuy\" title=\"Baby Dress &amp; Bloomer Set In Organic Cotton\" onclick=\"gtmAnalytics.submitProductImpressionClick(_analytics_82dcbf1a2e67bb3a8a1d0ad330, this, \\'image\\', \\'quickbuy\\');\" aria-label=\"Quick Buy Trek Teal Baby Dress &amp; Bloomer Set In Organic Cotton 57421-PW1\">\\nQuick Buy\\n</a>\\n\\n</div>\\n\\n<a itemprop=\"item\" class=\"product__name\" href=\"https://www.hannaandersson.com/baby-girl-dresses-skirts/57421-PW1.html?dwvar_57421-PW1_color=PW1&amp;cgid=Sale\" onclick=\"gtmAnalytics.submitProductImpressionClick(_analytics_82dcbf1a2e67bb3a8a1d0ad330, this, \\'text\\');\" aria-label=\"Trek Teal Baby Dress &amp; Bloomer Set In Organic Cotton 57421-PW1\">\\n<span itemprop=\"name\">Baby Dress &amp; Bloomer Set In Organic Cotton</span>\\n</a>\\n<div class=\"product__pricing \">\\n\\n\\n\\n\\n\\n\\n\\n\\n\\n\\n\\n\\n\\n\\n\\n\\n\\n\\n\\n\\n\\n\\n\\n\\n\\n\\n\\n\\n\\n\\n\\n\\n\\n\\n\\n\\n\\n\\n\\n\\n\\n\\n\\n\\n\\n\\n\\n\\n\\n\\n\\n\\n\\n\\n\\n\\n\\n\\n\\n\\n\\n\\n\\n\\n\\n\\n\\n\\n\\n\\n\\n\\n\\n\\n\\n\\n\\n\\n\\n\\n\\n\\n\\n\\n\\n\\n\\n\\n\\n\\n\\n\\n\\n\\n\\n\\n\\n\\n\\n\\n\\n\\n\\n\\n\\n\\n\\n\\n\\n\\n\\n\\n\\n\\n\\n\\n\\n\\n\\n\\n\\n\\n\\n\\n\\n\\n\\n\\n\\n\\n\\n\\n\\n\\n\\n\\n\\n\\n\\n\\n\\n\\n\\n\\n\\n\\n\\n\\n\\n\\n\\n\\n\\n\\n\\n\\n\\n\\n\\n\\n\\n\\n\\n\\n\\n\\n\\n\\n\\n\\n\\n\\n\\n\\n\\n\\n\\n<div class=\"pdo-product-price\">\\n\\n\\n\\n\\n\\n<span class=\"bfx-original-price pdo-price-standard\" tabindex=\"0\"><span class=\"visually-hidden\">Standard Price:</span>$40.00</span>\\n\\n\\n\\n<span class=\"bfx-price pdo-price-sales\" tabindex=\"0\"><span class=\"visually-hidden\">Sale Price:</span>$15.99</span>\\n\\n\\n\\n\\n\\n</div>\\n\\n\\n\\n\\n\\n\\n\\n\\n</div>\\n\\n<div class=\"product__swatches\">\\n<a class=\"product__swatches--link\" href=\"https://www.hannaandersson.com/baby-girl-dresses-skirts/57421-PW1.html?dwvar_57421-PW1_color=PW1&amp;cgid=Sale\" title=\"Go to Product: Baby Dress &amp; Bloomer Set In Organic Cotton\" onclick=\"gtmAnalytics.submitProductImpressionClick(_analytics_82dcbf1a2e67bb3a8a1d0ad330, this, \\'text\\');\" aria-label=\"More colors available for Baby Dress &amp; Bloomer Set In Organic Cotton 57421-PW1\" >\\n6 colors available\\n</a>\\n</div>\\n\\n\\n<div class=\"product__ratings\">\\n\\n\\n    <div class=\"TTteaser TTteaser-tile\" data-productid=\"57421-PW1\" data-starrating=\"5.0\"></div>\\n\\n\\n</div>\\n\\n\\n<div class=\"product__promo product-promo pt-promo\">\\n\\n\\n</div>\\n\\n\\n\\n\\n\\n\\n<div class=\"gtm-analytics-product-tile\" data-salesprice=\"15.99\" data-standardprice=\"40.00\" style=\"display:none;\"></div>\\n<script>\\nif (gtmAnalytics.productImpressions && _analytics_82dcbf1a2e67bb3a8a1d0ad330) {\\n_analytics_82dcbf1a2e67bb3a8a1d0ad330.price = \"15.99\";\\n_analytics_82dcbf1a2e67bb3a8a1d0ad330.dimension3 = \"40.00\";\\ngtmAnalytics.productImpressions.push(_analytics_82dcbf1a2e67bb3a8a1d0ad330);\\n}\\n</script>\\n</div>\\n\\n\\n\\n\\n<meta itemprop=\"position\" content=\"16\" />\\n</div>\\n\\n\\n\\n\\n\\n\\n\\n\\n\\n<!-- Product Search Hit current-cat=\"pdict.category.ID\" search-query=\"null\" product=\"48200-J86\" product-classification-cat=\"root\" -->\\n\\n<div class=\"category-results__product\" data-container=\"product\" data-product-id=\"48200-J86\" data-colors-to-show=\"J86\" itemprop=\"itemListElement\" itemscope itemtype=\"http://schema.org/ListItem\">\\n\\n\\n\\n\\n<!-- CQuotient Activity Tracking (viewCategory-cquotient.js) -->\\n<script type=\"text/javascript\">//<!--\\n/* <![CDATA[ */\\n(function(){\\ntry {\\n    if(window.CQuotient) {\\n\\tvar cq_params = {};\\n\\t\\n\\tcq_params.cookieId = window.CQuotient.getCQCookieId();\\n\\tcq_params.userId = window.CQuotient.getCQUserId();\\n\\tcq_params.emailId = CQuotient.getCQHashedEmail();\\n\\tcq_params.loginId = CQuotient.getCQHashedLogin();\\n\\tcq_params.accumulate = true;\\n\\tcq_params.products = [{\\n\\t    id: \\'48200-J86\\',\\n\\t    sku: \\'\\'\\n\\t}];\\n\\tcq_params.categoryId = \\'Sale\\';\\n\\tcq_params.refinements = \\'[{\\\\\"name\\\\\":\\\\\"Category\\\\\",\\\\\"value\\\\\":\\\\\"Sale\\\\\"}]\\';\\n\\tcq_params.personalized = \\'true\\';\\n\\tcq_params.sortingRule = \\'default with margin\\';\\n\\tcq_params.imageUUID = \\'__UNDEFINED__\\';\\n\\tcq_params.realm = \"BBLM\";\\n\\tcq_params.siteId = \"hannaandersson\";\\n\\tcq_params.instanceType = \"prd\";\\n\\tcq_params.queryLocale = \"default\";\\n\\tcq_params.locale = window.CQuotient.locale;\\n\\t\\n\\tif(window.CQuotient.sendActivity)\\n\\t    window.CQuotient.sendActivity(CQuotient.clientId, \\'viewCategory\\', cq_params);\\n\\telse\\n\\t    window.CQuotient.activities.push({\\n\\t    \\tactivityType: \\'viewCategory\\',\\n\\t    \\tparameters: cq_params\\n\\t    });\\n  }\\n} catch(err) {}\\n})();\\n/* ]]> */\\n// -->\\n</script>\\n<script type=\"text/javascript\">//<!--\\n/* <![CDATA[ (viewCategoryProduct-active_data.js) */\\n(function(){\\ntry {\\n\\tif (dw.ac) {\\n\\t\\tvar search_params = {};\\n\\t\\tsearch_params.persd = \\'true\\';\\n\\t\\tsearch_params.refs = \\'[{\\\\\"name\\\\\":\\\\\"Category\\\\\",\\\\\"value\\\\\":\\\\\"Sale\\\\\"}]\\';\\n\\t\\tsearch_params.sort = \\'default with margin\\';\\n\\t\\tsearch_params.imageUUID = \\'\\';\\n\\t\\tsearch_params.searchID = \\'dca90b78-6e03-44cd-bd85-10eaade06dfa\\';\\n\\t\\tsearch_params.locale = \\'default\\';\\n\\t\\tsearch_params.queryLocale = \\'default\\';\\n\\t\\tsearch_params.showProducts = \\'true\\';\\n\\t\\tdw.ac.applyContext({category: \"Sale\", searchData: search_params});\\n\\t\\tif (typeof dw.ac._scheduleDataSubmission === \"function\") {\\n\\t\\t\\tdw.ac._scheduleDataSubmission();\\n\\t\\t}\\n\\t}\\n} catch(err) {}\\n})();\\n/* ]]> */\\n// -->\\n</script>\\n<script type=\"text/javascript\">//<!--\\n/* <![CDATA[ (viewProduct-active_data.js) */\\ndw.ac._capture({id: \"48200-J86\", type: \"searchhit\"});\\n/* ]]> */\\n// -->\\n</script>\\n\\n\\n\\n\\n\\n\\n\\n\\n\\n\\n\\n\\n\\n\\n\\n\\n\\n\\n\\n\\n\\n\\n\\n\\n\\n\\n\\n\\n\\n\\n\\n\\n\\n\\n\\n\\n\\n\\n\\n\\n\\n\\n\\n\\n\\n\\n\\n\\n\\n\\n\\n\\n\\n\\n\\n\\n\\n\\n\\n\\n\\n\\n\\n\\n\\n\\n\\n\\n\\n\\n\\n\\n\\n\\n\\n\\n\\n\\n\\n\\n\\n\\n\\n\\n\\n\\n\\n\\n\\n\\n\\n\\n\\n\\n\\n\\n\\n\\n\\n\\n\\n\\n\\n\\n\\n\\n\\n\\n<!-- dwMarker=\"product\" dwContentID=\"7830233bbd9f494e8b1374de22\" -->\\n<div class=\"product\" id=\"7830233bbd9f494e8b1374de22\" data-itemid=\"48200-J86\" data-container=\"product\" data-analyticsuuid=\"f13a6f17369c87c5266b3433e0\">\\n\\n\\n<script type=\"text/javascript\">\\nvar _analytics_f13a6f17369c87c5266b3433e0 = {};\\nif(gtmAnalytics.productImpressions)\\n{\\n_analytics_f13a6f17369c87c5266b3433e0 = {\\n\"id\" : \"48200-J86\",\\n\"name\" : \"Who Will You Be Cap\",\\n\"brand\" : \"Hanna Andersson\",\\n\"category\" : gtmAnalytics.analyticsBreadcrumb, // breadcrumb\\n\"variant\" : \"Pumpkin\",\\n\"location\" : gtmAnalytics.actionLocation,\\n\"productList\" : gtmAnalytics.productList,\\n\"list\" : gtmAnalytics.analyticsListType,\\n\"type\" : \\'variationGroup\\',\\n\"position\" : (gtmAnalytics.productImpressions.length + 1),\\n\"price\" : 0,\\n\"dimension1\" : \"48200-J86\",\\n\"dimension2\" : (gtmAnalytics.analyticsGridLoad >= 0 ? \"load-\"+gtmAnalytics.analyticsGridLoad : \"\"), // load Number (ajax lazy load)\\n\"dimension3\" : \"0.00\",\\n\"dimension4\" : gtmAnalytics.analyticsCategoryDivisionID,\\n\"dimension5\" : gtmAnalytics.analyticsCategoryID,\\n\"dimension6\" : gtmAnalytics.analyticsSubCategoryID,\\n\"dimension7\" : \"accessories-baby-hats\",\\n\"dimension8\" : false,\\n\"dimension9\" : \"5.0\",\\n\"dimension10\" : \"58.0\",\\n\"dimension11\" : \"available\"\\n};\\n}\\n</script>\\n<div class=\"product__image\">\\n\\n\\n\\n<a class=\"product__image--link thumb-link\" href=\"https://www.hannaandersson.com/accessories-baby-hats/48200-J86.html?dwvar_48200-J86_color=J86&amp;cgid=Sale\" title=\"Who Will You Be Cap\" data-product-id=\"48200-J86\" onclick=\"gtmAnalytics.submitProductImpressionClick(_analytics_f13a6f17369c87c5266b3433e0, this, \\'image\\');\" aria-label=\"Image link for Pumpkin Who Will You Be Cap 48200-J86\">\\n<img class=\"pt-image lazyload\" src=\"https://www.hannaandersson.com/dw/image/v2/BBLM_PRD/on/demandware.static/-/Sites-master-catalog/default/dwaf8b6ae4/images/main/48200/48200_J86_60_01.jpg?sw=369&amp;q=50\" data-src=\"https://www.hannaandersson.com/dw/image/v2/BBLM_PRD/on/demandware.static/-/Sites-master-catalog/default/dwaf8b6ae4/images/main/48200/48200_J86_60_01.jpg?sw=369&amp;q=90\" alt=\"Product image for 48200-J86\" />\\n\\n<img class=\"alt-image lazyload\" src=\"https://www.hannaandersson.com/dw/image/v2/BBLM_PRD/on/demandware.static/-/Sites-master-catalog/default/dw56cf6550/images/main/48200/48200_J86_60_10.jpg?sw=369&amp;q=50\" data-src=\"https://www.hannaandersson.com/dw/image/v2/BBLM_PRD/on/demandware.static/-/Sites-master-catalog/default/dw56cf6550/images/main/48200/48200_J86_60_10.jpg?sw=369&amp;q=90\" alt=\"Alternate product image for 48200-J86\" />\\n\\n</a>\\n\\n\\n<a class=\"pqv-quickview-btn button is-quickview quickview quickbuy-btn product__quickview\" href=\"https://www.hannaandersson.com/accessories-baby-hats/48200-J86.html?dwvar_48200-J86_color=J86&amp;cgid=Sale&amp;type=quickbuy\" title=\"Who Will You Be Cap\" onclick=\"gtmAnalytics.submitProductImpressionClick(_analytics_f13a6f17369c87c5266b3433e0, this, \\'image\\', \\'quickbuy\\');\" aria-label=\"Quick Buy Pumpkin Who Will You Be Cap 48200-J86\">\\nQuick Buy\\n</a>\\n\\n</div>\\n\\n<a itemprop=\"item\" class=\"product__name\" href=\"https://www.hannaandersson.com/accessories-baby-hats/48200-J86.html?dwvar_48200-J86_color=J86&amp;cgid=Sale\" onclick=\"gtmAnalytics.submitProductImpressionClick(_analytics_f13a6f17369c87c5266b3433e0, this, \\'text\\');\" aria-label=\"Pumpkin Who Will You Be Cap 48200-J86\">\\n<span itemprop=\"name\">Who Will You Be Cap</span>\\n</a>\\n<div class=\"product__pricing \">\\n\\n\\n\\n\\n\\n\\n\\n\\n\\n\\n\\n\\n\\n\\n\\n\\n\\n\\n\\n\\n\\n\\n\\n\\n\\n\\n\\n\\n\\n\\n\\n\\n\\n\\n\\n\\n\\n\\n\\n\\n\\n\\n\\n\\n\\n\\n\\n\\n\\n\\n\\n\\n\\n\\n\\n\\n\\n\\n\\n\\n\\n\\n\\n\\n\\n\\n\\n\\n\\n\\n\\n\\n\\n\\n\\n\\n\\n\\n\\n\\n\\n\\n\\n\\n\\n\\n\\n\\n\\n\\n\\n\\n\\n\\n\\n\\n\\n\\n\\n\\n\\n\\n\\n\\n\\n\\n\\n\\n\\n\\n\\n\\n\\n\\n\\n\\n\\n\\n\\n\\n\\n\\n\\n\\n\\n\\n\\n\\n\\n\\n\\n\\n\\n\\n\\n\\n\\n\\n\\n\\n\\n\\n\\n\\n\\n\\n\\n\\n\\n\\n\\n\\n\\n\\n\\n\\n\\n\\n\\n\\n\\n\\n\\n\\n\\n\\n\\n\\n\\n\\n\\n\\n\\n\\n\\n\\n\\n<div class=\"pdo-product-price\">\\n\\n\\n\\n\\n\\n<span class=\"bfx-original-price pdo-price-standard\" tabindex=\"0\"><span class=\"visually-hidden\">Standard Price:</span>$20.00</span>\\n\\n\\n\\n<span class=\"bfx-price pdo-price-sales\" tabindex=\"0\"><span class=\"visually-hidden\">Sale Price:</span>$4.79</span>\\n\\n\\n\\n\\n\\n</div>\\n\\n\\n\\n\\n\\n\\n\\n\\n</div>\\n\\n<div class=\"product__swatches\">\\n<a class=\"product__swatches--link\" href=\"https://www.hannaandersson.com/accessories-baby-hats/48200-J86.html?dwvar_48200-J86_color=J86&amp;cgid=Sale\" title=\"Go to Product: Who Will You Be Cap\" onclick=\"gtmAnalytics.submitProductImpressionClick(_analytics_f13a6f17369c87c5266b3433e0, this, \\'text\\');\" aria-label=\"More colors available for Who Will You Be Cap 48200-J86\" >\\n4 colors available\\n</a>\\n</div>\\n\\n\\n<div class=\"product__ratings\">\\n\\n\\n    <div class=\"TTteaser TTteaser-tile\" data-productid=\"48200-J86\" data-starrating=\"5.0\"></div>\\n\\n\\n</div>\\n\\n\\n<div class=\"product__promo product-promo pt-promo\">\\n\\n\\n</div>\\n\\n\\n\\n\\n\\n\\n<div class=\"gtm-analytics-product-tile\" data-salesprice=\"4.79\" data-standardprice=\"20.00\" style=\"display:none;\"></div>\\n<script>\\nif (gtmAnalytics.productImpressions && _analytics_f13a6f17369c87c5266b3433e0) {\\n_analytics_f13a6f17369c87c5266b3433e0.price = \"4.79\";\\n_analytics_f13a6f17369c87c5266b3433e0.dimension3 = \"20.00\";\\ngtmAnalytics.productImpressions.push(_analytics_f13a6f17369c87c5266b3433e0);\\n}\\n</script>\\n</div>\\n\\n\\n\\n\\n<meta itemprop=\"position\" content=\"17\" />\\n</div>\\n\\n\\n\\n\\n\\n\\n\\n\\n\\n<!-- Product Search Hit current-cat=\"pdict.category.ID\" search-query=\"null\" product=\"57437-G43\" product-classification-cat=\"root\" -->\\n\\n<div class=\"category-results__product\" data-container=\"product\" data-product-id=\"57437-G43\" data-colors-to-show=\"G43\" itemprop=\"itemListElement\" itemscope itemtype=\"http://schema.org/ListItem\">\\n\\n\\n\\n\\n<!-- CQuotient Activity Tracking (viewCategory-cquotient.js) -->\\n<script type=\"text/javascript\">//<!--\\n/* <![CDATA[ */\\n(function(){\\ntry {\\n    if(window.CQuotient) {\\n\\tvar cq_params = {};\\n\\t\\n\\tcq_params.cookieId = window.CQuotient.getCQCookieId();\\n\\tcq_params.userId = window.CQuotient.getCQUserId();\\n\\tcq_params.emailId = CQuotient.getCQHashedEmail();\\n\\tcq_params.loginId = CQuotient.getCQHashedLogin();\\n\\tcq_params.accumulate = true;\\n\\tcq_params.products = [{\\n\\t    id: \\'57437-G43\\',\\n\\t    sku: \\'\\'\\n\\t}];\\n\\tcq_params.categoryId = \\'Sale\\';\\n\\tcq_params.refinements = \\'[{\\\\\"name\\\\\":\\\\\"Category\\\\\",\\\\\"value\\\\\":\\\\\"Sale\\\\\"}]\\';\\n\\tcq_params.personalized = \\'true\\';\\n\\tcq_params.sortingRule = \\'default with margin\\';\\n\\tcq_params.imageUUID = \\'__UNDEFINED__\\';\\n\\tcq_params.realm = \"BBLM\";\\n\\tcq_params.siteId = \"hannaandersson\";\\n\\tcq_params.instanceType = \"prd\";\\n\\tcq_params.queryLocale = \"default\";\\n\\tcq_params.locale = window.CQuotient.locale;\\n\\t\\n\\tif(window.CQuotient.sendActivity)\\n\\t    window.CQuotient.sendActivity(CQuotient.clientId, \\'viewCategory\\', cq_params);\\n\\telse\\n\\t    window.CQuotient.activities.push({\\n\\t    \\tactivityType: \\'viewCategory\\',\\n\\t    \\tparameters: cq_params\\n\\t    });\\n  }\\n} catch(err) {}\\n})();\\n/* ]]> */\\n// -->\\n</script>\\n<script type=\"text/javascript\">//<!--\\n/* <![CDATA[ (viewCategoryProduct-active_data.js) */\\n(function(){\\ntry {\\n\\tif (dw.ac) {\\n\\t\\tvar search_params = {};\\n\\t\\tsearch_params.persd = \\'true\\';\\n\\t\\tsearch_params.refs = \\'[{\\\\\"name\\\\\":\\\\\"Category\\\\\",\\\\\"value\\\\\":\\\\\"Sale\\\\\"}]\\';\\n\\t\\tsearch_params.sort = \\'default with margin\\';\\n\\t\\tsearch_params.imageUUID = \\'\\';\\n\\t\\tsearch_params.searchID = \\'dca90b78-6e03-44cd-bd85-10eaade06dfa\\';\\n\\t\\tsearch_params.locale = \\'default\\';\\n\\t\\tsearch_params.queryLocale = \\'default\\';\\n\\t\\tsearch_params.showProducts = \\'true\\';\\n\\t\\tdw.ac.applyContext({category: \"Sale\", searchData: search_params});\\n\\t\\tif (typeof dw.ac._scheduleDataSubmission === \"function\") {\\n\\t\\t\\tdw.ac._scheduleDataSubmission();\\n\\t\\t}\\n\\t}\\n} catch(err) {}\\n})();\\n/* ]]> */\\n// -->\\n</script>\\n<script type=\"text/javascript\">//<!--\\n/* <![CDATA[ (viewProduct-active_data.js) */\\ndw.ac._capture({id: \"57437-G43\", type: \"searchhit\"});\\n/* ]]> */\\n// -->\\n</script>\\n\\n\\n\\n\\n\\n\\n\\n\\n\\n\\n\\n\\n\\n\\n\\n\\n\\n\\n\\n\\n\\n\\n\\n\\n\\n\\n\\n\\n\\n\\n\\n\\n\\n\\n\\n\\n\\n\\n\\n\\n\\n\\n\\n\\n\\n\\n\\n\\n\\n\\n\\n\\n\\n\\n\\n\\n\\n\\n\\n\\n\\n\\n\\n\\n\\n\\n\\n\\n\\n\\n\\n\\n\\n\\n\\n\\n\\n\\n\\n\\n\\n\\n\\n\\n\\n\\n\\n\\n\\n\\n\\n\\n\\n\\n\\n\\n\\n\\n\\n\\n\\n\\n\\n\\n\\n\\n\\n\\n<!-- dwMarker=\"product\" dwContentID=\"3fdecbe721b0591ba85b667d77\" -->\\n<div class=\"product\" id=\"3fdecbe721b0591ba85b667d77\" data-itemid=\"57437-G43\" data-container=\"product\" data-analyticsuuid=\"4532558899590ad69ca1c26158\">\\n\\n\\n<script type=\"text/javascript\">\\nvar _analytics_4532558899590ad69ca1c26158 = {};\\nif(gtmAnalytics.productImpressions)\\n{\\n_analytics_4532558899590ad69ca1c26158 = {\\n\"id\" : \"57437-G43\",\\n\"name\" : \"Baby Snap Footed Sleeper In Organic Cotton\",\\n\"brand\" : \"Hanna Andersson\",\\n\"category\" : gtmAnalytics.analyticsBreadcrumb, // breadcrumb\\n\"variant\" : \"Happy Pink\",\\n\"location\" : gtmAnalytics.actionLocation,\\n\"productList\" : gtmAnalytics.productList,\\n\"list\" : gtmAnalytics.analyticsListType,\\n\"type\" : \\'variationGroup\\',\\n\"position\" : (gtmAnalytics.productImpressions.length + 1),\\n\"price\" : 0,\\n\"dimension1\" : \"57437-G43\",\\n\"dimension2\" : (gtmAnalytics.analyticsGridLoad >= 0 ? \"load-\"+gtmAnalytics.analyticsGridLoad : \"\"), // load Number (ajax lazy load)\\n\"dimension3\" : \"0.00\",\\n\"dimension4\" : gtmAnalytics.analyticsCategoryDivisionID,\\n\"dimension5\" : gtmAnalytics.analyticsCategoryID,\\n\"dimension6\" : gtmAnalytics.analyticsSubCategoryID,\\n\"dimension7\" : \"pajamas-baby\",\\n\"dimension8\" : false,\\n\"dimension9\" : \"4.5\",\\n\"dimension10\" : \"5.0\",\\n\"dimension11\" : \"available\"\\n};\\n}\\n</script>\\n<div class=\"product__image\">\\n\\n\\n\\n<a class=\"product__image--link thumb-link\" href=\"https://www.hannaandersson.com/pajamas-baby/57437-G43.html?dwvar_57437-G43_color=G43&amp;cgid=Sale\" title=\"Baby Snap Footed Sleeper In Organic Cotton\" data-product-id=\"57437-G43\" onclick=\"gtmAnalytics.submitProductImpressionClick(_analytics_4532558899590ad69ca1c26158, this, \\'image\\');\" aria-label=\"Image link for Happy Pink Baby Snap Footed Sleeper In Organic Cotton 57437-G43\">\\n<img class=\"pt-image lazyload\" src=\"https://www.hannaandersson.com/dw/image/v2/BBLM_PRD/on/demandware.static/-/Sites-master-catalog/default/dwd04293c9/images/main/57437/57437_G43_60_01.jpg?sw=369&amp;q=50\" data-src=\"https://www.hannaandersson.com/dw/image/v2/BBLM_PRD/on/demandware.static/-/Sites-master-catalog/default/dwd04293c9/images/main/57437/57437_G43_60_01.jpg?sw=369&amp;q=90\" alt=\"Product image for 57437-G43\" />\\n\\n<img class=\"alt-image lazyload\" src=\"https://www.hannaandersson.com/dw/image/v2/BBLM_PRD/on/demandware.static/-/Sites-master-catalog/default/dwbeb7052f/images/main/57437/57437_G43_60_10.jpg?sw=369&amp;q=50\" data-src=\"https://www.hannaandersson.com/dw/image/v2/BBLM_PRD/on/demandware.static/-/Sites-master-catalog/default/dwbeb7052f/images/main/57437/57437_G43_60_10.jpg?sw=369&amp;q=90\" alt=\"Alternate product image for 57437-G43\" />\\n\\n</a>\\n\\n\\n<a class=\"pqv-quickview-btn button is-quickview quickview quickbuy-btn product__quickview\" href=\"https://www.hannaandersson.com/pajamas-baby/57437-G43.html?dwvar_57437-G43_color=G43&amp;cgid=Sale&amp;type=quickbuy\" title=\"Baby Snap Footed Sleeper In Organic Cotton\" onclick=\"gtmAnalytics.submitProductImpressionClick(_analytics_4532558899590ad69ca1c26158, this, \\'image\\', \\'quickbuy\\');\" aria-label=\"Quick Buy Happy Pink Baby Snap Footed Sleeper In Organic Cotton 57437-G43\">\\nQuick Buy\\n</a>\\n\\n</div>\\n\\n<a itemprop=\"item\" class=\"product__name\" href=\"https://www.hannaandersson.com/pajamas-baby/57437-G43.html?dwvar_57437-G43_color=G43&amp;cgid=Sale\" onclick=\"gtmAnalytics.submitProductImpressionClick(_analytics_4532558899590ad69ca1c26158, this, \\'text\\');\" aria-label=\"Happy Pink Baby Snap Footed Sleeper In Organic Cotton 57437-G43\">\\n<span itemprop=\"name\">Baby Snap Footed Sleeper In Organic Cotton</span>\\n</a>\\n<div class=\"product__pricing \">\\n\\n\\n\\n\\n\\n\\n\\n\\n\\n\\n\\n\\n\\n\\n\\n\\n\\n\\n\\n\\n\\n\\n\\n\\n\\n\\n\\n\\n\\n\\n\\n\\n\\n\\n\\n\\n\\n\\n\\n\\n\\n\\n\\n\\n\\n\\n\\n\\n\\n\\n\\n\\n\\n\\n\\n\\n\\n\\n\\n\\n\\n\\n\\n\\n\\n\\n\\n\\n\\n\\n\\n\\n\\n\\n\\n\\n\\n\\n\\n\\n\\n\\n\\n\\n\\n\\n\\n\\n\\n\\n\\n\\n\\n\\n\\n\\n\\n\\n\\n\\n\\n\\n\\n\\n\\n\\n\\n\\n\\n\\n\\n\\n\\n\\n\\n\\n\\n\\n\\n\\n\\n\\n\\n\\n\\n\\n\\n\\n\\n\\n\\n\\n\\n\\n\\n\\n\\n\\n\\n\\n\\n\\n\\n\\n\\n\\n\\n\\n\\n\\n\\n\\n\\n\\n\\n\\n\\n\\n\\n\\n\\n\\n\\n\\n\\n\\n\\n\\n\\n\\n\\n\\n\\n\\n\\n\\n\\n<div class=\"pdo-product-price\">\\n\\n\\n\\n\\n\\n<span class=\"bfx-original-price pdo-price-standard\" tabindex=\"0\"><span class=\"visually-hidden\">Standard Price:</span>$40.00</span>\\n\\n\\n\\n<span class=\"bfx-price pdo-price-sales\" tabindex=\"0\"><span class=\"visually-hidden\">Sale Price:</span>$15.99</span>\\n\\n\\n\\n\\n\\n</div>\\n\\n\\n\\n\\n\\n\\n\\n\\n</div>\\n\\n<div class=\"product__swatches\">\\n<a class=\"product__swatches--link\" href=\"https://www.hannaandersson.com/pajamas-baby/57437-G43.html?dwvar_57437-G43_color=G43&amp;cgid=Sale\" title=\"Go to Product: Baby Snap Footed Sleeper In Organic Cotton\" onclick=\"gtmAnalytics.submitProductImpressionClick(_analytics_4532558899590ad69ca1c26158, this, \\'text\\');\" aria-label=\"More colors available for Baby Snap Footed Sleeper In Organic Cotton 57437-G43\" >\\n3 colors available\\n</a>\\n</div>\\n\\n\\n<div class=\"product__ratings\">\\n\\n\\n    <div class=\"TTteaser TTteaser-tile\" data-productid=\"57437-G43\" data-starrating=\"4.5\"></div>\\n\\n\\n</div>\\n\\n\\n<div class=\"product__promo product-promo pt-promo\">\\n\\n\\n</div>\\n\\n\\n\\n\\n\\n\\n<div class=\"gtm-analytics-product-tile\" data-salesprice=\"15.99\" data-standardprice=\"40.00\" style=\"display:none;\"></div>\\n<script>\\nif (gtmAnalytics.productImpressions && _analytics_4532558899590ad69ca1c26158) {\\n_analytics_4532558899590ad69ca1c26158.price = \"15.99\";\\n_analytics_4532558899590ad69ca1c26158.dimension3 = \"40.00\";\\ngtmAnalytics.productImpressions.push(_analytics_4532558899590ad69ca1c26158);\\n}\\n</script>\\n</div>\\n\\n\\n\\n\\n<meta itemprop=\"position\" content=\"18\" />\\n</div>\\n\\n\\n\\n\\n\\n\\n\\n\\n\\n<!-- Product Search Hit current-cat=\"pdict.category.ID\" search-query=\"null\" product=\"52315-A91\" product-classification-cat=\"root\" -->\\n\\n<div class=\"category-results__product\" data-container=\"product\" data-product-id=\"52315-A91\" data-colors-to-show=\"A91\" itemprop=\"itemListElement\" itemscope itemtype=\"http://schema.org/ListItem\">\\n\\n\\n\\n\\n<!-- CQuotient Activity Tracking (viewCategory-cquotient.js) -->\\n<script type=\"text/javascript\">//<!--\\n/* <![CDATA[ */\\n(function(){\\ntry {\\n    if(window.CQuotient) {\\n\\tvar cq_params = {};\\n\\t\\n\\tcq_params.cookieId = window.CQuotient.getCQCookieId();\\n\\tcq_params.userId = window.CQuotient.getCQUserId();\\n\\tcq_params.emailId = CQuotient.getCQHashedEmail();\\n\\tcq_params.loginId = CQuotient.getCQHashedLogin();\\n\\tcq_params.accumulate = true;\\n\\tcq_params.products = [{\\n\\t    id: \\'52315-A91\\',\\n\\t    sku: \\'\\'\\n\\t}];\\n\\tcq_params.categoryId = \\'Sale\\';\\n\\tcq_params.refinements = \\'[{\\\\\"name\\\\\":\\\\\"Category\\\\\",\\\\\"value\\\\\":\\\\\"Sale\\\\\"}]\\';\\n\\tcq_params.personalized = \\'true\\';\\n\\tcq_params.sortingRule = \\'default with margin\\';\\n\\tcq_params.imageUUID = \\'__UNDEFINED__\\';\\n\\tcq_params.realm = \"BBLM\";\\n\\tcq_params.siteId = \"hannaandersson\";\\n\\tcq_params.instanceType = \"prd\";\\n\\tcq_params.queryLocale = \"default\";\\n\\tcq_params.locale = window.CQuotient.locale;\\n\\t\\n\\tif(window.CQuotient.sendActivity)\\n\\t    window.CQuotient.sendActivity(CQuotient.clientId, \\'viewCategory\\', cq_params);\\n\\telse\\n\\t    window.CQuotient.activities.push({\\n\\t    \\tactivityType: \\'viewCategory\\',\\n\\t    \\tparameters: cq_params\\n\\t    });\\n  }\\n} catch(err) {}\\n})();\\n/* ]]> */\\n// -->\\n</script>\\n<script type=\"text/javascript\">//<!--\\n/* <![CDATA[ (viewCategoryProduct-active_data.js) */\\n(function(){\\ntry {\\n\\tif (dw.ac) {\\n\\t\\tvar search_params = {};\\n\\t\\tsearch_params.persd = \\'true\\';\\n\\t\\tsearch_params.refs = \\'[{\\\\\"name\\\\\":\\\\\"Category\\\\\",\\\\\"value\\\\\":\\\\\"Sale\\\\\"}]\\';\\n\\t\\tsearch_params.sort = \\'default with margin\\';\\n\\t\\tsearch_params.imageUUID = \\'\\';\\n\\t\\tsearch_params.searchID = \\'dca90b78-6e03-44cd-bd85-10eaade06dfa\\';\\n\\t\\tsearch_params.locale = \\'default\\';\\n\\t\\tsearch_params.queryLocale = \\'default\\';\\n\\t\\tsearch_params.showProducts = \\'true\\';\\n\\t\\tdw.ac.applyContext({category: \"Sale\", searchData: search_params});\\n\\t\\tif (typeof dw.ac._scheduleDataSubmission === \"function\") {\\n\\t\\t\\tdw.ac._scheduleDataSubmission();\\n\\t\\t}\\n\\t}\\n} catch(err) {}\\n})();\\n/* ]]> */\\n// -->\\n</script>\\n<script type=\"text/javascript\">//<!--\\n/* <![CDATA[ (viewProduct-active_data.js) */\\ndw.ac._capture({id: \"52315-A91\", type: \"searchhit\"});\\n/* ]]> */\\n// -->\\n</script>\\n\\n\\n\\n\\n\\n\\n\\n\\n\\n\\n\\n\\n\\n\\n\\n\\n\\n\\n\\n\\n\\n\\n\\n\\n\\n\\n\\n\\n\\n\\n\\n\\n\\n\\n\\n\\n\\n\\n\\n\\n\\n\\n\\n\\n\\n\\n\\n\\n\\n\\n\\n\\n\\n\\n\\n\\n\\n\\n\\n\\n\\n\\n\\n\\n\\n\\n\\n\\n\\n\\n\\n\\n\\n\\n\\n\\n\\n\\n\\n\\n\\n\\n\\n\\n\\n\\n\\n\\n\\n\\n\\n\\n\\n\\n\\n\\n\\n\\n\\n\\n\\n\\n\\n\\n\\n\\n\\n\\n<!-- dwMarker=\"product\" dwContentID=\"ca731e048e9d033d79f3d40e61\" -->\\n<div class=\"product\" id=\"ca731e048e9d033d79f3d40e61\" data-itemid=\"52315-A91\" data-container=\"product\" data-analyticsuuid=\"d23c6ee46ce764055ccd3866c7\">\\n\\n\\n<script type=\"text/javascript\">\\nvar _analytics_d23c6ee46ce764055ccd3866c7 = {};\\nif(gtmAnalytics.productImpressions)\\n{\\n_analytics_d23c6ee46ce764055ccd3866c7 = {\\n\"id\" : \"52315-A91\",\\n\"name\" : \"Baby Sweatpants In French Terry\",\\n\"brand\" : \"Hanna Andersson\",\\n\"category\" : gtmAnalytics.analyticsBreadcrumb, // breadcrumb\\n\"variant\" : \"Navy\",\\n\"location\" : gtmAnalytics.actionLocation,\\n\"productList\" : gtmAnalytics.productList,\\n\"list\" : gtmAnalytics.analyticsListType,\\n\"type\" : \\'variationGroup\\',\\n\"position\" : (gtmAnalytics.productImpressions.length + 1),\\n\"price\" : 0,\\n\"dimension1\" : \"52315-A91\",\\n\"dimension2\" : (gtmAnalytics.analyticsGridLoad >= 0 ? \"load-\"+gtmAnalytics.analyticsGridLoad : \"\"), // load Number (ajax lazy load)\\n\"dimension3\" : \"0.00\",\\n\"dimension4\" : gtmAnalytics.analyticsCategoryDivisionID,\\n\"dimension5\" : gtmAnalytics.analyticsCategoryID,\\n\"dimension6\" : gtmAnalytics.analyticsSubCategoryID,\\n\"dimension7\" : \"baby-girl-pants-leggings-shorts\",\\n\"dimension8\" : false,\\n\"dimension9\" : \"5.0\",\\n\"dimension10\" : \"103.0\",\\n\"dimension11\" : \"available\"\\n};\\n}\\n</script>\\n<div class=\"product__image\">\\n\\n\\n\\n<a class=\"product__image--link thumb-link\" href=\"https://www.hannaandersson.com/baby-girl-pants-leggings-shorts/52315-A91.html?dwvar_52315-A91_color=A91&amp;cgid=Sale\" title=\"Baby Sweatpants In French Terry\" data-product-id=\"52315-A91\" onclick=\"gtmAnalytics.submitProductImpressionClick(_analytics_d23c6ee46ce764055ccd3866c7, this, \\'image\\');\" aria-label=\"Image link for Navy Baby Sweatpants In French Terry 52315-A91\">\\n<img class=\"pt-image lazyload\" src=\"https://www.hannaandersson.com/dw/image/v2/BBLM_PRD/on/demandware.static/-/Sites-master-catalog/default/dw644418f4/images/main/52315/52315_A91_60_01.jpg?sw=369&amp;q=50\" data-src=\"https://www.hannaandersson.com/dw/image/v2/BBLM_PRD/on/demandware.static/-/Sites-master-catalog/default/dw644418f4/images/main/52315/52315_A91_60_01.jpg?sw=369&amp;q=90\" alt=\"Product image for 52315-A91\" />\\n\\n<img class=\"alt-image lazyload\" src=\"https://www.hannaandersson.com/dw/image/v2/BBLM_PRD/on/demandware.static/-/Sites-master-catalog/default/dwb353bc0d/images/main/52315/52315_A91_60_10.jpg?sw=369&amp;q=50\" data-src=\"https://www.hannaandersson.com/dw/image/v2/BBLM_PRD/on/demandware.static/-/Sites-master-catalog/default/dwb353bc0d/images/main/52315/52315_A91_60_10.jpg?sw=369&amp;q=90\" alt=\"Alternate product image for 52315-A91\" />\\n\\n</a>\\n\\n\\n<a class=\"pqv-quickview-btn button is-quickview quickview quickbuy-btn product__quickview\" href=\"https://www.hannaandersson.com/baby-girl-pants-leggings-shorts/52315-A91.html?dwvar_52315-A91_color=A91&amp;cgid=Sale&amp;type=quickbuy\" title=\"Baby Sweatpants In French Terry\" onclick=\"gtmAnalytics.submitProductImpressionClick(_analytics_d23c6ee46ce764055ccd3866c7, this, \\'image\\', \\'quickbuy\\');\" aria-label=\"Quick Buy Navy Baby Sweatpants In French Terry 52315-A91\">\\nQuick Buy\\n</a>\\n\\n</div>\\n\\n<a itemprop=\"item\" class=\"product__name\" href=\"https://www.hannaandersson.com/baby-girl-pants-leggings-shorts/52315-A91.html?dwvar_52315-A91_color=A91&amp;cgid=Sale\" onclick=\"gtmAnalytics.submitProductImpressionClick(_analytics_d23c6ee46ce764055ccd3866c7, this, \\'text\\');\" aria-label=\"Navy Baby Sweatpants In French Terry 52315-A91\">\\n<span itemprop=\"name\">Baby Sweatpants In French Terry</span>\\n</a>\\n<div class=\"product__pricing \">\\n\\n\\n\\n\\n\\n\\n\\n\\n\\n\\n\\n\\n\\n\\n\\n\\n\\n\\n\\n\\n\\n\\n\\n\\n\\n\\n\\n\\n\\n\\n\\n\\n\\n\\n\\n\\n\\n\\n\\n\\n\\n\\n\\n\\n\\n\\n\\n\\n\\n\\n\\n\\n\\n\\n\\n\\n\\n\\n\\n\\n\\n\\n\\n\\n\\n\\n\\n\\n\\n\\n\\n\\n\\n\\n\\n\\n\\n\\n\\n\\n\\n\\n\\n\\n\\n\\n\\n\\n\\n\\n\\n\\n\\n\\n\\n\\n\\n\\n\\n\\n\\n\\n\\n\\n\\n\\n\\n\\n\\n\\n\\n\\n\\n\\n\\n\\n\\n\\n\\n\\n\\n\\n\\n\\n\\n\\n\\n\\n\\n\\n\\n\\n\\n\\n\\n\\n\\n\\n\\n\\n\\n\\n\\n\\n\\n\\n\\n\\n\\n\\n\\n\\n\\n\\n\\n\\n\\n\\n\\n\\n\\n\\n\\n\\n\\n\\n\\n\\n\\n\\n\\n\\n\\n\\n\\n\\n\\n<div class=\"pdo-product-price\">\\n\\n\\n\\n\\n\\n<span class=\"bfx-original-price pdo-price-standard\" tabindex=\"0\"><span class=\"visually-hidden\">Standard Price:</span>$30.00</span>\\n\\n\\n\\n<span class=\"bfx-price pdo-price-sales\" tabindex=\"0\"><span class=\"visually-hidden\">Sale Price:</span>$15.00</span>\\n\\n\\n\\n\\n\\n</div>\\n\\n\\n\\n\\n\\n\\n\\n\\n</div>\\n\\n<div class=\"product__swatches\">\\n<a class=\"product__swatches--link\" href=\"https://www.hannaandersson.com/baby-girl-pants-leggings-shorts/52315-A91.html?dwvar_52315-A91_color=A91&amp;cgid=Sale\" title=\"Go to Product: Baby Sweatpants In French Terry\" onclick=\"gtmAnalytics.submitProductImpressionClick(_analytics_d23c6ee46ce764055ccd3866c7, this, \\'text\\');\" aria-label=\"More colors available for Baby Sweatpants In French Terry 52315-A91\" >\\n6 colors available\\n</a>\\n</div>\\n\\n\\n<div class=\"product__ratings\">\\n\\n\\n    <div class=\"TTteaser TTteaser-tile\" data-productid=\"52315-A91\" data-starrating=\"5.0\"></div>\\n\\n\\n</div>\\n\\n\\n<div class=\"product__promo product-promo pt-promo\">\\n\\n\\n</div>\\n\\n\\n\\n\\n\\n\\n<div class=\"gtm-analytics-product-tile\" data-salesprice=\"15.00\" data-standardprice=\"30.00\" style=\"display:none;\"></div>\\n<script>\\nif (gtmAnalytics.productImpressions && _analytics_d23c6ee46ce764055ccd3866c7) {\\n_analytics_d23c6ee46ce764055ccd3866c7.price = \"15.00\";\\n_analytics_d23c6ee46ce764055ccd3866c7.dimension3 = \"30.00\";\\ngtmAnalytics.productImpressions.push(_analytics_d23c6ee46ce764055ccd3866c7);\\n}\\n</script>\\n</div>\\n\\n\\n\\n\\n<meta itemprop=\"position\" content=\"19\" />\\n</div>\\n\\n\\n\\n\\n\\n\\n\\n\\n\\n<!-- Product Search Hit current-cat=\"pdict.category.ID\" search-query=\"null\" product=\"57436-Ql7\" product-classification-cat=\"root\" -->\\n\\n<div class=\"category-results__product\" data-container=\"product\" data-product-id=\"57436-Ql7\" data-colors-to-show=\"Ql7\" itemprop=\"itemListElement\" itemscope itemtype=\"http://schema.org/ListItem\">\\n\\n\\n\\n\\n<img class=\"category-results__product--badge lazyload\" data-src=\"/on/demandware.static/-/Sites-master-catalog/default/dwac26b1a4/images/product-badges/low-inventory-badge-LC.png\" src=\"data:image/gif;base64,R0lGODlhAQABAIAAAAAAAP///yH5BAEAAAAALAAAAAABAAEAAAIBRAA7\" alt=\"low inventory badge LC\" />\\n\\n\\n<!-- CQuotient Activity Tracking (viewCategory-cquotient.js) -->\\n<script type=\"text/javascript\">//<!--\\n/* <![CDATA[ */\\n(function(){\\ntry {\\n    if(window.CQuotient) {\\n\\tvar cq_params = {};\\n\\t\\n\\tcq_params.cookieId = window.CQuotient.getCQCookieId();\\n\\tcq_params.userId = window.CQuotient.getCQUserId();\\n\\tcq_params.emailId = CQuotient.getCQHashedEmail();\\n\\tcq_params.loginId = CQuotient.getCQHashedLogin();\\n\\tcq_params.accumulate = true;\\n\\tcq_params.products = [{\\n\\t    id: \\'57436-Ql7\\',\\n\\t    sku: \\'\\'\\n\\t}];\\n\\tcq_params.categoryId = \\'Sale\\';\\n\\tcq_params.refinements = \\'[{\\\\\"name\\\\\":\\\\\"Category\\\\\",\\\\\"value\\\\\":\\\\\"Sale\\\\\"}]\\';\\n\\tcq_params.personalized = \\'true\\';\\n\\tcq_params.sortingRule = \\'default with margin\\';\\n\\tcq_params.imageUUID = \\'__UNDEFINED__\\';\\n\\tcq_params.realm = \"BBLM\";\\n\\tcq_params.siteId = \"hannaandersson\";\\n\\tcq_params.instanceType = \"prd\";\\n\\tcq_params.queryLocale = \"default\";\\n\\tcq_params.locale = window.CQuotient.locale;\\n\\t\\n\\tif(window.CQuotient.sendActivity)\\n\\t    window.CQuotient.sendActivity(CQuotient.clientId, \\'viewCategory\\', cq_params);\\n\\telse\\n\\t    window.CQuotient.activities.push({\\n\\t    \\tactivityType: \\'viewCategory\\',\\n\\t    \\tparameters: cq_params\\n\\t    });\\n  }\\n} catch(err) {}\\n})();\\n/* ]]> */\\n// -->\\n</script>\\n<script type=\"text/javascript\">//<!--\\n/* <![CDATA[ (viewCategoryProduct-active_data.js) */\\n(function(){\\ntry {\\n\\tif (dw.ac) {\\n\\t\\tvar search_params = {};\\n\\t\\tsearch_params.persd = \\'true\\';\\n\\t\\tsearch_params.refs = \\'[{\\\\\"name\\\\\":\\\\\"Category\\\\\",\\\\\"value\\\\\":\\\\\"Sale\\\\\"}]\\';\\n\\t\\tsearch_params.sort = \\'default with margin\\';\\n\\t\\tsearch_params.imageUUID = \\'\\';\\n\\t\\tsearch_params.searchID = \\'dca90b78-6e03-44cd-bd85-10eaade06dfa\\';\\n\\t\\tsearch_params.locale = \\'default\\';\\n\\t\\tsearch_params.queryLocale = \\'default\\';\\n\\t\\tsearch_params.showProducts = \\'true\\';\\n\\t\\tdw.ac.applyContext({category: \"Sale\", searchData: search_params});\\n\\t\\tif (typeof dw.ac._scheduleDataSubmission === \"function\") {\\n\\t\\t\\tdw.ac._scheduleDataSubmission();\\n\\t\\t}\\n\\t}\\n} catch(err) {}\\n})();\\n/* ]]> */\\n// -->\\n</script>\\n<script type=\"text/javascript\">//<!--\\n/* <![CDATA[ (viewProduct-active_data.js) */\\ndw.ac._capture({id: \"57436-Ql7\", type: \"searchhit\"});\\n/* ]]> */\\n// -->\\n</script>\\n\\n\\n\\n\\n\\n\\n\\n\\n\\n\\n\\n\\n\\n\\n\\n\\n\\n\\n\\n\\n\\n\\n\\n\\n\\n\\n\\n\\n\\n\\n\\n\\n\\n\\n\\n\\n\\n\\n\\n\\n\\n\\n\\n\\n\\n\\n\\n\\n\\n\\n\\n\\n\\n\\n\\n\\n\\n\\n\\n\\n\\n\\n\\n\\n\\n\\n\\n\\n\\n\\n\\n\\n\\n\\n\\n\\n\\n\\n\\n\\n\\n\\n\\n\\n\\n\\n\\n\\n\\n\\n\\n\\n\\n\\n\\n\\n\\n\\n\\n\\n\\n\\n\\n\\n\\n\\n\\n\\n<!-- dwMarker=\"product\" dwContentID=\"f761a5047c69f72a1a867214e1\" -->\\n<div class=\"product\" id=\"f761a5047c69f72a1a867214e1\" data-itemid=\"57436-Ql7\" data-container=\"product\" data-analyticsuuid=\"35b9da2c42cd3ceb63ab3d620a\">\\n\\n\\n<script type=\"text/javascript\">\\nvar _analytics_35b9da2c42cd3ceb63ab3d620a = {};\\nif(gtmAnalytics.productImpressions)\\n{\\n_analytics_35b9da2c42cd3ceb63ab3d620a = {\\n\"id\" : \"57436-Ql7\",\\n\"name\" : \"Baby Snap Footed Sleeper In Organic Cotton\",\\n\"brand\" : \"Hanna Andersson\",\\n\"category\" : gtmAnalytics.analyticsBreadcrumb, // breadcrumb\\n\"variant\" : \"Fancy Frogs\",\\n\"location\" : gtmAnalytics.actionLocation,\\n\"productList\" : gtmAnalytics.productList,\\n\"list\" : gtmAnalytics.analyticsListType,\\n\"type\" : \\'variationGroup\\',\\n\"position\" : (gtmAnalytics.productImpressions.length + 1),\\n\"price\" : 0,\\n\"dimension1\" : \"57436-Ql7\",\\n\"dimension2\" : (gtmAnalytics.analyticsGridLoad >= 0 ? \"load-\"+gtmAnalytics.analyticsGridLoad : \"\"), // load Number (ajax lazy load)\\n\"dimension3\" : \"0.00\",\\n\"dimension4\" : gtmAnalytics.analyticsCategoryDivisionID,\\n\"dimension5\" : gtmAnalytics.analyticsCategoryID,\\n\"dimension6\" : gtmAnalytics.analyticsSubCategoryID,\\n\"dimension7\" : \"pajamas-baby\",\\n\"dimension8\" : false,\\n\"dimension9\" : \"5.0\",\\n\"dimension10\" : \"19.0\",\\n\"dimension11\" : \"available\"\\n};\\n}\\n</script>\\n<div class=\"product__image\">\\n\\n\\n\\n<a class=\"product__image--link thumb-link\" href=\"https://www.hannaandersson.com/pajamas-baby/57436-Ql7.html?dwvar_57436-Ql7_color=Ql7&amp;cgid=Sale\" title=\"Baby Snap Footed Sleeper In Organic Cotton\" data-product-id=\"57436-Ql7\" onclick=\"gtmAnalytics.submitProductImpressionClick(_analytics_35b9da2c42cd3ceb63ab3d620a, this, \\'image\\');\" aria-label=\"Image link for Fancy Frogs Baby Snap Footed Sleeper In Organic Cotton 57436-Ql7\">\\n<img class=\"pt-image lazyload\" src=\"https://www.hannaandersson.com/dw/image/v2/BBLM_PRD/on/demandware.static/-/Sites-master-catalog/default/dw49ebf22d/images/main/57436/57436_Ql7_60_01.jpg?sw=369&amp;q=50\" data-src=\"https://www.hannaandersson.com/dw/image/v2/BBLM_PRD/on/demandware.static/-/Sites-master-catalog/default/dw49ebf22d/images/main/57436/57436_Ql7_60_01.jpg?sw=369&amp;q=90\" alt=\"Product image for 57436-Ql7\" />\\n\\n<img class=\"alt-image lazyload\" src=\"https://www.hannaandersson.com/dw/image/v2/BBLM_PRD/on/demandware.static/-/Sites-master-catalog/default/dw5b60c37e/images/main/57436/57436_Ql7_60_05.jpg?sw=369&amp;q=50\" data-src=\"https://www.hannaandersson.com/dw/image/v2/BBLM_PRD/on/demandware.static/-/Sites-master-catalog/default/dw5b60c37e/images/main/57436/57436_Ql7_60_05.jpg?sw=369&amp;q=90\" alt=\"Alternate product image for 57436-Ql7\" />\\n\\n</a>\\n\\n\\n<a class=\"pqv-quickview-btn button is-quickview quickview quickbuy-btn product__quickview\" href=\"https://www.hannaandersson.com/pajamas-baby/57436-Ql7.html?dwvar_57436-Ql7_color=Ql7&amp;cgid=Sale&amp;type=quickbuy\" title=\"Baby Snap Footed Sleeper In Organic Cotton\" onclick=\"gtmAnalytics.submitProductImpressionClick(_analytics_35b9da2c42cd3ceb63ab3d620a, this, \\'image\\', \\'quickbuy\\');\" aria-label=\"Quick Buy Fancy Frogs Baby Snap Footed Sleeper In Organic Cotton 57436-Ql7\">\\nQuick Buy\\n</a>\\n\\n</div>\\n\\n<a itemprop=\"item\" class=\"product__name\" href=\"https://www.hannaandersson.com/pajamas-baby/57436-Ql7.html?dwvar_57436-Ql7_color=Ql7&amp;cgid=Sale\" onclick=\"gtmAnalytics.submitProductImpressionClick(_analytics_35b9da2c42cd3ceb63ab3d620a, this, \\'text\\');\" aria-label=\"Fancy Frogs Baby Snap Footed Sleeper In Organic Cotton 57436-Ql7\">\\n<span itemprop=\"name\">Baby Snap Footed Sleeper In Organic Cotton</span>\\n</a>\\n<div class=\"product__pricing \">\\n\\n\\n\\n\\n\\n\\n\\n\\n\\n\\n\\n\\n\\n\\n\\n\\n\\n\\n\\n\\n\\n\\n\\n\\n\\n\\n\\n\\n\\n\\n\\n\\n\\n\\n\\n\\n\\n\\n\\n\\n\\n\\n\\n\\n\\n\\n\\n\\n\\n\\n\\n\\n\\n\\n\\n\\n\\n\\n\\n\\n\\n\\n\\n\\n\\n\\n\\n\\n\\n\\n\\n\\n\\n\\n\\n\\n\\n\\n\\n\\n\\n\\n\\n\\n\\n\\n\\n\\n\\n\\n\\n\\n\\n\\n\\n\\n\\n\\n\\n\\n\\n\\n\\n\\n\\n\\n\\n\\n\\n\\n\\n\\n\\n\\n\\n\\n\\n\\n\\n\\n\\n\\n\\n\\n\\n\\n\\n\\n\\n\\n\\n\\n\\n\\n\\n\\n\\n\\n\\n\\n\\n\\n\\n\\n\\n\\n\\n\\n\\n\\n\\n\\n\\n\\n\\n\\n\\n\\n\\n\\n\\n\\n\\n\\n\\n\\n\\n\\n\\n\\n\\n\\n\\n\\n\\n\\n\\n<div class=\"pdo-product-price\">\\n\\n\\n\\n\\n\\n<span class=\"bfx-original-price pdo-price-standard\" tabindex=\"0\"><span class=\"visually-hidden\">Standard Price:</span>$40.00</span>\\n\\n\\n\\n<span class=\"bfx-price pdo-price-sales\" tabindex=\"0\"><span class=\"visually-hidden\">Sale Price:</span>$15.99</span>\\n\\n\\n\\n\\n\\n</div>\\n\\n\\n\\n\\n\\n\\n\\n\\n</div>\\n\\n<div class=\"product__swatches\">\\n<a class=\"product__swatches--link\" href=\"https://www.hannaandersson.com/pajamas-baby/57436-Ql7.html?dwvar_57436-Ql7_color=Ql7&amp;cgid=Sale\" title=\"Go to Product: Baby Snap Footed Sleeper In Organic Cotton\" onclick=\"gtmAnalytics.submitProductImpressionClick(_analytics_35b9da2c42cd3ceb63ab3d620a, this, \\'text\\');\" aria-label=\"More colors available for Baby Snap Footed Sleeper In Organic Cotton 57436-Ql7\" >\\n3 colors available\\n</a>\\n</div>\\n\\n\\n<div class=\"product__ratings\">\\n\\n\\n    <div class=\"TTteaser TTteaser-tile\" data-productid=\"57436-Ql7\" data-starrating=\"5.0\"></div>\\n\\n\\n</div>\\n\\n\\n<div class=\"product__promo product-promo pt-promo\">\\n\\n\\n</div>\\n\\n\\n\\n\\n\\n\\n<div class=\"gtm-analytics-product-tile\" data-salesprice=\"15.99\" data-standardprice=\"40.00\" style=\"display:none;\"></div>\\n<script>\\nif (gtmAnalytics.productImpressions && _analytics_35b9da2c42cd3ceb63ab3d620a) {\\n_analytics_35b9da2c42cd3ceb63ab3d620a.price = \"15.99\";\\n_analytics_35b9da2c42cd3ceb63ab3d620a.dimension3 = \"40.00\";\\ngtmAnalytics.productImpressions.push(_analytics_35b9da2c42cd3ceb63ab3d620a);\\n}\\n</script>\\n</div>\\n\\n\\n\\n\\n<meta itemprop=\"position\" content=\"20\" />\\n</div>\\n\\n\\n\\n\\n\\n\\n\\n\\n\\n<!-- Product Search Hit current-cat=\"pdict.category.ID\" search-query=\"null\" product=\"64345-61D\" product-classification-cat=\"root\" -->\\n\\n<div class=\"category-results__product\" data-container=\"product\" data-product-id=\"64345-61D\" data-colors-to-show=\"61D\" itemprop=\"itemListElement\" itemscope itemtype=\"http://schema.org/ListItem\">\\n\\n\\n\\n\\n<!-- CQuotient Activity Tracking (viewCategory-cquotient.js) -->\\n<script type=\"text/javascript\">//<!--\\n/* <![CDATA[ */\\n(function(){\\ntry {\\n    if(window.CQuotient) {\\n\\tvar cq_params = {};\\n\\t\\n\\tcq_params.cookieId = window.CQuotient.getCQCookieId();\\n\\tcq_params.userId = window.CQuotient.getCQUserId();\\n\\tcq_params.emailId = CQuotient.getCQHashedEmail();\\n\\tcq_params.loginId = CQuotient.getCQHashedLogin();\\n\\tcq_params.accumulate = true;\\n\\tcq_params.products = [{\\n\\t    id: \\'64345-61D\\',\\n\\t    sku: \\'\\'\\n\\t}];\\n\\tcq_params.categoryId = \\'Sale\\';\\n\\tcq_params.refinements = \\'[{\\\\\"name\\\\\":\\\\\"Category\\\\\",\\\\\"value\\\\\":\\\\\"Sale\\\\\"}]\\';\\n\\tcq_params.personalized = \\'true\\';\\n\\tcq_params.sortingRule = \\'default with margin\\';\\n\\tcq_params.imageUUID = \\'__UNDEFINED__\\';\\n\\tcq_params.realm = \"BBLM\";\\n\\tcq_params.siteId = \"hannaandersson\";\\n\\tcq_params.instanceType = \"prd\";\\n\\tcq_params.queryLocale = \"default\";\\n\\tcq_params.locale = window.CQuotient.locale;\\n\\t\\n\\tif(window.CQuotient.sendActivity)\\n\\t    window.CQuotient.sendActivity(CQuotient.clientId, \\'viewCategory\\', cq_params);\\n\\telse\\n\\t    window.CQuotient.activities.push({\\n\\t    \\tactivityType: \\'viewCategory\\',\\n\\t    \\tparameters: cq_params\\n\\t    });\\n  }\\n} catch(err) {}\\n})();\\n/* ]]> */\\n// -->\\n</script>\\n<script type=\"text/javascript\">//<!--\\n/* <![CDATA[ (viewCategoryProduct-active_data.js) */\\n(function(){\\ntry {\\n\\tif (dw.ac) {\\n\\t\\tvar search_params = {};\\n\\t\\tsearch_params.persd = \\'true\\';\\n\\t\\tsearch_params.refs = \\'[{\\\\\"name\\\\\":\\\\\"Category\\\\\",\\\\\"value\\\\\":\\\\\"Sale\\\\\"}]\\';\\n\\t\\tsearch_params.sort = \\'default with margin\\';\\n\\t\\tsearch_params.imageUUID = \\'\\';\\n\\t\\tsearch_params.searchID = \\'dca90b78-6e03-44cd-bd85-10eaade06dfa\\';\\n\\t\\tsearch_params.locale = \\'default\\';\\n\\t\\tsearch_params.queryLocale = \\'default\\';\\n\\t\\tsearch_params.showProducts = \\'true\\';\\n\\t\\tdw.ac.applyContext({category: \"Sale\", searchData: search_params});\\n\\t\\tif (typeof dw.ac._scheduleDataSubmission === \"function\") {\\n\\t\\t\\tdw.ac._scheduleDataSubmission();\\n\\t\\t}\\n\\t}\\n} catch(err) {}\\n})();\\n/* ]]> */\\n// -->\\n</script>\\n<script type=\"text/javascript\">//<!--\\n/* <![CDATA[ (viewProduct-active_data.js) */\\ndw.ac._capture({id: \"64345-61D\", type: \"searchhit\"});\\n/* ]]> */\\n// -->\\n</script>\\n\\n\\n\\n\\n\\n\\n\\n\\n\\n\\n\\n\\n\\n\\n\\n\\n\\n\\n\\n\\n\\n\\n\\n\\n\\n\\n\\n\\n\\n\\n\\n\\n\\n\\n\\n\\n\\n\\n\\n\\n\\n\\n\\n\\n\\n\\n\\n\\n\\n\\n\\n\\n\\n\\n\\n\\n\\n\\n\\n\\n\\n\\n\\n\\n\\n\\n\\n\\n\\n\\n\\n\\n\\n\\n\\n\\n\\n\\n\\n\\n\\n\\n\\n\\n\\n\\n\\n\\n\\n\\n\\n\\n\\n\\n\\n\\n\\n\\n\\n\\n\\n\\n\\n\\n\\n\\n\\n\\n<!-- dwMarker=\"product\" dwContentID=\"e6b78fca7b974a7b6f5f8f47af\" -->\\n<div class=\"product\" id=\"e6b78fca7b974a7b6f5f8f47af\" data-itemid=\"64345-61D\" data-container=\"product\" data-analyticsuuid=\"8f1aae1e3643a5284438698aad\">\\n\\n\\n<script type=\"text/javascript\">\\nvar _analytics_8f1aae1e3643a5284438698aad = {};\\nif(gtmAnalytics.productImpressions)\\n{\\n_analytics_8f1aae1e3643a5284438698aad = {\\n\"id\" : \"64345-61D\",\\n\"name\" : \"Woven Canvas Pants\",\\n\"brand\" : \"Hanna Andersson\",\\n\"category\" : gtmAnalytics.analyticsBreadcrumb, // breadcrumb\\n\"variant\" : \"Deep Olive\",\\n\"location\" : gtmAnalytics.actionLocation,\\n\"productList\" : gtmAnalytics.productList,\\n\"list\" : gtmAnalytics.analyticsListType,\\n\"type\" : \\'variationGroup\\',\\n\"position\" : (gtmAnalytics.productImpressions.length + 1),\\n\"price\" : 0,\\n\"dimension1\" : \"64345-61D\",\\n\"dimension2\" : (gtmAnalytics.analyticsGridLoad >= 0 ? \"load-\"+gtmAnalytics.analyticsGridLoad : \"\"), // load Number (ajax lazy load)\\n\"dimension3\" : \"0.00\",\\n\"dimension4\" : gtmAnalytics.analyticsCategoryDivisionID,\\n\"dimension5\" : gtmAnalytics.analyticsCategoryID,\\n\"dimension6\" : gtmAnalytics.analyticsSubCategoryID,\\n\"dimension7\" : \"boys-clothing-pants-shorts\",\\n\"dimension8\" : false,\\n\"dimension9\" : \"no ratings\",\\n\"dimension10\" : \"no reviews\",\\n\"dimension11\" : \"available\"\\n};\\n}\\n</script>\\n<div class=\"product__image\">\\n\\n\\n\\n<a class=\"product__image--link thumb-link\" href=\"https://www.hannaandersson.com/boys-clothing-pants-shorts/64345-61D.html?dwvar_64345-61D_color=61D&amp;cgid=Sale\" title=\"Woven Canvas Pants\" data-product-id=\"64345-61D\" onclick=\"gtmAnalytics.submitProductImpressionClick(_analytics_8f1aae1e3643a5284438698aad, this, \\'image\\');\" aria-label=\"Image link for Deep Olive Woven Canvas Pants 64345-61D\">\\n<img class=\"pt-image lazyload\" src=\"https://www.hannaandersson.com/dw/image/v2/BBLM_PRD/on/demandware.static/-/Sites-master-catalog/default/dw807f4e63/images/main/64345/64345_61D_110_01.jpg?sw=369&amp;q=50\" data-src=\"https://www.hannaandersson.com/dw/image/v2/BBLM_PRD/on/demandware.static/-/Sites-master-catalog/default/dw807f4e63/images/main/64345/64345_61D_110_01.jpg?sw=369&amp;q=90\" alt=\"Product image for 64345-61D\" />\\n\\n</a>\\n\\n\\n<a class=\"pqv-quickview-btn button is-quickview quickview quickbuy-btn product__quickview\" href=\"https://www.hannaandersson.com/boys-clothing-pants-shorts/64345-61D.html?dwvar_64345-61D_color=61D&amp;cgid=Sale&amp;type=quickbuy\" title=\"Woven Canvas Pants\" onclick=\"gtmAnalytics.submitProductImpressionClick(_analytics_8f1aae1e3643a5284438698aad, this, \\'image\\', \\'quickbuy\\');\" aria-label=\"Quick Buy Deep Olive Woven Canvas Pants 64345-61D\">\\nQuick Buy\\n</a>\\n\\n</div>\\n\\n<a itemprop=\"item\" class=\"product__name\" href=\"https://www.hannaandersson.com/boys-clothing-pants-shorts/64345-61D.html?dwvar_64345-61D_color=61D&amp;cgid=Sale\" onclick=\"gtmAnalytics.submitProductImpressionClick(_analytics_8f1aae1e3643a5284438698aad, this, \\'text\\');\" aria-label=\"Deep Olive Woven Canvas Pants 64345-61D\">\\n<span itemprop=\"name\">Woven Canvas Pants</span>\\n</a>\\n<div class=\"product__pricing \">\\n\\n\\n\\n\\n\\n\\n\\n\\n\\n\\n\\n\\n\\n\\n\\n\\n\\n\\n\\n\\n\\n\\n\\n\\n\\n\\n\\n\\n\\n\\n\\n\\n\\n\\n\\n\\n\\n\\n\\n\\n\\n\\n\\n\\n\\n\\n\\n\\n\\n\\n\\n\\n\\n\\n\\n\\n\\n\\n\\n\\n\\n\\n\\n\\n\\n\\n\\n\\n\\n\\n\\n\\n\\n\\n\\n\\n\\n\\n\\n\\n\\n\\n\\n\\n\\n\\n\\n\\n\\n\\n\\n\\n\\n\\n\\n\\n\\n\\n\\n\\n\\n\\n\\n\\n\\n\\n\\n\\n\\n\\n\\n\\n\\n\\n\\n\\n\\n\\n\\n\\n\\n\\n\\n\\n\\n\\n\\n\\n\\n\\n\\n\\n\\n\\n\\n\\n\\n\\n\\n\\n\\n\\n\\n\\n\\n\\n\\n\\n\\n\\n\\n\\n\\n\\n\\n\\n\\n\\n\\n\\n\\n\\n\\n\\n\\n\\n\\n\\n\\n\\n\\n\\n\\n\\n\\n\\n\\n<div class=\"pdo-product-price\">\\n\\n\\n\\n\\n\\n<span class=\"bfx-original-price pdo-price-standard\" tabindex=\"0\"><span class=\"visually-hidden\">Standard Price:</span>$50.00</span>\\n\\n\\n\\n<span class=\"bfx-price pdo-price-sales\" tabindex=\"0\"><span class=\"visually-hidden\">Sale Price:</span>$19.99</span>\\n\\n\\n\\n\\n\\n</div>\\n\\n\\n\\n\\n\\n\\n\\n\\n</div>\\n\\n<div class=\"product__swatches\">\\n<a class=\"product__swatches--link\" href=\"https://www.hannaandersson.com/boys-clothing-pants-shorts/64345-61D.html?dwvar_64345-61D_color=61D&amp;cgid=Sale\" title=\"Go to Product: Woven Canvas Pants\" onclick=\"gtmAnalytics.submitProductImpressionClick(_analytics_8f1aae1e3643a5284438698aad, this, \\'text\\');\" aria-label=\"More colors available for Woven Canvas Pants 64345-61D\" >\\n2 colors available\\n</a>\\n</div>\\n\\n\\n<div class=\"product__ratings\">\\n\\n\\n\\n</div>\\n\\n\\n<div class=\"product__promo product-promo pt-promo\">\\n\\n\\n</div>\\n\\n\\n\\n\\n\\n\\n<div class=\"gtm-analytics-product-tile\" data-salesprice=\"19.99\" data-standardprice=\"50.00\" style=\"display:none;\"></div>\\n<script>\\nif (gtmAnalytics.productImpressions && _analytics_8f1aae1e3643a5284438698aad) {\\n_analytics_8f1aae1e3643a5284438698aad.price = \"19.99\";\\n_analytics_8f1aae1e3643a5284438698aad.dimension3 = \"50.00\";\\ngtmAnalytics.productImpressions.push(_analytics_8f1aae1e3643a5284438698aad);\\n}\\n</script>\\n</div>\\n\\n\\n\\n\\n<meta itemprop=\"position\" content=\"21\" />\\n</div>\\n\\n\\n\\n\\n\\n\\n\\n\\n\\n<!-- Product Search Hit current-cat=\"pdict.category.ID\" search-query=\"null\" product=\"60481-990\" product-classification-cat=\"root\" -->\\n\\n<div class=\"category-results__product\" data-container=\"product\" data-product-id=\"60481-990\" data-colors-to-show=\"990\" itemprop=\"itemListElement\" itemscope itemtype=\"http://schema.org/ListItem\">\\n\\n\\n\\n\\n<!-- CQuotient Activity Tracking (viewCategory-cquotient.js) -->\\n<script type=\"text/javascript\">//<!--\\n/* <![CDATA[ */\\n(function(){\\ntry {\\n    if(window.CQuotient) {\\n\\tvar cq_params = {};\\n\\t\\n\\tcq_params.cookieId = window.CQuotient.getCQCookieId();\\n\\tcq_params.userId = window.CQuotient.getCQUserId();\\n\\tcq_params.emailId = CQuotient.getCQHashedEmail();\\n\\tcq_params.loginId = CQuotient.getCQHashedLogin();\\n\\tcq_params.accumulate = true;\\n\\tcq_params.products = [{\\n\\t    id: \\'60481-990\\',\\n\\t    sku: \\'\\'\\n\\t}];\\n\\tcq_params.categoryId = \\'Sale\\';\\n\\tcq_params.refinements = \\'[{\\\\\"name\\\\\":\\\\\"Category\\\\\",\\\\\"value\\\\\":\\\\\"Sale\\\\\"}]\\';\\n\\tcq_params.personalized = \\'true\\';\\n\\tcq_params.sortingRule = \\'default with margin\\';\\n\\tcq_params.imageUUID = \\'__UNDEFINED__\\';\\n\\tcq_params.realm = \"BBLM\";\\n\\tcq_params.siteId = \"hannaandersson\";\\n\\tcq_params.instanceType = \"prd\";\\n\\tcq_params.queryLocale = \"default\";\\n\\tcq_params.locale = window.CQuotient.locale;\\n\\t\\n\\tif(window.CQuotient.sendActivity)\\n\\t    window.CQuotient.sendActivity(CQuotient.clientId, \\'viewCategory\\', cq_params);\\n\\telse\\n\\t    window.CQuotient.activities.push({\\n\\t    \\tactivityType: \\'viewCategory\\',\\n\\t    \\tparameters: cq_params\\n\\t    });\\n  }\\n} catch(err) {}\\n})();\\n/* ]]> */\\n// -->\\n</script>\\n<script type=\"text/javascript\">//<!--\\n/* <![CDATA[ (viewCategoryProduct-active_data.js) */\\n(function(){\\ntry {\\n\\tif (dw.ac) {\\n\\t\\tvar search_params = {};\\n\\t\\tsearch_params.persd = \\'true\\';\\n\\t\\tsearch_params.refs = \\'[{\\\\\"name\\\\\":\\\\\"Category\\\\\",\\\\\"value\\\\\":\\\\\"Sale\\\\\"}]\\';\\n\\t\\tsearch_params.sort = \\'default with margin\\';\\n\\t\\tsearch_params.imageUUID = \\'\\';\\n\\t\\tsearch_params.searchID = \\'dca90b78-6e03-44cd-bd85-10eaade06dfa\\';\\n\\t\\tsearch_params.locale = \\'default\\';\\n\\t\\tsearch_params.queryLocale = \\'default\\';\\n\\t\\tsearch_params.showProducts = \\'true\\';\\n\\t\\tdw.ac.applyContext({category: \"Sale\", searchData: search_params});\\n\\t\\tif (typeof dw.ac._scheduleDataSubmission === \"function\") {\\n\\t\\t\\tdw.ac._scheduleDataSubmission();\\n\\t\\t}\\n\\t}\\n} catch(err) {}\\n})();\\n/* ]]> */\\n// -->\\n</script>\\n<script type=\"text/javascript\">//<!--\\n/* <![CDATA[ (viewProduct-active_data.js) */\\ndw.ac._capture({id: \"60481-990\", type: \"searchhit\"});\\n/* ]]> */\\n// -->\\n</script>\\n\\n\\n\\n\\n\\n\\n\\n\\n\\n\\n\\n\\n\\n\\n\\n\\n\\n\\n\\n\\n\\n\\n\\n\\n\\n\\n\\n\\n\\n\\n\\n\\n\\n\\n\\n\\n\\n\\n\\n\\n\\n\\n\\n\\n\\n\\n\\n\\n\\n\\n\\n\\n\\n\\n\\n\\n\\n\\n\\n\\n\\n\\n\\n\\n\\n\\n\\n\\n\\n\\n\\n\\n\\n\\n\\n\\n\\n\\n\\n\\n\\n\\n\\n\\n\\n\\n\\n\\n\\n\\n\\n\\n\\n\\n\\n\\n\\n\\n\\n\\n\\n\\n\\n\\n\\n\\n\\n\\n<!-- dwMarker=\"product\" dwContentID=\"371bfc697788ae56eeffc76c9f\" -->\\n<div class=\"product\" id=\"371bfc697788ae56eeffc76c9f\" data-itemid=\"60481-990\" data-container=\"product\" data-analyticsuuid=\"861665a0347078b37093b78b39\">\\n\\n\\n<script type=\"text/javascript\">\\nvar _analytics_861665a0347078b37093b78b39 = {};\\nif(gtmAnalytics.productImpressions)\\n{\\n_analytics_861665a0347078b37093b78b39 = {\\n\"id\" : \"60481-990\",\\n\"name\" : \"Athletic Shorts\",\\n\"brand\" : \"Hanna Andersson\",\\n\"category\" : gtmAnalytics.analyticsBreadcrumb, // breadcrumb\\n\"variant\" : \"Multi\",\\n\"location\" : gtmAnalytics.actionLocation,\\n\"productList\" : gtmAnalytics.productList,\\n\"list\" : gtmAnalytics.analyticsListType,\\n\"type\" : \\'variationGroup\\',\\n\"position\" : (gtmAnalytics.productImpressions.length + 1),\\n\"price\" : 0,\\n\"dimension1\" : \"60481-990\",\\n\"dimension2\" : (gtmAnalytics.analyticsGridLoad >= 0 ? \"load-\"+gtmAnalytics.analyticsGridLoad : \"\"), // load Number (ajax lazy load)\\n\"dimension3\" : \"0.00\",\\n\"dimension4\" : gtmAnalytics.analyticsCategoryDivisionID,\\n\"dimension5\" : gtmAnalytics.analyticsCategoryID,\\n\"dimension6\" : gtmAnalytics.analyticsSubCategoryID,\\n\"dimension7\" : \"boys-clothing-shorts\",\\n\"dimension8\" : false,\\n\"dimension9\" : \"3.5\",\\n\"dimension10\" : \"2.0\",\\n\"dimension11\" : \"available\"\\n};\\n}\\n</script>\\n<div class=\"product__image\">\\n\\n\\n\\n<a class=\"product__image--link thumb-link\" href=\"https://www.hannaandersson.com/boys-clothing-shorts/60481-990.html?dwvar_60481-990_color=990&amp;cgid=Sale\" title=\"Athletic Shorts\" data-product-id=\"60481-990\" onclick=\"gtmAnalytics.submitProductImpressionClick(_analytics_861665a0347078b37093b78b39, this, \\'image\\');\" aria-label=\"Image link for Multi Athletic Shorts 60481-990\">\\n<img class=\"pt-image lazyload\" src=\"https://www.hannaandersson.com/dw/image/v2/BBLM_PRD/on/demandware.static/-/Sites-master-catalog/default/dwa631f4e0/images/main/60481/60481_990_110_01.jpg?sw=369&amp;q=50\" data-src=\"https://www.hannaandersson.com/dw/image/v2/BBLM_PRD/on/demandware.static/-/Sites-master-catalog/default/dwa631f4e0/images/main/60481/60481_990_110_01.jpg?sw=369&amp;q=90\" alt=\"Product image for 60481-990\" />\\n\\n</a>\\n\\n\\n<a class=\"pqv-quickview-btn button is-quickview quickview quickbuy-btn product__quickview\" href=\"https://www.hannaandersson.com/boys-clothing-shorts/60481-990.html?dwvar_60481-990_color=990&amp;cgid=Sale&amp;type=quickbuy\" title=\"Athletic Shorts\" onclick=\"gtmAnalytics.submitProductImpressionClick(_analytics_861665a0347078b37093b78b39, this, \\'image\\', \\'quickbuy\\');\" aria-label=\"Quick Buy Multi Athletic Shorts 60481-990\">\\nQuick Buy\\n</a>\\n\\n</div>\\n\\n<a itemprop=\"item\" class=\"product__name\" href=\"https://www.hannaandersson.com/boys-clothing-shorts/60481-990.html?dwvar_60481-990_color=990&amp;cgid=Sale\" onclick=\"gtmAnalytics.submitProductImpressionClick(_analytics_861665a0347078b37093b78b39, this, \\'text\\');\" aria-label=\"Multi Athletic Shorts 60481-990\">\\n<span itemprop=\"name\">Athletic Shorts</span>\\n</a>\\n<div class=\"product__pricing \">\\n\\n\\n\\n\\n\\n\\n\\n\\n\\n\\n\\n\\n\\n\\n\\n\\n\\n\\n\\n\\n\\n\\n\\n\\n\\n\\n\\n\\n\\n\\n\\n\\n\\n\\n\\n\\n\\n\\n\\n\\n\\n\\n\\n\\n\\n\\n\\n\\n\\n\\n\\n\\n\\n\\n\\n\\n\\n\\n\\n\\n\\n\\n\\n\\n\\n\\n\\n\\n\\n\\n\\n\\n\\n\\n\\n\\n\\n\\n\\n\\n\\n\\n\\n\\n\\n\\n\\n\\n\\n\\n\\n\\n\\n\\n\\n\\n\\n\\n\\n\\n\\n\\n\\n\\n\\n\\n\\n\\n\\n\\n\\n\\n\\n\\n\\n\\n\\n\\n\\n\\n\\n\\n\\n\\n\\n\\n\\n\\n\\n\\n\\n\\n\\n\\n\\n\\n\\n\\n\\n\\n\\n\\n\\n\\n\\n\\n\\n\\n\\n\\n\\n\\n\\n\\n\\n\\n\\n\\n\\n\\n\\n\\n\\n\\n\\n\\n\\n\\n\\n\\n\\n\\n\\n\\n\\n\\n\\n<div class=\"pdo-product-price\">\\n\\n\\n\\n\\n\\n<span class=\"bfx-original-price pdo-price-standard\" tabindex=\"0\"><span class=\"visually-hidden\">Standard Price:</span>$38.00</span>\\n\\n\\n\\n<span class=\"bfx-price pdo-price-sales\" tabindex=\"0\"><span class=\"visually-hidden\">Sale Price:</span>$14.99</span>\\n\\n\\n\\n\\n\\n</div>\\n\\n\\n\\n\\n\\n\\n\\n\\n</div>\\n\\n<div class=\"product__swatches\">\\n<a class=\"product__swatches--link\" href=\"https://www.hannaandersson.com/boys-clothing-shorts/60481-990.html?dwvar_60481-990_color=990&amp;cgid=Sale\" title=\"Go to Product: Athletic Shorts\" onclick=\"gtmAnalytics.submitProductImpressionClick(_analytics_861665a0347078b37093b78b39, this, \\'text\\');\" aria-label=\"More colors available for Athletic Shorts 60481-990\" >\\n2 colors available\\n</a>\\n</div>\\n\\n\\n<div class=\"product__ratings\">\\n\\n\\n    <div class=\"TTteaser TTteaser-tile\" data-productid=\"60481-990\" data-starrating=\"3.5\"></div>\\n\\n\\n</div>\\n\\n\\n<div class=\"product__promo product-promo pt-promo\">\\n\\n\\n</div>\\n\\n\\n\\n\\n\\n\\n<div class=\"gtm-analytics-product-tile\" data-salesprice=\"14.99\" data-standardprice=\"38.00\" style=\"display:none;\"></div>\\n<script>\\nif (gtmAnalytics.productImpressions && _analytics_861665a0347078b37093b78b39) {\\n_analytics_861665a0347078b37093b78b39.price = \"14.99\";\\n_analytics_861665a0347078b37093b78b39.dimension3 = \"38.00\";\\ngtmAnalytics.productImpressions.push(_analytics_861665a0347078b37093b78b39);\\n}\\n</script>\\n</div>\\n\\n\\n\\n\\n<meta itemprop=\"position\" content=\"22\" />\\n</div>\\n\\n\\n\\n\\n\\n\\n\\n\\n\\n<!-- Product Search Hit current-cat=\"pdict.category.ID\" search-query=\"null\" product=\"62301-GD8\" product-classification-cat=\"root\" -->\\n\\n<div class=\"category-results__product\" data-container=\"product\" data-product-id=\"62301-GD8\" data-colors-to-show=\"GD8\" itemprop=\"itemListElement\" itemscope itemtype=\"http://schema.org/ListItem\">\\n\\n\\n\\n\\n<!-- CQuotient Activity Tracking (viewCategory-cquotient.js) -->\\n<script type=\"text/javascript\">//<!--\\n/* <![CDATA[ */\\n(function(){\\ntry {\\n    if(window.CQuotient) {\\n\\tvar cq_params = {};\\n\\t\\n\\tcq_params.cookieId = window.CQuotient.getCQCookieId();\\n\\tcq_params.userId = window.CQuotient.getCQUserId();\\n\\tcq_params.emailId = CQuotient.getCQHashedEmail();\\n\\tcq_params.loginId = CQuotient.getCQHashedLogin();\\n\\tcq_params.accumulate = true;\\n\\tcq_params.products = [{\\n\\t    id: \\'62301-GD8\\',\\n\\t    sku: \\'\\'\\n\\t}];\\n\\tcq_params.categoryId = \\'Sale\\';\\n\\tcq_params.refinements = \\'[{\\\\\"name\\\\\":\\\\\"Category\\\\\",\\\\\"value\\\\\":\\\\\"Sale\\\\\"}]\\';\\n\\tcq_params.personalized = \\'true\\';\\n\\tcq_params.sortingRule = \\'default with margin\\';\\n\\tcq_params.imageUUID = \\'__UNDEFINED__\\';\\n\\tcq_params.realm = \"BBLM\";\\n\\tcq_params.siteId = \"hannaandersson\";\\n\\tcq_params.instanceType = \"prd\";\\n\\tcq_params.queryLocale = \"default\";\\n\\tcq_params.locale = window.CQuotient.locale;\\n\\t\\n\\tif(window.CQuotient.sendActivity)\\n\\t    window.CQuotient.sendActivity(CQuotient.clientId, \\'viewCategory\\', cq_params);\\n\\telse\\n\\t    window.CQuotient.activities.push({\\n\\t    \\tactivityType: \\'viewCategory\\',\\n\\t    \\tparameters: cq_params\\n\\t    });\\n  }\\n} catch(err) {}\\n})();\\n/* ]]> */\\n// -->\\n</script>\\n<script type=\"text/javascript\">//<!--\\n/* <![CDATA[ (viewCategoryProduct-active_data.js) */\\n(function(){\\ntry {\\n\\tif (dw.ac) {\\n\\t\\tvar search_params = {};\\n\\t\\tsearch_params.persd = \\'true\\';\\n\\t\\tsearch_params.refs = \\'[{\\\\\"name\\\\\":\\\\\"Category\\\\\",\\\\\"value\\\\\":\\\\\"Sale\\\\\"}]\\';\\n\\t\\tsearch_params.sort = \\'default with margin\\';\\n\\t\\tsearch_params.imageUUID = \\'\\';\\n\\t\\tsearch_params.searchID = \\'dca90b78-6e03-44cd-bd85-10eaade06dfa\\';\\n\\t\\tsearch_params.locale = \\'default\\';\\n\\t\\tsearch_params.queryLocale = \\'default\\';\\n\\t\\tsearch_params.showProducts = \\'true\\';\\n\\t\\tdw.ac.applyContext({category: \"Sale\", searchData: search_params});\\n\\t\\tif (typeof dw.ac._scheduleDataSubmission === \"function\") {\\n\\t\\t\\tdw.ac._scheduleDataSubmission();\\n\\t\\t}\\n\\t}\\n} catch(err) {}\\n})();\\n/* ]]> */\\n// -->\\n</script>\\n<script type=\"text/javascript\">//<!--\\n/* <![CDATA[ (viewProduct-active_data.js) */\\ndw.ac._capture({id: \"62301-GD8\", type: \"searchhit\"});\\n/* ]]> */\\n// -->\\n</script>\\n\\n\\n\\n\\n\\n\\n\\n\\n\\n\\n\\n\\n\\n\\n\\n\\n\\n\\n\\n\\n\\n\\n\\n\\n\\n\\n\\n\\n\\n\\n\\n\\n\\n\\n\\n\\n\\n\\n\\n\\n\\n\\n\\n\\n\\n\\n\\n\\n\\n\\n\\n\\n\\n\\n\\n\\n\\n\\n\\n\\n\\n\\n\\n\\n\\n\\n\\n\\n\\n\\n\\n\\n\\n\\n\\n\\n\\n\\n\\n\\n\\n\\n\\n\\n\\n\\n\\n\\n\\n\\n\\n\\n\\n\\n\\n\\n\\n\\n\\n\\n\\n\\n\\n\\n\\n\\n\\n\\n<!-- dwMarker=\"product\" dwContentID=\"3c85d653f0a96f2683299a58dc\" -->\\n<div class=\"product\" id=\"3c85d653f0a96f2683299a58dc\" data-itemid=\"62301-GD8\" data-container=\"product\" data-analyticsuuid=\"c18b83461991927152b603ff56\">\\n\\n\\n<script type=\"text/javascript\">\\nvar _analytics_c18b83461991927152b603ff56 = {};\\nif(gtmAnalytics.productImpressions)\\n{\\n_analytics_c18b83461991927152b603ff56 = {\\n\"id\" : \"62301-GD8\",\\n\"name\" : \"Disney Princess Lunch Bag\",\\n\"brand\" : \"Hanna Andersson\",\\n\"category\" : gtmAnalytics.analyticsBreadcrumb, // breadcrumb\\n\"variant\" : \"Rapunzel\",\\n\"location\" : gtmAnalytics.actionLocation,\\n\"productList\" : gtmAnalytics.productList,\\n\"list\" : gtmAnalytics.analyticsListType,\\n\"type\" : \\'variationGroup\\',\\n\"position\" : (gtmAnalytics.productImpressions.length + 1),\\n\"price\" : 0,\\n\"dimension1\" : \"62301-GD8\",\\n\"dimension2\" : (gtmAnalytics.analyticsGridLoad >= 0 ? \"load-\"+gtmAnalytics.analyticsGridLoad : \"\"), // load Number (ajax lazy load)\\n\"dimension3\" : \"0.00\",\\n\"dimension4\" : gtmAnalytics.analyticsCategoryDivisionID,\\n\"dimension5\" : gtmAnalytics.analyticsCategoryID,\\n\"dimension6\" : gtmAnalytics.analyticsSubCategoryID,\\n\"dimension7\" : \"girls-accessories-backpacks-bags\",\\n\"dimension8\" : false,\\n\"dimension9\" : \"5.0\",\\n\"dimension10\" : \"2.0\",\\n\"dimension11\" : \"available\"\\n};\\n}\\n</script>\\n<div class=\"product__image\">\\n\\n\\n\\n<a class=\"product__image--link thumb-link\" href=\"https://www.hannaandersson.com/girls-accessories-backpacks-bags/62301-GD8.html?dwvar_62301-GD8_color=GD8&amp;cgid=Sale\" title=\"Disney Princess Lunch Bag\" data-product-id=\"62301-GD8\" onclick=\"gtmAnalytics.submitProductImpressionClick(_analytics_c18b83461991927152b603ff56, this, \\'image\\');\" aria-label=\"Image link for Rapunzel Disney Princess Lunch Bag 62301-GD8\">\\n<img class=\"pt-image lazyload\" src=\"https://www.hannaandersson.com/dw/image/v2/BBLM_PRD/on/demandware.static/-/Sites-master-catalog/default/dwb23f947b/images/main/62301/62301_GD8_OS_01.jpg?sw=369&amp;q=50\" data-src=\"https://www.hannaandersson.com/dw/image/v2/BBLM_PRD/on/demandware.static/-/Sites-master-catalog/default/dwb23f947b/images/main/62301/62301_GD8_OS_01.jpg?sw=369&amp;q=90\" alt=\"Product image for 62301-GD8\" />\\n\\n</a>\\n\\n\\n<a class=\"pqv-quickview-btn button is-quickview quickview quickbuy-btn product__quickview\" href=\"https://www.hannaandersson.com/girls-accessories-backpacks-bags/62301-GD8.html?dwvar_62301-GD8_color=GD8&amp;cgid=Sale&amp;type=quickbuy\" title=\"Disney Princess Lunch Bag\" onclick=\"gtmAnalytics.submitProductImpressionClick(_analytics_c18b83461991927152b603ff56, this, \\'image\\', \\'quickbuy\\');\" aria-label=\"Quick Buy Rapunzel Disney Princess Lunch Bag 62301-GD8\">\\nQuick Buy\\n</a>\\n\\n</div>\\n\\n<a itemprop=\"item\" class=\"product__name\" href=\"https://www.hannaandersson.com/girls-accessories-backpacks-bags/62301-GD8.html?dwvar_62301-GD8_color=GD8&amp;cgid=Sale\" onclick=\"gtmAnalytics.submitProductImpressionClick(_analytics_c18b83461991927152b603ff56, this, \\'text\\');\" aria-label=\"Rapunzel Disney Princess Lunch Bag 62301-GD8\">\\n<span itemprop=\"name\">Disney Princess Lunch Bag</span>\\n</a>\\n<div class=\"product__pricing \">\\n\\n\\n\\n\\n\\n\\n\\n\\n\\n\\n\\n\\n\\n\\n\\n\\n\\n\\n\\n\\n\\n\\n\\n\\n\\n\\n\\n\\n\\n\\n\\n\\n\\n\\n\\n\\n\\n\\n\\n\\n\\n\\n\\n\\n\\n\\n\\n\\n\\n\\n\\n\\n\\n\\n\\n\\n\\n\\n\\n\\n\\n\\n\\n\\n\\n\\n\\n\\n\\n\\n\\n\\n\\n\\n\\n\\n\\n\\n\\n\\n\\n\\n\\n\\n\\n\\n\\n\\n\\n\\n\\n\\n\\n\\n\\n\\n\\n\\n\\n\\n\\n\\n\\n\\n\\n\\n\\n\\n\\n\\n\\n\\n\\n\\n\\n\\n\\n\\n\\n\\n\\n\\n\\n\\n\\n\\n\\n\\n\\n\\n\\n\\n\\n\\n\\n\\n\\n\\n\\n\\n\\n\\n\\n\\n\\n\\n\\n\\n\\n\\n\\n\\n\\n\\n\\n\\n\\n\\n\\n\\n\\n\\n\\n\\n\\n\\n\\n\\n\\n\\n\\n\\n\\n\\n\\n\\n\\n<div class=\"pdo-product-price\">\\n\\n\\n\\n\\n\\n<span class=\"bfx-original-price pdo-price-standard\" tabindex=\"0\"><span class=\"visually-hidden\">Standard Price:</span>$30.00</span>\\n\\n\\n\\n<span class=\"bfx-price pdo-price-sales\" tabindex=\"0\"><span class=\"visually-hidden\">Sale Price:</span>$11.99</span>\\n\\n\\n\\n\\n\\n</div>\\n\\n\\n\\n\\n\\n\\n\\n\\n</div>\\n\\n<div class=\"product__swatches\">\\n<a class=\"product__swatches--link\" href=\"https://www.hannaandersson.com/girls-accessories-backpacks-bags/62301-GD8.html?dwvar_62301-GD8_color=GD8&amp;cgid=Sale\" title=\"Go to Product: Disney Princess Lunch Bag\" onclick=\"gtmAnalytics.submitProductImpressionClick(_analytics_c18b83461991927152b603ff56, this, \\'text\\');\" aria-label=\"More colors available for Disney Princess Lunch Bag 62301-GD8\" >\\n4 colors available\\n</a>\\n</div>\\n\\n\\n<div class=\"product__ratings\">\\n\\n\\n    <div class=\"TTteaser TTteaser-tile\" data-productid=\"62301-GD8\" data-starrating=\"5.0\"></div>\\n\\n\\n</div>\\n\\n\\n<div class=\"product__promo product-promo pt-promo\">\\n\\n\\n</div>\\n\\n\\n\\n\\n\\n\\n<div class=\"gtm-analytics-product-tile\" data-salesprice=\"11.99\" data-standardprice=\"30.00\" style=\"display:none;\"></div>\\n<script>\\nif (gtmAnalytics.productImpressions && _analytics_c18b83461991927152b603ff56) {\\n_analytics_c18b83461991927152b603ff56.price = \"11.99\";\\n_analytics_c18b83461991927152b603ff56.dimension3 = \"30.00\";\\ngtmAnalytics.productImpressions.push(_analytics_c18b83461991927152b603ff56);\\n}\\n</script>\\n</div>\\n\\n\\n\\n\\n<script>\\ngtmAnalytics.analyticsGridLoad++;\\n// Record any PRODUCT impressions that are rendered in the page.\\nif(gtmAnalytics.productImpressions.length > 0)\\n{\\nvar separateImpressions = {product: [], set: []};\\ngtmAnalytics.productImpressions.forEach(function(impression){\\nif (impression.type === \\'set\\') {\\nseparateImpressions.set.push(impression);\\n} else {\\nseparateImpressions.product.push(impression);\\n}\\n});\\ndataLayer.push({\\n\"event\" : \"product-impression\",\\n\"ecommerce\" : {\\n\"currencyCode\" : CURRENCY_CODE,\\n\"impressions\" : separateImpressions.product\\n}\\n});\\ngtmAnalytics.submitProductSetImpressions(gtmAnalytics.productImpressions);\\n// Clear array to make way for new impressions from lazy loading or ajax request to filter.\\ngtmAnalytics.productImpressions = [];\\n}\\n</script>\\n\\n<meta itemprop=\"position\" content=\"23\" />\\n</div>\\n\\n\\n\\n<div class=\"category-results__loadmore js-loadmore-container\">\\n<button class=\"category-results__loadmore--btn js-loadmore\">Load More</button>\\n<span class=\"infinite-scroll-placeholder\" data-loading-state=\"unloaded\" data-grid-url=\"https://www.hannaandersson.com/sale/?start=24&amp;sz=12&amp;format=page-element\" ></span>\\n</div>\\n\\n\\n'"
      ]
     },
     "execution_count": 7,
     "metadata": {},
     "output_type": "execute_result"
    }
   ],
   "source": [
    "# your code here\n",
    "response.content"
   ]
  },
  {
   "cell_type": "code",
   "execution_count": 8,
   "metadata": {},
   "outputs": [],
   "source": [
    "soup= BeautifulSoup(response.content)"
   ]
  },
  {
   "cell_type": "code",
   "execution_count": 9,
   "metadata": {},
   "outputs": [
    {
     "data": {
      "text/plain": [
       "bs4.BeautifulSoup"
      ]
     },
     "execution_count": 9,
     "metadata": {},
     "output_type": "execute_result"
    }
   ],
   "source": [
    "type(soup)"
   ]
  },
  {
   "cell_type": "code",
   "execution_count": 10,
   "metadata": {},
   "outputs": [
    {
     "data": {
      "text/plain": [
       "bs4.element.ResultSet"
      ]
     },
     "execution_count": 10,
     "metadata": {},
     "output_type": "execute_result"
    }
   ],
   "source": [
    "productselect=soup.select('.product__image .product__image--link')\n",
    "type(productselect)"
   ]
  },
  {
   "cell_type": "code",
   "execution_count": 11,
   "metadata": {},
   "outputs": [
    {
     "data": {
      "text/plain": [
       "12"
      ]
     },
     "execution_count": 11,
     "metadata": {},
     "output_type": "execute_result"
    }
   ],
   "source": [
    "len(productselect)"
   ]
  },
  {
   "cell_type": "code",
   "execution_count": 12,
   "metadata": {},
   "outputs": [
    {
     "data": {
      "text/plain": [
       "[<a aria-label=\"Image link for Heather Grey Baby Snap Footed Sleeper In Organic Cotton 57437-011\" class=\"product__image--link thumb-link\" data-product-id=\"57437-011\" href=\"https://www.hannaandersson.com/pajamas-baby/57437-011.html?dwvar_57437-011_color=011&amp;cgid=Sale\" onclick=\"gtmAnalytics.submitProductImpressionClick(_analytics_f29a4b1b2dc4a4e1b9ad822d91, this, 'image');\" title=\"Baby Snap Footed Sleeper In Organic Cotton\">\n",
       " <img alt=\"Product image for 57437-011\" class=\"pt-image lazyload\" data-src=\"https://www.hannaandersson.com/dw/image/v2/BBLM_PRD/on/demandware.static/-/Sites-master-catalog/default/dwe6d7c706/images/main/57437/57437_011_60_01.jpg?sw=369&amp;q=90\" src=\"https://www.hannaandersson.com/dw/image/v2/BBLM_PRD/on/demandware.static/-/Sites-master-catalog/default/dwe6d7c706/images/main/57437/57437_011_60_01.jpg?sw=369&amp;q=50\"/>\n",
       " <img alt=\"Alternate product image for 57437-011\" class=\"alt-image lazyload\" data-src=\"https://www.hannaandersson.com/dw/image/v2/BBLM_PRD/on/demandware.static/-/Sites-master-catalog/default/dwb840eb0d/images/main/57437/57437_011_60_10.jpg?sw=369&amp;q=90\" src=\"https://www.hannaandersson.com/dw/image/v2/BBLM_PRD/on/demandware.static/-/Sites-master-catalog/default/dwb840eb0d/images/main/57437/57437_011_60_10.jpg?sw=369&amp;q=50\"/>\n",
       " </a>,\n",
       " <a aria-label=\"Image link for Navy Blue Double Knee Woven Pants 64344-SR4\" class=\"product__image--link thumb-link\" data-product-id=\"64344-SR4\" href=\"https://www.hannaandersson.com/boys-clothing-pants-shorts/64344-SR4.html?dwvar_64344-SR4_color=SR4&amp;cgid=Sale\" onclick=\"gtmAnalytics.submitProductImpressionClick(_analytics_8c1cead7cc779752a9ed2ce412, this, 'image');\" title=\"Double Knee Woven Pants\">\n",
       " <img alt=\"Product image for 64344-SR4\" class=\"pt-image lazyload\" data-src=\"https://www.hannaandersson.com/dw/image/v2/BBLM_PRD/on/demandware.static/-/Sites-master-catalog/default/dw47092f5b/images/main/64344/64344_SR4_110_01.jpg?sw=369&amp;q=90\" src=\"https://www.hannaandersson.com/dw/image/v2/BBLM_PRD/on/demandware.static/-/Sites-master-catalog/default/dw47092f5b/images/main/64344/64344_SR4_110_01.jpg?sw=369&amp;q=50\"/>\n",
       " </a>,\n",
       " <a aria-label=\"Image link for Navy Baby Dress &amp; Bloomer Set In Organic Cotton 57421-A91\" class=\"product__image--link thumb-link\" data-product-id=\"57421-A91\" href=\"https://www.hannaandersson.com/baby-girl-dresses-skirts/57421-A91.html?dwvar_57421-A91_color=A91&amp;cgid=Sale\" onclick=\"gtmAnalytics.submitProductImpressionClick(_analytics_ec3a3ac12e0d233a1a3281f8b5, this, 'image');\" title=\"Baby Dress &amp; Bloomer Set In Organic Cotton\">\n",
       " <img alt=\"Product image for 57421-A91\" class=\"pt-image lazyload\" data-src=\"https://www.hannaandersson.com/dw/image/v2/BBLM_PRD/on/demandware.static/-/Sites-master-catalog/default/dwdfb2713f/images/main/57421/57421_A91_60_01.jpg?sw=369&amp;q=90\" src=\"https://www.hannaandersson.com/dw/image/v2/BBLM_PRD/on/demandware.static/-/Sites-master-catalog/default/dwdfb2713f/images/main/57421/57421_A91_60_01.jpg?sw=369&amp;q=50\"/>\n",
       " <img alt=\"Alternate product image for 57421-A91\" class=\"alt-image lazyload\" data-src=\"https://www.hannaandersson.com/dw/image/v2/BBLM_PRD/on/demandware.static/-/Sites-master-catalog/default/dw2d363b71/images/main/57421/57421_A91_60_02.jpg?sw=369&amp;q=90\" src=\"https://www.hannaandersson.com/dw/image/v2/BBLM_PRD/on/demandware.static/-/Sites-master-catalog/default/dw2d363b71/images/main/57421/57421_A91_60_02.jpg?sw=369&amp;q=50\"/>\n",
       " </a>,\n",
       " <a aria-label=\"Image link for Sunshine Super Soft Skater Dress 60363-M07\" class=\"product__image--link thumb-link\" data-product-id=\"60363-M07\" href=\"https://www.hannaandersson.com/girls-clothing-dresses/60363-M07.html?dwvar_60363-M07_color=M07&amp;cgid=Sale\" onclick=\"gtmAnalytics.submitProductImpressionClick(_analytics_860ea0ffc4c5fe3ae112712df8, this, 'image');\" title=\"Super Soft Skater Dress\">\n",
       " <img alt=\"Product image for 60363-M07\" class=\"pt-image lazyload\" data-src=\"https://www.hannaandersson.com/dw/image/v2/BBLM_PRD/on/demandware.static/-/Sites-master-catalog/default/dwdda104e6/images/main/60363/60363_M07_110_01.jpg?sw=369&amp;q=90\" src=\"https://www.hannaandersson.com/dw/image/v2/BBLM_PRD/on/demandware.static/-/Sites-master-catalog/default/dwdda104e6/images/main/60363/60363_M07_110_01.jpg?sw=369&amp;q=50\"/>\n",
       " </a>,\n",
       " <a aria-label=\"Image link for Trek Teal Baby Dress &amp; Bloomer Set In Organic Cotton 57421-PW1\" class=\"product__image--link thumb-link\" data-product-id=\"57421-PW1\" href=\"https://www.hannaandersson.com/baby-girl-dresses-skirts/57421-PW1.html?dwvar_57421-PW1_color=PW1&amp;cgid=Sale\" onclick=\"gtmAnalytics.submitProductImpressionClick(_analytics_82dcbf1a2e67bb3a8a1d0ad330, this, 'image');\" title=\"Baby Dress &amp; Bloomer Set In Organic Cotton\">\n",
       " <img alt=\"Product image for 57421-PW1\" class=\"pt-image lazyload\" data-src=\"https://www.hannaandersson.com/dw/image/v2/BBLM_PRD/on/demandware.static/-/Sites-master-catalog/default/dw02ce41b1/images/main/57421/57421_PW1_60_01.jpg?sw=369&amp;q=90\" src=\"https://www.hannaandersson.com/dw/image/v2/BBLM_PRD/on/demandware.static/-/Sites-master-catalog/default/dw02ce41b1/images/main/57421/57421_PW1_60_01.jpg?sw=369&amp;q=50\"/>\n",
       " <img alt=\"Alternate product image for 57421-PW1\" class=\"alt-image lazyload\" data-src=\"https://www.hannaandersson.com/dw/image/v2/BBLM_PRD/on/demandware.static/-/Sites-master-catalog/default/dw91fa27e1/images/main/57421/57421_PW1_60_02.jpg?sw=369&amp;q=90\" src=\"https://www.hannaandersson.com/dw/image/v2/BBLM_PRD/on/demandware.static/-/Sites-master-catalog/default/dw91fa27e1/images/main/57421/57421_PW1_60_02.jpg?sw=369&amp;q=50\"/>\n",
       " </a>,\n",
       " <a aria-label=\"Image link for Pumpkin Who Will You Be Cap 48200-J86\" class=\"product__image--link thumb-link\" data-product-id=\"48200-J86\" href=\"https://www.hannaandersson.com/accessories-baby-hats/48200-J86.html?dwvar_48200-J86_color=J86&amp;cgid=Sale\" onclick=\"gtmAnalytics.submitProductImpressionClick(_analytics_f13a6f17369c87c5266b3433e0, this, 'image');\" title=\"Who Will You Be Cap\">\n",
       " <img alt=\"Product image for 48200-J86\" class=\"pt-image lazyload\" data-src=\"https://www.hannaandersson.com/dw/image/v2/BBLM_PRD/on/demandware.static/-/Sites-master-catalog/default/dwaf8b6ae4/images/main/48200/48200_J86_60_01.jpg?sw=369&amp;q=90\" src=\"https://www.hannaandersson.com/dw/image/v2/BBLM_PRD/on/demandware.static/-/Sites-master-catalog/default/dwaf8b6ae4/images/main/48200/48200_J86_60_01.jpg?sw=369&amp;q=50\"/>\n",
       " <img alt=\"Alternate product image for 48200-J86\" class=\"alt-image lazyload\" data-src=\"https://www.hannaandersson.com/dw/image/v2/BBLM_PRD/on/demandware.static/-/Sites-master-catalog/default/dw56cf6550/images/main/48200/48200_J86_60_10.jpg?sw=369&amp;q=90\" src=\"https://www.hannaandersson.com/dw/image/v2/BBLM_PRD/on/demandware.static/-/Sites-master-catalog/default/dw56cf6550/images/main/48200/48200_J86_60_10.jpg?sw=369&amp;q=50\"/>\n",
       " </a>,\n",
       " <a aria-label=\"Image link for Happy Pink Baby Snap Footed Sleeper In Organic Cotton 57437-G43\" class=\"product__image--link thumb-link\" data-product-id=\"57437-G43\" href=\"https://www.hannaandersson.com/pajamas-baby/57437-G43.html?dwvar_57437-G43_color=G43&amp;cgid=Sale\" onclick=\"gtmAnalytics.submitProductImpressionClick(_analytics_4532558899590ad69ca1c26158, this, 'image');\" title=\"Baby Snap Footed Sleeper In Organic Cotton\">\n",
       " <img alt=\"Product image for 57437-G43\" class=\"pt-image lazyload\" data-src=\"https://www.hannaandersson.com/dw/image/v2/BBLM_PRD/on/demandware.static/-/Sites-master-catalog/default/dwd04293c9/images/main/57437/57437_G43_60_01.jpg?sw=369&amp;q=90\" src=\"https://www.hannaandersson.com/dw/image/v2/BBLM_PRD/on/demandware.static/-/Sites-master-catalog/default/dwd04293c9/images/main/57437/57437_G43_60_01.jpg?sw=369&amp;q=50\"/>\n",
       " <img alt=\"Alternate product image for 57437-G43\" class=\"alt-image lazyload\" data-src=\"https://www.hannaandersson.com/dw/image/v2/BBLM_PRD/on/demandware.static/-/Sites-master-catalog/default/dwbeb7052f/images/main/57437/57437_G43_60_10.jpg?sw=369&amp;q=90\" src=\"https://www.hannaandersson.com/dw/image/v2/BBLM_PRD/on/demandware.static/-/Sites-master-catalog/default/dwbeb7052f/images/main/57437/57437_G43_60_10.jpg?sw=369&amp;q=50\"/>\n",
       " </a>,\n",
       " <a aria-label=\"Image link for Navy Baby Sweatpants In French Terry 52315-A91\" class=\"product__image--link thumb-link\" data-product-id=\"52315-A91\" href=\"https://www.hannaandersson.com/baby-girl-pants-leggings-shorts/52315-A91.html?dwvar_52315-A91_color=A91&amp;cgid=Sale\" onclick=\"gtmAnalytics.submitProductImpressionClick(_analytics_d23c6ee46ce764055ccd3866c7, this, 'image');\" title=\"Baby Sweatpants In French Terry\">\n",
       " <img alt=\"Product image for 52315-A91\" class=\"pt-image lazyload\" data-src=\"https://www.hannaandersson.com/dw/image/v2/BBLM_PRD/on/demandware.static/-/Sites-master-catalog/default/dw644418f4/images/main/52315/52315_A91_60_01.jpg?sw=369&amp;q=90\" src=\"https://www.hannaandersson.com/dw/image/v2/BBLM_PRD/on/demandware.static/-/Sites-master-catalog/default/dw644418f4/images/main/52315/52315_A91_60_01.jpg?sw=369&amp;q=50\"/>\n",
       " <img alt=\"Alternate product image for 52315-A91\" class=\"alt-image lazyload\" data-src=\"https://www.hannaandersson.com/dw/image/v2/BBLM_PRD/on/demandware.static/-/Sites-master-catalog/default/dwb353bc0d/images/main/52315/52315_A91_60_10.jpg?sw=369&amp;q=90\" src=\"https://www.hannaandersson.com/dw/image/v2/BBLM_PRD/on/demandware.static/-/Sites-master-catalog/default/dwb353bc0d/images/main/52315/52315_A91_60_10.jpg?sw=369&amp;q=50\"/>\n",
       " </a>,\n",
       " <a aria-label=\"Image link for Fancy Frogs Baby Snap Footed Sleeper In Organic Cotton 57436-Ql7\" class=\"product__image--link thumb-link\" data-product-id=\"57436-Ql7\" href=\"https://www.hannaandersson.com/pajamas-baby/57436-Ql7.html?dwvar_57436-Ql7_color=Ql7&amp;cgid=Sale\" onclick=\"gtmAnalytics.submitProductImpressionClick(_analytics_35b9da2c42cd3ceb63ab3d620a, this, 'image');\" title=\"Baby Snap Footed Sleeper In Organic Cotton\">\n",
       " <img alt=\"Product image for 57436-Ql7\" class=\"pt-image lazyload\" data-src=\"https://www.hannaandersson.com/dw/image/v2/BBLM_PRD/on/demandware.static/-/Sites-master-catalog/default/dw49ebf22d/images/main/57436/57436_Ql7_60_01.jpg?sw=369&amp;q=90\" src=\"https://www.hannaandersson.com/dw/image/v2/BBLM_PRD/on/demandware.static/-/Sites-master-catalog/default/dw49ebf22d/images/main/57436/57436_Ql7_60_01.jpg?sw=369&amp;q=50\"/>\n",
       " <img alt=\"Alternate product image for 57436-Ql7\" class=\"alt-image lazyload\" data-src=\"https://www.hannaandersson.com/dw/image/v2/BBLM_PRD/on/demandware.static/-/Sites-master-catalog/default/dw5b60c37e/images/main/57436/57436_Ql7_60_05.jpg?sw=369&amp;q=90\" src=\"https://www.hannaandersson.com/dw/image/v2/BBLM_PRD/on/demandware.static/-/Sites-master-catalog/default/dw5b60c37e/images/main/57436/57436_Ql7_60_05.jpg?sw=369&amp;q=50\"/>\n",
       " </a>,\n",
       " <a aria-label=\"Image link for Deep Olive Woven Canvas Pants 64345-61D\" class=\"product__image--link thumb-link\" data-product-id=\"64345-61D\" href=\"https://www.hannaandersson.com/boys-clothing-pants-shorts/64345-61D.html?dwvar_64345-61D_color=61D&amp;cgid=Sale\" onclick=\"gtmAnalytics.submitProductImpressionClick(_analytics_8f1aae1e3643a5284438698aad, this, 'image');\" title=\"Woven Canvas Pants\">\n",
       " <img alt=\"Product image for 64345-61D\" class=\"pt-image lazyload\" data-src=\"https://www.hannaandersson.com/dw/image/v2/BBLM_PRD/on/demandware.static/-/Sites-master-catalog/default/dw807f4e63/images/main/64345/64345_61D_110_01.jpg?sw=369&amp;q=90\" src=\"https://www.hannaandersson.com/dw/image/v2/BBLM_PRD/on/demandware.static/-/Sites-master-catalog/default/dw807f4e63/images/main/64345/64345_61D_110_01.jpg?sw=369&amp;q=50\"/>\n",
       " </a>,\n",
       " <a aria-label=\"Image link for Multi Athletic Shorts 60481-990\" class=\"product__image--link thumb-link\" data-product-id=\"60481-990\" href=\"https://www.hannaandersson.com/boys-clothing-shorts/60481-990.html?dwvar_60481-990_color=990&amp;cgid=Sale\" onclick=\"gtmAnalytics.submitProductImpressionClick(_analytics_861665a0347078b37093b78b39, this, 'image');\" title=\"Athletic Shorts\">\n",
       " <img alt=\"Product image for 60481-990\" class=\"pt-image lazyload\" data-src=\"https://www.hannaandersson.com/dw/image/v2/BBLM_PRD/on/demandware.static/-/Sites-master-catalog/default/dwa631f4e0/images/main/60481/60481_990_110_01.jpg?sw=369&amp;q=90\" src=\"https://www.hannaandersson.com/dw/image/v2/BBLM_PRD/on/demandware.static/-/Sites-master-catalog/default/dwa631f4e0/images/main/60481/60481_990_110_01.jpg?sw=369&amp;q=50\"/>\n",
       " </a>,\n",
       " <a aria-label=\"Image link for Rapunzel Disney Princess Lunch Bag 62301-GD8\" class=\"product__image--link thumb-link\" data-product-id=\"62301-GD8\" href=\"https://www.hannaandersson.com/girls-accessories-backpacks-bags/62301-GD8.html?dwvar_62301-GD8_color=GD8&amp;cgid=Sale\" onclick=\"gtmAnalytics.submitProductImpressionClick(_analytics_c18b83461991927152b603ff56, this, 'image');\" title=\"Disney Princess Lunch Bag\">\n",
       " <img alt=\"Product image for 62301-GD8\" class=\"pt-image lazyload\" data-src=\"https://www.hannaandersson.com/dw/image/v2/BBLM_PRD/on/demandware.static/-/Sites-master-catalog/default/dwb23f947b/images/main/62301/62301_GD8_OS_01.jpg?sw=369&amp;q=90\" src=\"https://www.hannaandersson.com/dw/image/v2/BBLM_PRD/on/demandware.static/-/Sites-master-catalog/default/dwb23f947b/images/main/62301/62301_GD8_OS_01.jpg?sw=369&amp;q=50\"/>\n",
       " </a>]"
      ]
     },
     "execution_count": 12,
     "metadata": {},
     "output_type": "execute_result"
    }
   ],
   "source": [
    "productselect"
   ]
  },
  {
   "cell_type": "code",
   "execution_count": 13,
   "metadata": {},
   "outputs": [
    {
     "data": {
      "text/plain": [
       "12"
      ]
     },
     "execution_count": 13,
     "metadata": {},
     "output_type": "execute_result"
    }
   ],
   "source": [
    "names=[i.get(\"title\") for i in productselect]\n",
    "len(names)"
   ]
  },
  {
   "cell_type": "code",
   "execution_count": 14,
   "metadata": {},
   "outputs": [
    {
     "data": {
      "text/plain": [
       "['Baby Snap Footed Sleeper In Organic Cotton',\n",
       " 'Double Knee Woven Pants',\n",
       " 'Baby Dress & Bloomer Set In Organic Cotton',\n",
       " 'Super Soft Skater Dress',\n",
       " 'Baby Dress & Bloomer Set In Organic Cotton',\n",
       " 'Who Will You Be Cap',\n",
       " 'Baby Snap Footed Sleeper In Organic Cotton',\n",
       " 'Baby Sweatpants In French Terry',\n",
       " 'Baby Snap Footed Sleeper In Organic Cotton',\n",
       " 'Woven Canvas Pants',\n",
       " 'Athletic Shorts',\n",
       " 'Disney Princess Lunch Bag']"
      ]
     },
     "execution_count": 14,
     "metadata": {},
     "output_type": "execute_result"
    }
   ],
   "source": [
    "names"
   ]
  },
  {
   "cell_type": "code",
   "execution_count": 15,
   "metadata": {},
   "outputs": [
    {
     "data": {
      "text/plain": [
       "12"
      ]
     },
     "execution_count": 15,
     "metadata": {},
     "output_type": "execute_result"
    }
   ],
   "source": [
    "imageselect=soup.select('.pt-image')\n",
    "len(imageselect)"
   ]
  },
  {
   "cell_type": "code",
   "execution_count": 16,
   "metadata": {},
   "outputs": [
    {
     "data": {
      "text/plain": [
       "[<img alt=\"Product image for 57437-011\" class=\"pt-image lazyload\" data-src=\"https://www.hannaandersson.com/dw/image/v2/BBLM_PRD/on/demandware.static/-/Sites-master-catalog/default/dwe6d7c706/images/main/57437/57437_011_60_01.jpg?sw=369&amp;q=90\" src=\"https://www.hannaandersson.com/dw/image/v2/BBLM_PRD/on/demandware.static/-/Sites-master-catalog/default/dwe6d7c706/images/main/57437/57437_011_60_01.jpg?sw=369&amp;q=50\"/>,\n",
       " <img alt=\"Product image for 64344-SR4\" class=\"pt-image lazyload\" data-src=\"https://www.hannaandersson.com/dw/image/v2/BBLM_PRD/on/demandware.static/-/Sites-master-catalog/default/dw47092f5b/images/main/64344/64344_SR4_110_01.jpg?sw=369&amp;q=90\" src=\"https://www.hannaandersson.com/dw/image/v2/BBLM_PRD/on/demandware.static/-/Sites-master-catalog/default/dw47092f5b/images/main/64344/64344_SR4_110_01.jpg?sw=369&amp;q=50\"/>,\n",
       " <img alt=\"Product image for 57421-A91\" class=\"pt-image lazyload\" data-src=\"https://www.hannaandersson.com/dw/image/v2/BBLM_PRD/on/demandware.static/-/Sites-master-catalog/default/dwdfb2713f/images/main/57421/57421_A91_60_01.jpg?sw=369&amp;q=90\" src=\"https://www.hannaandersson.com/dw/image/v2/BBLM_PRD/on/demandware.static/-/Sites-master-catalog/default/dwdfb2713f/images/main/57421/57421_A91_60_01.jpg?sw=369&amp;q=50\"/>,\n",
       " <img alt=\"Product image for 60363-M07\" class=\"pt-image lazyload\" data-src=\"https://www.hannaandersson.com/dw/image/v2/BBLM_PRD/on/demandware.static/-/Sites-master-catalog/default/dwdda104e6/images/main/60363/60363_M07_110_01.jpg?sw=369&amp;q=90\" src=\"https://www.hannaandersson.com/dw/image/v2/BBLM_PRD/on/demandware.static/-/Sites-master-catalog/default/dwdda104e6/images/main/60363/60363_M07_110_01.jpg?sw=369&amp;q=50\"/>,\n",
       " <img alt=\"Product image for 57421-PW1\" class=\"pt-image lazyload\" data-src=\"https://www.hannaandersson.com/dw/image/v2/BBLM_PRD/on/demandware.static/-/Sites-master-catalog/default/dw02ce41b1/images/main/57421/57421_PW1_60_01.jpg?sw=369&amp;q=90\" src=\"https://www.hannaandersson.com/dw/image/v2/BBLM_PRD/on/demandware.static/-/Sites-master-catalog/default/dw02ce41b1/images/main/57421/57421_PW1_60_01.jpg?sw=369&amp;q=50\"/>,\n",
       " <img alt=\"Product image for 48200-J86\" class=\"pt-image lazyload\" data-src=\"https://www.hannaandersson.com/dw/image/v2/BBLM_PRD/on/demandware.static/-/Sites-master-catalog/default/dwaf8b6ae4/images/main/48200/48200_J86_60_01.jpg?sw=369&amp;q=90\" src=\"https://www.hannaandersson.com/dw/image/v2/BBLM_PRD/on/demandware.static/-/Sites-master-catalog/default/dwaf8b6ae4/images/main/48200/48200_J86_60_01.jpg?sw=369&amp;q=50\"/>,\n",
       " <img alt=\"Product image for 57437-G43\" class=\"pt-image lazyload\" data-src=\"https://www.hannaandersson.com/dw/image/v2/BBLM_PRD/on/demandware.static/-/Sites-master-catalog/default/dwd04293c9/images/main/57437/57437_G43_60_01.jpg?sw=369&amp;q=90\" src=\"https://www.hannaandersson.com/dw/image/v2/BBLM_PRD/on/demandware.static/-/Sites-master-catalog/default/dwd04293c9/images/main/57437/57437_G43_60_01.jpg?sw=369&amp;q=50\"/>,\n",
       " <img alt=\"Product image for 52315-A91\" class=\"pt-image lazyload\" data-src=\"https://www.hannaandersson.com/dw/image/v2/BBLM_PRD/on/demandware.static/-/Sites-master-catalog/default/dw644418f4/images/main/52315/52315_A91_60_01.jpg?sw=369&amp;q=90\" src=\"https://www.hannaandersson.com/dw/image/v2/BBLM_PRD/on/demandware.static/-/Sites-master-catalog/default/dw644418f4/images/main/52315/52315_A91_60_01.jpg?sw=369&amp;q=50\"/>,\n",
       " <img alt=\"Product image for 57436-Ql7\" class=\"pt-image lazyload\" data-src=\"https://www.hannaandersson.com/dw/image/v2/BBLM_PRD/on/demandware.static/-/Sites-master-catalog/default/dw49ebf22d/images/main/57436/57436_Ql7_60_01.jpg?sw=369&amp;q=90\" src=\"https://www.hannaandersson.com/dw/image/v2/BBLM_PRD/on/demandware.static/-/Sites-master-catalog/default/dw49ebf22d/images/main/57436/57436_Ql7_60_01.jpg?sw=369&amp;q=50\"/>,\n",
       " <img alt=\"Product image for 64345-61D\" class=\"pt-image lazyload\" data-src=\"https://www.hannaandersson.com/dw/image/v2/BBLM_PRD/on/demandware.static/-/Sites-master-catalog/default/dw807f4e63/images/main/64345/64345_61D_110_01.jpg?sw=369&amp;q=90\" src=\"https://www.hannaandersson.com/dw/image/v2/BBLM_PRD/on/demandware.static/-/Sites-master-catalog/default/dw807f4e63/images/main/64345/64345_61D_110_01.jpg?sw=369&amp;q=50\"/>,\n",
       " <img alt=\"Product image for 60481-990\" class=\"pt-image lazyload\" data-src=\"https://www.hannaandersson.com/dw/image/v2/BBLM_PRD/on/demandware.static/-/Sites-master-catalog/default/dwa631f4e0/images/main/60481/60481_990_110_01.jpg?sw=369&amp;q=90\" src=\"https://www.hannaandersson.com/dw/image/v2/BBLM_PRD/on/demandware.static/-/Sites-master-catalog/default/dwa631f4e0/images/main/60481/60481_990_110_01.jpg?sw=369&amp;q=50\"/>,\n",
       " <img alt=\"Product image for 62301-GD8\" class=\"pt-image lazyload\" data-src=\"https://www.hannaandersson.com/dw/image/v2/BBLM_PRD/on/demandware.static/-/Sites-master-catalog/default/dwb23f947b/images/main/62301/62301_GD8_OS_01.jpg?sw=369&amp;q=90\" src=\"https://www.hannaandersson.com/dw/image/v2/BBLM_PRD/on/demandware.static/-/Sites-master-catalog/default/dwb23f947b/images/main/62301/62301_GD8_OS_01.jpg?sw=369&amp;q=50\"/>]"
      ]
     },
     "execution_count": 16,
     "metadata": {},
     "output_type": "execute_result"
    }
   ],
   "source": [
    "imageselect"
   ]
  },
  {
   "cell_type": "code",
   "execution_count": 17,
   "metadata": {},
   "outputs": [
    {
     "data": {
      "text/plain": [
       "['https://www.hannaandersson.com/dw/image/v2/BBLM_PRD/on/demandware.static/-/Sites-master-catalog/default/dwe6d7c706/images/main/57437/57437_011_60_01.jpg?sw=369&q=90',\n",
       " 'https://www.hannaandersson.com/dw/image/v2/BBLM_PRD/on/demandware.static/-/Sites-master-catalog/default/dw47092f5b/images/main/64344/64344_SR4_110_01.jpg?sw=369&q=90',\n",
       " 'https://www.hannaandersson.com/dw/image/v2/BBLM_PRD/on/demandware.static/-/Sites-master-catalog/default/dwdfb2713f/images/main/57421/57421_A91_60_01.jpg?sw=369&q=90',\n",
       " 'https://www.hannaandersson.com/dw/image/v2/BBLM_PRD/on/demandware.static/-/Sites-master-catalog/default/dwdda104e6/images/main/60363/60363_M07_110_01.jpg?sw=369&q=90',\n",
       " 'https://www.hannaandersson.com/dw/image/v2/BBLM_PRD/on/demandware.static/-/Sites-master-catalog/default/dw02ce41b1/images/main/57421/57421_PW1_60_01.jpg?sw=369&q=90',\n",
       " 'https://www.hannaandersson.com/dw/image/v2/BBLM_PRD/on/demandware.static/-/Sites-master-catalog/default/dwaf8b6ae4/images/main/48200/48200_J86_60_01.jpg?sw=369&q=90',\n",
       " 'https://www.hannaandersson.com/dw/image/v2/BBLM_PRD/on/demandware.static/-/Sites-master-catalog/default/dwd04293c9/images/main/57437/57437_G43_60_01.jpg?sw=369&q=90',\n",
       " 'https://www.hannaandersson.com/dw/image/v2/BBLM_PRD/on/demandware.static/-/Sites-master-catalog/default/dw644418f4/images/main/52315/52315_A91_60_01.jpg?sw=369&q=90',\n",
       " 'https://www.hannaandersson.com/dw/image/v2/BBLM_PRD/on/demandware.static/-/Sites-master-catalog/default/dw49ebf22d/images/main/57436/57436_Ql7_60_01.jpg?sw=369&q=90',\n",
       " 'https://www.hannaandersson.com/dw/image/v2/BBLM_PRD/on/demandware.static/-/Sites-master-catalog/default/dw807f4e63/images/main/64345/64345_61D_110_01.jpg?sw=369&q=90',\n",
       " 'https://www.hannaandersson.com/dw/image/v2/BBLM_PRD/on/demandware.static/-/Sites-master-catalog/default/dwa631f4e0/images/main/60481/60481_990_110_01.jpg?sw=369&q=90',\n",
       " 'https://www.hannaandersson.com/dw/image/v2/BBLM_PRD/on/demandware.static/-/Sites-master-catalog/default/dwb23f947b/images/main/62301/62301_GD8_OS_01.jpg?sw=369&q=90']"
      ]
     },
     "execution_count": 17,
     "metadata": {},
     "output_type": "execute_result"
    }
   ],
   "source": [
    "images=[i.get('data-src') for i in imageselect]\n",
    "images"
   ]
  },
  {
   "cell_type": "code",
   "execution_count": 18,
   "metadata": {},
   "outputs": [
    {
     "data": {
      "text/plain": [
       "[<a aria-label=\"Image link for Heather Grey Baby Snap Footed Sleeper In Organic Cotton 57437-011\" class=\"product__image--link thumb-link\" data-product-id=\"57437-011\" href=\"https://www.hannaandersson.com/pajamas-baby/57437-011.html?dwvar_57437-011_color=011&amp;cgid=Sale\" onclick=\"gtmAnalytics.submitProductImpressionClick(_analytics_f29a4b1b2dc4a4e1b9ad822d91, this, 'image');\" title=\"Baby Snap Footed Sleeper In Organic Cotton\">\n",
       " <img alt=\"Product image for 57437-011\" class=\"pt-image lazyload\" data-src=\"https://www.hannaandersson.com/dw/image/v2/BBLM_PRD/on/demandware.static/-/Sites-master-catalog/default/dwe6d7c706/images/main/57437/57437_011_60_01.jpg?sw=369&amp;q=90\" src=\"https://www.hannaandersson.com/dw/image/v2/BBLM_PRD/on/demandware.static/-/Sites-master-catalog/default/dwe6d7c706/images/main/57437/57437_011_60_01.jpg?sw=369&amp;q=50\"/>\n",
       " <img alt=\"Alternate product image for 57437-011\" class=\"alt-image lazyload\" data-src=\"https://www.hannaandersson.com/dw/image/v2/BBLM_PRD/on/demandware.static/-/Sites-master-catalog/default/dwb840eb0d/images/main/57437/57437_011_60_10.jpg?sw=369&amp;q=90\" src=\"https://www.hannaandersson.com/dw/image/v2/BBLM_PRD/on/demandware.static/-/Sites-master-catalog/default/dwb840eb0d/images/main/57437/57437_011_60_10.jpg?sw=369&amp;q=50\"/>\n",
       " </a>,\n",
       " <a aria-label=\"Image link for Navy Blue Double Knee Woven Pants 64344-SR4\" class=\"product__image--link thumb-link\" data-product-id=\"64344-SR4\" href=\"https://www.hannaandersson.com/boys-clothing-pants-shorts/64344-SR4.html?dwvar_64344-SR4_color=SR4&amp;cgid=Sale\" onclick=\"gtmAnalytics.submitProductImpressionClick(_analytics_8c1cead7cc779752a9ed2ce412, this, 'image');\" title=\"Double Knee Woven Pants\">\n",
       " <img alt=\"Product image for 64344-SR4\" class=\"pt-image lazyload\" data-src=\"https://www.hannaandersson.com/dw/image/v2/BBLM_PRD/on/demandware.static/-/Sites-master-catalog/default/dw47092f5b/images/main/64344/64344_SR4_110_01.jpg?sw=369&amp;q=90\" src=\"https://www.hannaandersson.com/dw/image/v2/BBLM_PRD/on/demandware.static/-/Sites-master-catalog/default/dw47092f5b/images/main/64344/64344_SR4_110_01.jpg?sw=369&amp;q=50\"/>\n",
       " </a>,\n",
       " <a aria-label=\"Image link for Navy Baby Dress &amp; Bloomer Set In Organic Cotton 57421-A91\" class=\"product__image--link thumb-link\" data-product-id=\"57421-A91\" href=\"https://www.hannaandersson.com/baby-girl-dresses-skirts/57421-A91.html?dwvar_57421-A91_color=A91&amp;cgid=Sale\" onclick=\"gtmAnalytics.submitProductImpressionClick(_analytics_ec3a3ac12e0d233a1a3281f8b5, this, 'image');\" title=\"Baby Dress &amp; Bloomer Set In Organic Cotton\">\n",
       " <img alt=\"Product image for 57421-A91\" class=\"pt-image lazyload\" data-src=\"https://www.hannaandersson.com/dw/image/v2/BBLM_PRD/on/demandware.static/-/Sites-master-catalog/default/dwdfb2713f/images/main/57421/57421_A91_60_01.jpg?sw=369&amp;q=90\" src=\"https://www.hannaandersson.com/dw/image/v2/BBLM_PRD/on/demandware.static/-/Sites-master-catalog/default/dwdfb2713f/images/main/57421/57421_A91_60_01.jpg?sw=369&amp;q=50\"/>\n",
       " <img alt=\"Alternate product image for 57421-A91\" class=\"alt-image lazyload\" data-src=\"https://www.hannaandersson.com/dw/image/v2/BBLM_PRD/on/demandware.static/-/Sites-master-catalog/default/dw2d363b71/images/main/57421/57421_A91_60_02.jpg?sw=369&amp;q=90\" src=\"https://www.hannaandersson.com/dw/image/v2/BBLM_PRD/on/demandware.static/-/Sites-master-catalog/default/dw2d363b71/images/main/57421/57421_A91_60_02.jpg?sw=369&amp;q=50\"/>\n",
       " </a>,\n",
       " <a aria-label=\"Image link for Sunshine Super Soft Skater Dress 60363-M07\" class=\"product__image--link thumb-link\" data-product-id=\"60363-M07\" href=\"https://www.hannaandersson.com/girls-clothing-dresses/60363-M07.html?dwvar_60363-M07_color=M07&amp;cgid=Sale\" onclick=\"gtmAnalytics.submitProductImpressionClick(_analytics_860ea0ffc4c5fe3ae112712df8, this, 'image');\" title=\"Super Soft Skater Dress\">\n",
       " <img alt=\"Product image for 60363-M07\" class=\"pt-image lazyload\" data-src=\"https://www.hannaandersson.com/dw/image/v2/BBLM_PRD/on/demandware.static/-/Sites-master-catalog/default/dwdda104e6/images/main/60363/60363_M07_110_01.jpg?sw=369&amp;q=90\" src=\"https://www.hannaandersson.com/dw/image/v2/BBLM_PRD/on/demandware.static/-/Sites-master-catalog/default/dwdda104e6/images/main/60363/60363_M07_110_01.jpg?sw=369&amp;q=50\"/>\n",
       " </a>,\n",
       " <a aria-label=\"Image link for Trek Teal Baby Dress &amp; Bloomer Set In Organic Cotton 57421-PW1\" class=\"product__image--link thumb-link\" data-product-id=\"57421-PW1\" href=\"https://www.hannaandersson.com/baby-girl-dresses-skirts/57421-PW1.html?dwvar_57421-PW1_color=PW1&amp;cgid=Sale\" onclick=\"gtmAnalytics.submitProductImpressionClick(_analytics_82dcbf1a2e67bb3a8a1d0ad330, this, 'image');\" title=\"Baby Dress &amp; Bloomer Set In Organic Cotton\">\n",
       " <img alt=\"Product image for 57421-PW1\" class=\"pt-image lazyload\" data-src=\"https://www.hannaandersson.com/dw/image/v2/BBLM_PRD/on/demandware.static/-/Sites-master-catalog/default/dw02ce41b1/images/main/57421/57421_PW1_60_01.jpg?sw=369&amp;q=90\" src=\"https://www.hannaandersson.com/dw/image/v2/BBLM_PRD/on/demandware.static/-/Sites-master-catalog/default/dw02ce41b1/images/main/57421/57421_PW1_60_01.jpg?sw=369&amp;q=50\"/>\n",
       " <img alt=\"Alternate product image for 57421-PW1\" class=\"alt-image lazyload\" data-src=\"https://www.hannaandersson.com/dw/image/v2/BBLM_PRD/on/demandware.static/-/Sites-master-catalog/default/dw91fa27e1/images/main/57421/57421_PW1_60_02.jpg?sw=369&amp;q=90\" src=\"https://www.hannaandersson.com/dw/image/v2/BBLM_PRD/on/demandware.static/-/Sites-master-catalog/default/dw91fa27e1/images/main/57421/57421_PW1_60_02.jpg?sw=369&amp;q=50\"/>\n",
       " </a>,\n",
       " <a aria-label=\"Image link for Pumpkin Who Will You Be Cap 48200-J86\" class=\"product__image--link thumb-link\" data-product-id=\"48200-J86\" href=\"https://www.hannaandersson.com/accessories-baby-hats/48200-J86.html?dwvar_48200-J86_color=J86&amp;cgid=Sale\" onclick=\"gtmAnalytics.submitProductImpressionClick(_analytics_f13a6f17369c87c5266b3433e0, this, 'image');\" title=\"Who Will You Be Cap\">\n",
       " <img alt=\"Product image for 48200-J86\" class=\"pt-image lazyload\" data-src=\"https://www.hannaandersson.com/dw/image/v2/BBLM_PRD/on/demandware.static/-/Sites-master-catalog/default/dwaf8b6ae4/images/main/48200/48200_J86_60_01.jpg?sw=369&amp;q=90\" src=\"https://www.hannaandersson.com/dw/image/v2/BBLM_PRD/on/demandware.static/-/Sites-master-catalog/default/dwaf8b6ae4/images/main/48200/48200_J86_60_01.jpg?sw=369&amp;q=50\"/>\n",
       " <img alt=\"Alternate product image for 48200-J86\" class=\"alt-image lazyload\" data-src=\"https://www.hannaandersson.com/dw/image/v2/BBLM_PRD/on/demandware.static/-/Sites-master-catalog/default/dw56cf6550/images/main/48200/48200_J86_60_10.jpg?sw=369&amp;q=90\" src=\"https://www.hannaandersson.com/dw/image/v2/BBLM_PRD/on/demandware.static/-/Sites-master-catalog/default/dw56cf6550/images/main/48200/48200_J86_60_10.jpg?sw=369&amp;q=50\"/>\n",
       " </a>,\n",
       " <a aria-label=\"Image link for Happy Pink Baby Snap Footed Sleeper In Organic Cotton 57437-G43\" class=\"product__image--link thumb-link\" data-product-id=\"57437-G43\" href=\"https://www.hannaandersson.com/pajamas-baby/57437-G43.html?dwvar_57437-G43_color=G43&amp;cgid=Sale\" onclick=\"gtmAnalytics.submitProductImpressionClick(_analytics_4532558899590ad69ca1c26158, this, 'image');\" title=\"Baby Snap Footed Sleeper In Organic Cotton\">\n",
       " <img alt=\"Product image for 57437-G43\" class=\"pt-image lazyload\" data-src=\"https://www.hannaandersson.com/dw/image/v2/BBLM_PRD/on/demandware.static/-/Sites-master-catalog/default/dwd04293c9/images/main/57437/57437_G43_60_01.jpg?sw=369&amp;q=90\" src=\"https://www.hannaandersson.com/dw/image/v2/BBLM_PRD/on/demandware.static/-/Sites-master-catalog/default/dwd04293c9/images/main/57437/57437_G43_60_01.jpg?sw=369&amp;q=50\"/>\n",
       " <img alt=\"Alternate product image for 57437-G43\" class=\"alt-image lazyload\" data-src=\"https://www.hannaandersson.com/dw/image/v2/BBLM_PRD/on/demandware.static/-/Sites-master-catalog/default/dwbeb7052f/images/main/57437/57437_G43_60_10.jpg?sw=369&amp;q=90\" src=\"https://www.hannaandersson.com/dw/image/v2/BBLM_PRD/on/demandware.static/-/Sites-master-catalog/default/dwbeb7052f/images/main/57437/57437_G43_60_10.jpg?sw=369&amp;q=50\"/>\n",
       " </a>,\n",
       " <a aria-label=\"Image link for Navy Baby Sweatpants In French Terry 52315-A91\" class=\"product__image--link thumb-link\" data-product-id=\"52315-A91\" href=\"https://www.hannaandersson.com/baby-girl-pants-leggings-shorts/52315-A91.html?dwvar_52315-A91_color=A91&amp;cgid=Sale\" onclick=\"gtmAnalytics.submitProductImpressionClick(_analytics_d23c6ee46ce764055ccd3866c7, this, 'image');\" title=\"Baby Sweatpants In French Terry\">\n",
       " <img alt=\"Product image for 52315-A91\" class=\"pt-image lazyload\" data-src=\"https://www.hannaandersson.com/dw/image/v2/BBLM_PRD/on/demandware.static/-/Sites-master-catalog/default/dw644418f4/images/main/52315/52315_A91_60_01.jpg?sw=369&amp;q=90\" src=\"https://www.hannaandersson.com/dw/image/v2/BBLM_PRD/on/demandware.static/-/Sites-master-catalog/default/dw644418f4/images/main/52315/52315_A91_60_01.jpg?sw=369&amp;q=50\"/>\n",
       " <img alt=\"Alternate product image for 52315-A91\" class=\"alt-image lazyload\" data-src=\"https://www.hannaandersson.com/dw/image/v2/BBLM_PRD/on/demandware.static/-/Sites-master-catalog/default/dwb353bc0d/images/main/52315/52315_A91_60_10.jpg?sw=369&amp;q=90\" src=\"https://www.hannaandersson.com/dw/image/v2/BBLM_PRD/on/demandware.static/-/Sites-master-catalog/default/dwb353bc0d/images/main/52315/52315_A91_60_10.jpg?sw=369&amp;q=50\"/>\n",
       " </a>,\n",
       " <a aria-label=\"Image link for Fancy Frogs Baby Snap Footed Sleeper In Organic Cotton 57436-Ql7\" class=\"product__image--link thumb-link\" data-product-id=\"57436-Ql7\" href=\"https://www.hannaandersson.com/pajamas-baby/57436-Ql7.html?dwvar_57436-Ql7_color=Ql7&amp;cgid=Sale\" onclick=\"gtmAnalytics.submitProductImpressionClick(_analytics_35b9da2c42cd3ceb63ab3d620a, this, 'image');\" title=\"Baby Snap Footed Sleeper In Organic Cotton\">\n",
       " <img alt=\"Product image for 57436-Ql7\" class=\"pt-image lazyload\" data-src=\"https://www.hannaandersson.com/dw/image/v2/BBLM_PRD/on/demandware.static/-/Sites-master-catalog/default/dw49ebf22d/images/main/57436/57436_Ql7_60_01.jpg?sw=369&amp;q=90\" src=\"https://www.hannaandersson.com/dw/image/v2/BBLM_PRD/on/demandware.static/-/Sites-master-catalog/default/dw49ebf22d/images/main/57436/57436_Ql7_60_01.jpg?sw=369&amp;q=50\"/>\n",
       " <img alt=\"Alternate product image for 57436-Ql7\" class=\"alt-image lazyload\" data-src=\"https://www.hannaandersson.com/dw/image/v2/BBLM_PRD/on/demandware.static/-/Sites-master-catalog/default/dw5b60c37e/images/main/57436/57436_Ql7_60_05.jpg?sw=369&amp;q=90\" src=\"https://www.hannaandersson.com/dw/image/v2/BBLM_PRD/on/demandware.static/-/Sites-master-catalog/default/dw5b60c37e/images/main/57436/57436_Ql7_60_05.jpg?sw=369&amp;q=50\"/>\n",
       " </a>,\n",
       " <a aria-label=\"Image link for Deep Olive Woven Canvas Pants 64345-61D\" class=\"product__image--link thumb-link\" data-product-id=\"64345-61D\" href=\"https://www.hannaandersson.com/boys-clothing-pants-shorts/64345-61D.html?dwvar_64345-61D_color=61D&amp;cgid=Sale\" onclick=\"gtmAnalytics.submitProductImpressionClick(_analytics_8f1aae1e3643a5284438698aad, this, 'image');\" title=\"Woven Canvas Pants\">\n",
       " <img alt=\"Product image for 64345-61D\" class=\"pt-image lazyload\" data-src=\"https://www.hannaandersson.com/dw/image/v2/BBLM_PRD/on/demandware.static/-/Sites-master-catalog/default/dw807f4e63/images/main/64345/64345_61D_110_01.jpg?sw=369&amp;q=90\" src=\"https://www.hannaandersson.com/dw/image/v2/BBLM_PRD/on/demandware.static/-/Sites-master-catalog/default/dw807f4e63/images/main/64345/64345_61D_110_01.jpg?sw=369&amp;q=50\"/>\n",
       " </a>,\n",
       " <a aria-label=\"Image link for Multi Athletic Shorts 60481-990\" class=\"product__image--link thumb-link\" data-product-id=\"60481-990\" href=\"https://www.hannaandersson.com/boys-clothing-shorts/60481-990.html?dwvar_60481-990_color=990&amp;cgid=Sale\" onclick=\"gtmAnalytics.submitProductImpressionClick(_analytics_861665a0347078b37093b78b39, this, 'image');\" title=\"Athletic Shorts\">\n",
       " <img alt=\"Product image for 60481-990\" class=\"pt-image lazyload\" data-src=\"https://www.hannaandersson.com/dw/image/v2/BBLM_PRD/on/demandware.static/-/Sites-master-catalog/default/dwa631f4e0/images/main/60481/60481_990_110_01.jpg?sw=369&amp;q=90\" src=\"https://www.hannaandersson.com/dw/image/v2/BBLM_PRD/on/demandware.static/-/Sites-master-catalog/default/dwa631f4e0/images/main/60481/60481_990_110_01.jpg?sw=369&amp;q=50\"/>\n",
       " </a>,\n",
       " <a aria-label=\"Image link for Rapunzel Disney Princess Lunch Bag 62301-GD8\" class=\"product__image--link thumb-link\" data-product-id=\"62301-GD8\" href=\"https://www.hannaandersson.com/girls-accessories-backpacks-bags/62301-GD8.html?dwvar_62301-GD8_color=GD8&amp;cgid=Sale\" onclick=\"gtmAnalytics.submitProductImpressionClick(_analytics_c18b83461991927152b603ff56, this, 'image');\" title=\"Disney Princess Lunch Bag\">\n",
       " <img alt=\"Product image for 62301-GD8\" class=\"pt-image lazyload\" data-src=\"https://www.hannaandersson.com/dw/image/v2/BBLM_PRD/on/demandware.static/-/Sites-master-catalog/default/dwb23f947b/images/main/62301/62301_GD8_OS_01.jpg?sw=369&amp;q=90\" src=\"https://www.hannaandersson.com/dw/image/v2/BBLM_PRD/on/demandware.static/-/Sites-master-catalog/default/dwb23f947b/images/main/62301/62301_GD8_OS_01.jpg?sw=369&amp;q=50\"/>\n",
       " </a>]"
      ]
     },
     "execution_count": 18,
     "metadata": {},
     "output_type": "execute_result"
    }
   ],
   "source": [
    "productfeat=soup.select('.product__image--link')\n",
    "productfeat"
   ]
  },
  {
   "cell_type": "code",
   "execution_count": 19,
   "metadata": {},
   "outputs": [
    {
     "data": {
      "text/plain": [
       "12"
      ]
     },
     "execution_count": 19,
     "metadata": {},
     "output_type": "execute_result"
    }
   ],
   "source": [
    "links=[i.get('href') for i in productselect]\n",
    "len(links)"
   ]
  },
  {
   "cell_type": "code",
   "execution_count": 20,
   "metadata": {},
   "outputs": [
    {
     "data": {
      "text/plain": [
       "['https://www.hannaandersson.com/pajamas-baby/57437-011.html?dwvar_57437-011_color=011&cgid=Sale',\n",
       " 'https://www.hannaandersson.com/boys-clothing-pants-shorts/64344-SR4.html?dwvar_64344-SR4_color=SR4&cgid=Sale',\n",
       " 'https://www.hannaandersson.com/baby-girl-dresses-skirts/57421-A91.html?dwvar_57421-A91_color=A91&cgid=Sale',\n",
       " 'https://www.hannaandersson.com/girls-clothing-dresses/60363-M07.html?dwvar_60363-M07_color=M07&cgid=Sale',\n",
       " 'https://www.hannaandersson.com/baby-girl-dresses-skirts/57421-PW1.html?dwvar_57421-PW1_color=PW1&cgid=Sale',\n",
       " 'https://www.hannaandersson.com/accessories-baby-hats/48200-J86.html?dwvar_48200-J86_color=J86&cgid=Sale',\n",
       " 'https://www.hannaandersson.com/pajamas-baby/57437-G43.html?dwvar_57437-G43_color=G43&cgid=Sale',\n",
       " 'https://www.hannaandersson.com/baby-girl-pants-leggings-shorts/52315-A91.html?dwvar_52315-A91_color=A91&cgid=Sale',\n",
       " 'https://www.hannaandersson.com/pajamas-baby/57436-Ql7.html?dwvar_57436-Ql7_color=Ql7&cgid=Sale',\n",
       " 'https://www.hannaandersson.com/boys-clothing-pants-shorts/64345-61D.html?dwvar_64345-61D_color=61D&cgid=Sale',\n",
       " 'https://www.hannaandersson.com/boys-clothing-shorts/60481-990.html?dwvar_60481-990_color=990&cgid=Sale',\n",
       " 'https://www.hannaandersson.com/girls-accessories-backpacks-bags/62301-GD8.html?dwvar_62301-GD8_color=GD8&cgid=Sale']"
      ]
     },
     "execution_count": 20,
     "metadata": {},
     "output_type": "execute_result"
    }
   ],
   "source": [
    "links"
   ]
  },
  {
   "cell_type": "code",
   "execution_count": 21,
   "metadata": {},
   "outputs": [
    {
     "data": {
      "text/plain": [
       "12"
      ]
     },
     "execution_count": 21,
     "metadata": {},
     "output_type": "execute_result"
    }
   ],
   "source": [
    "stdpriceselect=soup.select('.bfx-original-price')\n",
    "len(stdpriceselect)"
   ]
  },
  {
   "cell_type": "code",
   "execution_count": 22,
   "metadata": {},
   "outputs": [
    {
     "data": {
      "text/plain": [
       "['$40.00',\n",
       " '$48.00',\n",
       " '$40.00',\n",
       " '$48.00',\n",
       " '$40.00',\n",
       " '$20.00',\n",
       " '$40.00',\n",
       " '$30.00',\n",
       " '$40.00',\n",
       " '$50.00',\n",
       " '$38.00',\n",
       " '$30.00']"
      ]
     },
     "execution_count": 22,
     "metadata": {},
     "output_type": "execute_result"
    }
   ],
   "source": [
    "standard_prices=[i.text.strip(\"Standard Price:\") for i in stdpriceselect]\n",
    "standard_prices"
   ]
  },
  {
   "cell_type": "code",
   "execution_count": 23,
   "metadata": {},
   "outputs": [
    {
     "data": {
      "text/plain": [
       "12"
      ]
     },
     "execution_count": 23,
     "metadata": {},
     "output_type": "execute_result"
    }
   ],
   "source": [
    "salepriceselect=soup.select('.bfx-price')\n",
    "len(salepriceselect)"
   ]
  },
  {
   "cell_type": "code",
   "execution_count": 24,
   "metadata": {},
   "outputs": [
    {
     "data": {
      "text/plain": [
       "['$15.99',\n",
       " '$18.99',\n",
       " '$15.99',\n",
       " '$18.99',\n",
       " '$15.99',\n",
       " '$4.79',\n",
       " '$15.99',\n",
       " '$15.00',\n",
       " '$15.99',\n",
       " '$19.99',\n",
       " '$14.99',\n",
       " '$11.99']"
      ]
     },
     "execution_count": 24,
     "metadata": {},
     "output_type": "execute_result"
    }
   ],
   "source": [
    "sale_prices=[i.text.strip('Sale Price:') for i in salepriceselect]\n",
    "sale_prices"
   ]
  },
  {
   "cell_type": "code",
   "execution_count": 25,
   "metadata": {},
   "outputs": [
    {
     "data": {
      "text/plain": [
       "12"
      ]
     },
     "execution_count": 25,
     "metadata": {},
     "output_type": "execute_result"
    }
   ],
   "source": [
    "ratingselect=soup.select('.product__ratings')\n",
    "len(ratingselect)"
   ]
  },
  {
   "cell_type": "code",
   "execution_count": 26,
   "metadata": {},
   "outputs": [
    {
     "name": "stdout",
     "output_type": "stream",
     "text": [
      "<div class=\"product__ratings\">\n",
      "<div class=\"TTteaser TTteaser-tile\" data-productid=\"57437-011\" data-starrating=\"4.5\"></div>\n",
      "</div>\n",
      "<div class=\"product__ratings\">\n",
      "<div class=\"TTteaser TTteaser-tile\" data-productid=\"64344-SR4\" data-starrating=\"4.0\"></div>\n",
      "</div>\n",
      "<div class=\"product__ratings\">\n",
      "<div class=\"TTteaser TTteaser-tile\" data-productid=\"57421-A91\" data-starrating=\"5.0\"></div>\n",
      "</div>\n",
      "<div class=\"product__ratings\">\n",
      "<div class=\"TTteaser TTteaser-tile\" data-productid=\"60363-M07\" data-starrating=\"5.0\"></div>\n",
      "</div>\n",
      "<div class=\"product__ratings\">\n",
      "<div class=\"TTteaser TTteaser-tile\" data-productid=\"57421-PW1\" data-starrating=\"5.0\"></div>\n",
      "</div>\n",
      "<div class=\"product__ratings\">\n",
      "<div class=\"TTteaser TTteaser-tile\" data-productid=\"48200-J86\" data-starrating=\"5.0\"></div>\n",
      "</div>\n",
      "<div class=\"product__ratings\">\n",
      "<div class=\"TTteaser TTteaser-tile\" data-productid=\"57437-G43\" data-starrating=\"4.5\"></div>\n",
      "</div>\n",
      "<div class=\"product__ratings\">\n",
      "<div class=\"TTteaser TTteaser-tile\" data-productid=\"52315-A91\" data-starrating=\"5.0\"></div>\n",
      "</div>\n",
      "<div class=\"product__ratings\">\n",
      "<div class=\"TTteaser TTteaser-tile\" data-productid=\"57436-Ql7\" data-starrating=\"5.0\"></div>\n",
      "</div>\n",
      "<div class=\"product__ratings\">\n",
      "</div>\n",
      "<div class=\"product__ratings\">\n",
      "<div class=\"TTteaser TTteaser-tile\" data-productid=\"60481-990\" data-starrating=\"3.5\"></div>\n",
      "</div>\n",
      "<div class=\"product__ratings\">\n",
      "<div class=\"TTteaser TTteaser-tile\" data-productid=\"62301-GD8\" data-starrating=\"5.0\"></div>\n",
      "</div>\n"
     ]
    }
   ],
   "source": [
    "print(ratingselect[0])\n",
    "print(ratingselect[1])\n",
    "print(ratingselect[2])\n",
    "print(ratingselect[3])\n",
    "print(ratingselect[4])\n",
    "print(ratingselect[5])\n",
    "print(ratingselect[6])\n",
    "print(ratingselect[7])\n",
    "print(ratingselect[8])\n",
    "print(ratingselect[9])\n",
    "print(ratingselect[10])\n",
    "print(ratingselect[11])"
   ]
  },
  {
   "cell_type": "code",
   "execution_count": 27,
   "metadata": {},
   "outputs": [
    {
     "name": "stdout",
     "output_type": "stream",
     "text": [
      "0\n",
      "1\n",
      "2\n",
      "3\n",
      "4\n",
      "5\n",
      "6\n",
      "7\n",
      "8\n",
      "9\n",
      "10\n",
      "11\n"
     ]
    }
   ],
   "source": [
    "for i in range(0,12):\n",
    "    print(i)"
   ]
  },
  {
   "cell_type": "code",
   "execution_count": 28,
   "metadata": {},
   "outputs": [
    {
     "name": "stdout",
     "output_type": "stream",
     "text": [
      "105\n",
      "105\n",
      "105\n",
      "105\n",
      "105\n",
      "105\n",
      "105\n",
      "105\n",
      "105\n",
      "6\n",
      "105\n",
      "105\n"
     ]
    }
   ],
   "source": [
    "for i in range(0,12):\n",
    "    print(len(str(list(ratingselect[i]))))\n"
   ]
  },
  {
   "cell_type": "code",
   "execution_count": 29,
   "metadata": {},
   "outputs": [
    {
     "name": "stdout",
     "output_type": "stream",
     "text": [
      "['4.5', '4.0', '5.0', '5.0', '5.0', '5.0', '4.5', '5.0', '5.0', 'n/a', '3.5', '5.0']\n"
     ]
    }
   ],
   "source": [
    "ratings=[]\n",
    "for i in range(0,12):\n",
    "    if len(str(list(ratingselect[i])))<=8:\n",
    "        i='n/a'\n",
    "    else:\n",
    "        i=str(list(ratingselect[i])[1]).split()[4].strip('datsrivng>\"/<-=')\n",
    "    ratings.append(i)\n",
    "print(ratings)"
   ]
  },
  {
   "cell_type": "code",
   "execution_count": 30,
   "metadata": {},
   "outputs": [
    {
     "data": {
      "text/plain": [
       "12"
      ]
     },
     "execution_count": 30,
     "metadata": {},
     "output_type": "execute_result"
    }
   ],
   "source": [
    "categoryselect=soup.select(\"div.product script[type]\")\n",
    "len(categoryselect)"
   ]
  },
  {
   "cell_type": "code",
   "execution_count": 31,
   "metadata": {},
   "outputs": [],
   "source": [
    "import re"
   ]
  },
  {
   "cell_type": "code",
   "execution_count": 32,
   "metadata": {
    "scrolled": true
   },
   "outputs": [
    {
     "data": {
      "text/plain": [
       "['pajamas-baby',\n",
       " 'boys-clothing-pants-shorts',\n",
       " 'baby-girl-dresses-skirts',\n",
       " 'girls-clothing-dresses',\n",
       " 'baby-girl-dresses-skirts',\n",
       " 'accessories-baby-hats',\n",
       " 'pajamas-baby',\n",
       " 'baby-girl-pants-leggings-shorts',\n",
       " 'pajamas-baby',\n",
       " 'boys-clothing-pants-shorts',\n",
       " 'boys-clothing-shorts',\n",
       " 'girls-accessories-backpacks-bags']"
      ]
     },
     "execution_count": 32,
     "metadata": {},
     "output_type": "execute_result"
    }
   ],
   "source": [
    "product_category=re.findall(\"\\\"dimension7\\\" : \\\"(.*?)\\\"\", ' '.join([i.text for i in categoryselect]))\n",
    "product_category"
   ]
  },
  {
   "cell_type": "code",
   "execution_count": 33,
   "metadata": {},
   "outputs": [
    {
     "data": {
      "text/plain": [
       "12"
      ]
     },
     "execution_count": 33,
     "metadata": {},
     "output_type": "execute_result"
    }
   ],
   "source": [
    "len(product_category)"
   ]
  },
  {
   "cell_type": "code",
   "execution_count": 34,
   "metadata": {},
   "outputs": [
    {
     "data": {
      "text/plain": [
       "['Heather Grey',\n",
       " 'Navy Blue',\n",
       " 'Navy',\n",
       " 'Sunshine',\n",
       " 'Trek Teal',\n",
       " 'Pumpkin',\n",
       " 'Happy Pink',\n",
       " 'Navy',\n",
       " 'Fancy Frogs',\n",
       " 'Deep Olive',\n",
       " 'Multi',\n",
       " 'Rapunzel']"
      ]
     },
     "execution_count": 34,
     "metadata": {},
     "output_type": "execute_result"
    }
   ],
   "source": [
    "product_color=re.findall(\"\\\"variant\\\" : \\\"(.*?)\\\"\", ' '.join([i.text for i in categoryselect]))\n",
    "product_color"
   ]
  },
  {
   "cell_type": "code",
   "execution_count": 35,
   "metadata": {},
   "outputs": [
    {
     "data": {
      "text/plain": [
       "12"
      ]
     },
     "execution_count": 35,
     "metadata": {},
     "output_type": "execute_result"
    }
   ],
   "source": [
    "len(product_color)"
   ]
  },
  {
   "cell_type": "code",
   "execution_count": 36,
   "metadata": {},
   "outputs": [
    {
     "data": {
      "text/plain": [
       "{'Name': ['Baby Snap Footed Sleeper In Organic Cotton',\n",
       "  'Double Knee Woven Pants',\n",
       "  'Baby Dress & Bloomer Set In Organic Cotton',\n",
       "  'Super Soft Skater Dress',\n",
       "  'Baby Dress & Bloomer Set In Organic Cotton',\n",
       "  'Who Will You Be Cap',\n",
       "  'Baby Snap Footed Sleeper In Organic Cotton',\n",
       "  'Baby Sweatpants In French Terry',\n",
       "  'Baby Snap Footed Sleeper In Organic Cotton',\n",
       "  'Woven Canvas Pants',\n",
       "  'Athletic Shorts',\n",
       "  'Disney Princess Lunch Bag'],\n",
       " 'Image': ['https://www.hannaandersson.com/dw/image/v2/BBLM_PRD/on/demandware.static/-/Sites-master-catalog/default/dwe6d7c706/images/main/57437/57437_011_60_01.jpg?sw=369&q=90',\n",
       "  'https://www.hannaandersson.com/dw/image/v2/BBLM_PRD/on/demandware.static/-/Sites-master-catalog/default/dw47092f5b/images/main/64344/64344_SR4_110_01.jpg?sw=369&q=90',\n",
       "  'https://www.hannaandersson.com/dw/image/v2/BBLM_PRD/on/demandware.static/-/Sites-master-catalog/default/dwdfb2713f/images/main/57421/57421_A91_60_01.jpg?sw=369&q=90',\n",
       "  'https://www.hannaandersson.com/dw/image/v2/BBLM_PRD/on/demandware.static/-/Sites-master-catalog/default/dwdda104e6/images/main/60363/60363_M07_110_01.jpg?sw=369&q=90',\n",
       "  'https://www.hannaandersson.com/dw/image/v2/BBLM_PRD/on/demandware.static/-/Sites-master-catalog/default/dw02ce41b1/images/main/57421/57421_PW1_60_01.jpg?sw=369&q=90',\n",
       "  'https://www.hannaandersson.com/dw/image/v2/BBLM_PRD/on/demandware.static/-/Sites-master-catalog/default/dwaf8b6ae4/images/main/48200/48200_J86_60_01.jpg?sw=369&q=90',\n",
       "  'https://www.hannaandersson.com/dw/image/v2/BBLM_PRD/on/demandware.static/-/Sites-master-catalog/default/dwd04293c9/images/main/57437/57437_G43_60_01.jpg?sw=369&q=90',\n",
       "  'https://www.hannaandersson.com/dw/image/v2/BBLM_PRD/on/demandware.static/-/Sites-master-catalog/default/dw644418f4/images/main/52315/52315_A91_60_01.jpg?sw=369&q=90',\n",
       "  'https://www.hannaandersson.com/dw/image/v2/BBLM_PRD/on/demandware.static/-/Sites-master-catalog/default/dw49ebf22d/images/main/57436/57436_Ql7_60_01.jpg?sw=369&q=90',\n",
       "  'https://www.hannaandersson.com/dw/image/v2/BBLM_PRD/on/demandware.static/-/Sites-master-catalog/default/dw807f4e63/images/main/64345/64345_61D_110_01.jpg?sw=369&q=90',\n",
       "  'https://www.hannaandersson.com/dw/image/v2/BBLM_PRD/on/demandware.static/-/Sites-master-catalog/default/dwa631f4e0/images/main/60481/60481_990_110_01.jpg?sw=369&q=90',\n",
       "  'https://www.hannaandersson.com/dw/image/v2/BBLM_PRD/on/demandware.static/-/Sites-master-catalog/default/dwb23f947b/images/main/62301/62301_GD8_OS_01.jpg?sw=369&q=90'],\n",
       " 'Product Color': ['Heather Grey',\n",
       "  'Navy Blue',\n",
       "  'Navy',\n",
       "  'Sunshine',\n",
       "  'Trek Teal',\n",
       "  'Pumpkin',\n",
       "  'Happy Pink',\n",
       "  'Navy',\n",
       "  'Fancy Frogs',\n",
       "  'Deep Olive',\n",
       "  'Multi',\n",
       "  'Rapunzel'],\n",
       " 'Product link': ['https://www.hannaandersson.com/pajamas-baby/57437-011.html?dwvar_57437-011_color=011&cgid=Sale',\n",
       "  'https://www.hannaandersson.com/boys-clothing-pants-shorts/64344-SR4.html?dwvar_64344-SR4_color=SR4&cgid=Sale',\n",
       "  'https://www.hannaandersson.com/baby-girl-dresses-skirts/57421-A91.html?dwvar_57421-A91_color=A91&cgid=Sale',\n",
       "  'https://www.hannaandersson.com/girls-clothing-dresses/60363-M07.html?dwvar_60363-M07_color=M07&cgid=Sale',\n",
       "  'https://www.hannaandersson.com/baby-girl-dresses-skirts/57421-PW1.html?dwvar_57421-PW1_color=PW1&cgid=Sale',\n",
       "  'https://www.hannaandersson.com/accessories-baby-hats/48200-J86.html?dwvar_48200-J86_color=J86&cgid=Sale',\n",
       "  'https://www.hannaandersson.com/pajamas-baby/57437-G43.html?dwvar_57437-G43_color=G43&cgid=Sale',\n",
       "  'https://www.hannaandersson.com/baby-girl-pants-leggings-shorts/52315-A91.html?dwvar_52315-A91_color=A91&cgid=Sale',\n",
       "  'https://www.hannaandersson.com/pajamas-baby/57436-Ql7.html?dwvar_57436-Ql7_color=Ql7&cgid=Sale',\n",
       "  'https://www.hannaandersson.com/boys-clothing-pants-shorts/64345-61D.html?dwvar_64345-61D_color=61D&cgid=Sale',\n",
       "  'https://www.hannaandersson.com/boys-clothing-shorts/60481-990.html?dwvar_60481-990_color=990&cgid=Sale',\n",
       "  'https://www.hannaandersson.com/girls-accessories-backpacks-bags/62301-GD8.html?dwvar_62301-GD8_color=GD8&cgid=Sale'],\n",
       " 'Standard price': ['$40.00',\n",
       "  '$48.00',\n",
       "  '$40.00',\n",
       "  '$48.00',\n",
       "  '$40.00',\n",
       "  '$20.00',\n",
       "  '$40.00',\n",
       "  '$30.00',\n",
       "  '$40.00',\n",
       "  '$50.00',\n",
       "  '$38.00',\n",
       "  '$30.00'],\n",
       " 'Sale price': ['$15.99',\n",
       "  '$18.99',\n",
       "  '$15.99',\n",
       "  '$18.99',\n",
       "  '$15.99',\n",
       "  '$4.79',\n",
       "  '$15.99',\n",
       "  '$15.00',\n",
       "  '$15.99',\n",
       "  '$19.99',\n",
       "  '$14.99',\n",
       "  '$11.99'],\n",
       " 'Product category': ['pajamas-baby',\n",
       "  'boys-clothing-pants-shorts',\n",
       "  'baby-girl-dresses-skirts',\n",
       "  'girls-clothing-dresses',\n",
       "  'baby-girl-dresses-skirts',\n",
       "  'accessories-baby-hats',\n",
       "  'pajamas-baby',\n",
       "  'baby-girl-pants-leggings-shorts',\n",
       "  'pajamas-baby',\n",
       "  'boys-clothing-pants-shorts',\n",
       "  'boys-clothing-shorts',\n",
       "  'girls-accessories-backpacks-bags'],\n",
       " 'Rating': ['4.5',\n",
       "  '4.0',\n",
       "  '5.0',\n",
       "  '5.0',\n",
       "  '5.0',\n",
       "  '5.0',\n",
       "  '4.5',\n",
       "  '5.0',\n",
       "  '5.0',\n",
       "  'n/a',\n",
       "  '3.5',\n",
       "  '5.0']}"
      ]
     },
     "execution_count": 36,
     "metadata": {},
     "output_type": "execute_result"
    }
   ],
   "source": [
    "dict={\"Name\":names,\n",
    "      \"Image\":images,\n",
    "      \"Product Color\":product_color,\n",
    "      \"Product link\":links,\n",
    "      \"Standard price\":standard_prices,\n",
    "      \"Sale price\":sale_prices,\n",
    "      \"Product category\":product_category,\n",
    "      \"Rating\":ratings}\n",
    "dict"
   ]
  },
  {
   "cell_type": "code",
   "execution_count": 37,
   "metadata": {},
   "outputs": [
    {
     "data": {
      "text/html": [
       "<div>\n",
       "<style scoped>\n",
       "    .dataframe tbody tr th:only-of-type {\n",
       "        vertical-align: middle;\n",
       "    }\n",
       "\n",
       "    .dataframe tbody tr th {\n",
       "        vertical-align: top;\n",
       "    }\n",
       "\n",
       "    .dataframe thead th {\n",
       "        text-align: right;\n",
       "    }\n",
       "</style>\n",
       "<table border=\"1\" class=\"dataframe\">\n",
       "  <thead>\n",
       "    <tr style=\"text-align: right;\">\n",
       "      <th></th>\n",
       "      <th>Name</th>\n",
       "      <th>Image</th>\n",
       "      <th>Product Color</th>\n",
       "      <th>Product link</th>\n",
       "      <th>Standard price</th>\n",
       "      <th>Sale price</th>\n",
       "      <th>Product category</th>\n",
       "      <th>Rating</th>\n",
       "    </tr>\n",
       "  </thead>\n",
       "  <tbody>\n",
       "    <tr>\n",
       "      <th>0</th>\n",
       "      <td>Baby Snap Footed Sleeper In Organic Cotton</td>\n",
       "      <td>https://www.hannaandersson.com/dw/image/v2/BBL...</td>\n",
       "      <td>Heather Grey</td>\n",
       "      <td>https://www.hannaandersson.com/pajamas-baby/57...</td>\n",
       "      <td>$40.00</td>\n",
       "      <td>$15.99</td>\n",
       "      <td>pajamas-baby</td>\n",
       "      <td>4.5</td>\n",
       "    </tr>\n",
       "    <tr>\n",
       "      <th>1</th>\n",
       "      <td>Double Knee Woven Pants</td>\n",
       "      <td>https://www.hannaandersson.com/dw/image/v2/BBL...</td>\n",
       "      <td>Navy Blue</td>\n",
       "      <td>https://www.hannaandersson.com/boys-clothing-p...</td>\n",
       "      <td>$48.00</td>\n",
       "      <td>$18.99</td>\n",
       "      <td>boys-clothing-pants-shorts</td>\n",
       "      <td>4.0</td>\n",
       "    </tr>\n",
       "    <tr>\n",
       "      <th>2</th>\n",
       "      <td>Baby Dress &amp; Bloomer Set In Organic Cotton</td>\n",
       "      <td>https://www.hannaandersson.com/dw/image/v2/BBL...</td>\n",
       "      <td>Navy</td>\n",
       "      <td>https://www.hannaandersson.com/baby-girl-dress...</td>\n",
       "      <td>$40.00</td>\n",
       "      <td>$15.99</td>\n",
       "      <td>baby-girl-dresses-skirts</td>\n",
       "      <td>5.0</td>\n",
       "    </tr>\n",
       "    <tr>\n",
       "      <th>3</th>\n",
       "      <td>Super Soft Skater Dress</td>\n",
       "      <td>https://www.hannaandersson.com/dw/image/v2/BBL...</td>\n",
       "      <td>Sunshine</td>\n",
       "      <td>https://www.hannaandersson.com/girls-clothing-...</td>\n",
       "      <td>$48.00</td>\n",
       "      <td>$18.99</td>\n",
       "      <td>girls-clothing-dresses</td>\n",
       "      <td>5.0</td>\n",
       "    </tr>\n",
       "    <tr>\n",
       "      <th>4</th>\n",
       "      <td>Baby Dress &amp; Bloomer Set In Organic Cotton</td>\n",
       "      <td>https://www.hannaandersson.com/dw/image/v2/BBL...</td>\n",
       "      <td>Trek Teal</td>\n",
       "      <td>https://www.hannaandersson.com/baby-girl-dress...</td>\n",
       "      <td>$40.00</td>\n",
       "      <td>$15.99</td>\n",
       "      <td>baby-girl-dresses-skirts</td>\n",
       "      <td>5.0</td>\n",
       "    </tr>\n",
       "    <tr>\n",
       "      <th>5</th>\n",
       "      <td>Who Will You Be Cap</td>\n",
       "      <td>https://www.hannaandersson.com/dw/image/v2/BBL...</td>\n",
       "      <td>Pumpkin</td>\n",
       "      <td>https://www.hannaandersson.com/accessories-bab...</td>\n",
       "      <td>$20.00</td>\n",
       "      <td>$4.79</td>\n",
       "      <td>accessories-baby-hats</td>\n",
       "      <td>5.0</td>\n",
       "    </tr>\n",
       "    <tr>\n",
       "      <th>6</th>\n",
       "      <td>Baby Snap Footed Sleeper In Organic Cotton</td>\n",
       "      <td>https://www.hannaandersson.com/dw/image/v2/BBL...</td>\n",
       "      <td>Happy Pink</td>\n",
       "      <td>https://www.hannaandersson.com/pajamas-baby/57...</td>\n",
       "      <td>$40.00</td>\n",
       "      <td>$15.99</td>\n",
       "      <td>pajamas-baby</td>\n",
       "      <td>4.5</td>\n",
       "    </tr>\n",
       "    <tr>\n",
       "      <th>7</th>\n",
       "      <td>Baby Sweatpants In French Terry</td>\n",
       "      <td>https://www.hannaandersson.com/dw/image/v2/BBL...</td>\n",
       "      <td>Navy</td>\n",
       "      <td>https://www.hannaandersson.com/baby-girl-pants...</td>\n",
       "      <td>$30.00</td>\n",
       "      <td>$15.00</td>\n",
       "      <td>baby-girl-pants-leggings-shorts</td>\n",
       "      <td>5.0</td>\n",
       "    </tr>\n",
       "    <tr>\n",
       "      <th>8</th>\n",
       "      <td>Baby Snap Footed Sleeper In Organic Cotton</td>\n",
       "      <td>https://www.hannaandersson.com/dw/image/v2/BBL...</td>\n",
       "      <td>Fancy Frogs</td>\n",
       "      <td>https://www.hannaandersson.com/pajamas-baby/57...</td>\n",
       "      <td>$40.00</td>\n",
       "      <td>$15.99</td>\n",
       "      <td>pajamas-baby</td>\n",
       "      <td>5.0</td>\n",
       "    </tr>\n",
       "    <tr>\n",
       "      <th>9</th>\n",
       "      <td>Woven Canvas Pants</td>\n",
       "      <td>https://www.hannaandersson.com/dw/image/v2/BBL...</td>\n",
       "      <td>Deep Olive</td>\n",
       "      <td>https://www.hannaandersson.com/boys-clothing-p...</td>\n",
       "      <td>$50.00</td>\n",
       "      <td>$19.99</td>\n",
       "      <td>boys-clothing-pants-shorts</td>\n",
       "      <td>n/a</td>\n",
       "    </tr>\n",
       "    <tr>\n",
       "      <th>10</th>\n",
       "      <td>Athletic Shorts</td>\n",
       "      <td>https://www.hannaandersson.com/dw/image/v2/BBL...</td>\n",
       "      <td>Multi</td>\n",
       "      <td>https://www.hannaandersson.com/boys-clothing-s...</td>\n",
       "      <td>$38.00</td>\n",
       "      <td>$14.99</td>\n",
       "      <td>boys-clothing-shorts</td>\n",
       "      <td>3.5</td>\n",
       "    </tr>\n",
       "    <tr>\n",
       "      <th>11</th>\n",
       "      <td>Disney Princess Lunch Bag</td>\n",
       "      <td>https://www.hannaandersson.com/dw/image/v2/BBL...</td>\n",
       "      <td>Rapunzel</td>\n",
       "      <td>https://www.hannaandersson.com/girls-accessori...</td>\n",
       "      <td>$30.00</td>\n",
       "      <td>$11.99</td>\n",
       "      <td>girls-accessories-backpacks-bags</td>\n",
       "      <td>5.0</td>\n",
       "    </tr>\n",
       "  </tbody>\n",
       "</table>\n",
       "</div>"
      ],
      "text/plain": [
       "                                          Name  \\\n",
       "0   Baby Snap Footed Sleeper In Organic Cotton   \n",
       "1                      Double Knee Woven Pants   \n",
       "2   Baby Dress & Bloomer Set In Organic Cotton   \n",
       "3                      Super Soft Skater Dress   \n",
       "4   Baby Dress & Bloomer Set In Organic Cotton   \n",
       "5                          Who Will You Be Cap   \n",
       "6   Baby Snap Footed Sleeper In Organic Cotton   \n",
       "7              Baby Sweatpants In French Terry   \n",
       "8   Baby Snap Footed Sleeper In Organic Cotton   \n",
       "9                           Woven Canvas Pants   \n",
       "10                             Athletic Shorts   \n",
       "11                   Disney Princess Lunch Bag   \n",
       "\n",
       "                                                Image Product Color  \\\n",
       "0   https://www.hannaandersson.com/dw/image/v2/BBL...  Heather Grey   \n",
       "1   https://www.hannaandersson.com/dw/image/v2/BBL...     Navy Blue   \n",
       "2   https://www.hannaandersson.com/dw/image/v2/BBL...          Navy   \n",
       "3   https://www.hannaandersson.com/dw/image/v2/BBL...      Sunshine   \n",
       "4   https://www.hannaandersson.com/dw/image/v2/BBL...     Trek Teal   \n",
       "5   https://www.hannaandersson.com/dw/image/v2/BBL...       Pumpkin   \n",
       "6   https://www.hannaandersson.com/dw/image/v2/BBL...    Happy Pink   \n",
       "7   https://www.hannaandersson.com/dw/image/v2/BBL...          Navy   \n",
       "8   https://www.hannaandersson.com/dw/image/v2/BBL...   Fancy Frogs   \n",
       "9   https://www.hannaandersson.com/dw/image/v2/BBL...    Deep Olive   \n",
       "10  https://www.hannaandersson.com/dw/image/v2/BBL...         Multi   \n",
       "11  https://www.hannaandersson.com/dw/image/v2/BBL...      Rapunzel   \n",
       "\n",
       "                                         Product link Standard price  \\\n",
       "0   https://www.hannaandersson.com/pajamas-baby/57...         $40.00   \n",
       "1   https://www.hannaandersson.com/boys-clothing-p...         $48.00   \n",
       "2   https://www.hannaandersson.com/baby-girl-dress...         $40.00   \n",
       "3   https://www.hannaandersson.com/girls-clothing-...         $48.00   \n",
       "4   https://www.hannaandersson.com/baby-girl-dress...         $40.00   \n",
       "5   https://www.hannaandersson.com/accessories-bab...         $20.00   \n",
       "6   https://www.hannaandersson.com/pajamas-baby/57...         $40.00   \n",
       "7   https://www.hannaandersson.com/baby-girl-pants...         $30.00   \n",
       "8   https://www.hannaandersson.com/pajamas-baby/57...         $40.00   \n",
       "9   https://www.hannaandersson.com/boys-clothing-p...         $50.00   \n",
       "10  https://www.hannaandersson.com/boys-clothing-s...         $38.00   \n",
       "11  https://www.hannaandersson.com/girls-accessori...         $30.00   \n",
       "\n",
       "   Sale price                  Product category Rating  \n",
       "0      $15.99                      pajamas-baby    4.5  \n",
       "1      $18.99        boys-clothing-pants-shorts    4.0  \n",
       "2      $15.99          baby-girl-dresses-skirts    5.0  \n",
       "3      $18.99            girls-clothing-dresses    5.0  \n",
       "4      $15.99          baby-girl-dresses-skirts    5.0  \n",
       "5       $4.79             accessories-baby-hats    5.0  \n",
       "6      $15.99                      pajamas-baby    4.5  \n",
       "7      $15.00   baby-girl-pants-leggings-shorts    5.0  \n",
       "8      $15.99                      pajamas-baby    5.0  \n",
       "9      $19.99        boys-clothing-pants-shorts    n/a  \n",
       "10     $14.99              boys-clothing-shorts    3.5  \n",
       "11     $11.99  girls-accessories-backpacks-bags    5.0  "
      ]
     },
     "execution_count": 37,
     "metadata": {},
     "output_type": "execute_result"
    }
   ],
   "source": [
    "df = pd.DataFrame(dict)\n",
    "df"
   ]
  },
  {
   "cell_type": "code",
   "execution_count": 38,
   "metadata": {},
   "outputs": [
    {
     "data": {
      "text/plain": [
       "(12, 8)"
      ]
     },
     "execution_count": 38,
     "metadata": {},
     "output_type": "execute_result"
    }
   ],
   "source": [
    "df.shape"
   ]
  },
  {
   "cell_type": "code",
   "execution_count": null,
   "metadata": {},
   "outputs": [],
   "source": []
  },
  {
   "cell_type": "code",
   "execution_count": null,
   "metadata": {},
   "outputs": [],
   "source": []
  },
  {
   "cell_type": "code",
   "execution_count": null,
   "metadata": {},
   "outputs": [],
   "source": []
  },
  {
   "cell_type": "code",
   "execution_count": null,
   "metadata": {},
   "outputs": [],
   "source": []
  },
  {
   "cell_type": "code",
   "execution_count": null,
   "metadata": {},
   "outputs": [],
   "source": []
  }
 ],
 "metadata": {
  "kernelspec": {
   "display_name": "Python 3",
   "language": "python",
   "name": "python3"
  },
  "language_info": {
   "codemirror_mode": {
    "name": "ipython",
    "version": 3
   },
   "file_extension": ".py",
   "mimetype": "text/x-python",
   "name": "python",
   "nbconvert_exporter": "python",
   "pygments_lexer": "ipython3",
   "version": "3.7.6"
  }
 },
 "nbformat": 4,
 "nbformat_minor": 2
}
