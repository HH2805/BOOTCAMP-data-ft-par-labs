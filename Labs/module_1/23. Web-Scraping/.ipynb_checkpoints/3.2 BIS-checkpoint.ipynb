{
 "cells": [
  {
   "cell_type": "code",
   "execution_count": 1,
   "metadata": {},
   "outputs": [],
   "source": [
    "import requests as r"
   ]
  },
  {
   "cell_type": "code",
   "execution_count": 2,
   "metadata": {},
   "outputs": [],
   "source": [
    "url='https://www.vinted.fr/api/v2/items?catalog_ids=1193&color_ids=&brand_ids=&size_ids=&material_ids=&status_ids=&country_ids=&city_ids=&is_for_swap=0&page=2&per_page=24&time=1606217432&search_session_id=37d91f8e-0c9f-4fcd-a64b-5802ea048fa4'"
   ]
  },
  {
   "cell_type": "code",
   "execution_count": 3,
   "metadata": {},
   "outputs": [
    {
     "data": {
      "text/plain": [
       "<Response [401]>"
      ]
     },
     "execution_count": 3,
     "metadata": {},
     "output_type": "execute_result"
    }
   ],
   "source": [
    "r.get(url)"
   ]
  },
  {
   "cell_type": "code",
   "execution_count": 4,
   "metadata": {},
   "outputs": [],
   "source": [
    "headers=\"\"\"accept: application/json, text/plain, */*\n",
    "accept-encoding: gzip, deflate, br\n",
    "accept-language: fr\n",
    "cache-control: no-cache\n",
    "cookie: __cfduid=def393e68d18f0de189887797435429211606217287; anon_id=377020f0-efe2-49b4-ad8a-497db4b0c9c5; __cf_bm=ac27fc9912f106a84e7f82e97c72118b8ec64717-1606217290-1800-AUpszaLeW2XXybI209bGY4RRJ6j+SW1MUxheJle8j/udzFM7qxFP/cf+ir9uwKnttDivO3gzqfqKCZGR60xe2dLHy7d9kAb2PjwLW4vaVMhVvZ/KEI3pXmQt7dgq4UftNSEPeiWnyB0CmNXMpZoBs8lraJU4s7LX/CRRC9CGTdL9hStjg0BJgMgZRoWcA/NdjQ==; G_ENABLED_IDPS=google; OptanonAlertBoxClosed=2020-11-24T11:28:18.573Z; eupubconsent-v2=CO9YU8EO9YU8EAcABBENBBCsAP_AAH_AAChQGXNf_X9fb2vj-_5999t0eY1f9_63t2wzjgeNs-8NyZ_X_J4XtmMyvB34pqYKmR4EunLBAQdlHGHcTQgAwIkVqTLsYk2MjzNKJ7JEilMbe2dYGH9vn8XT-ZKY70-v___7v3-_-___7pAy6BWABQAEQAKgAhgBFACYAFwAMwAjoBhAGHAMoAywBqADaAHhAPsA_ACAQEYARkAjgBIgCfAFLAKvAWgBaQC_AG8AOkAj0BIICYgEygJsAU2AsUBaIC2AFyALzAX0AwKBh4GIAMegZEBkYDLgEQQAIA-wC9ggCQAAUADgAPAAuAB8AHwASQAxAB_AEUAJEAZoA2gBxADkAHOAOoAf4BAwCDgEXAI0AT8AoYCHwEegJWATaAsIBaAC6AF1ALtAYgAxYBkIDKAkEoABAAC4AKAAqABkADgAHgAQAAiABUADQAHkAQwBEACYAE-AKoArABYAC4AG8AOYAegBCACGgEQARIAjgBLACaAFKALcAYYAyABlwDUANUAbIA7wB7AD4gH2AfoBGACOAEpAKWAVcAuYBfgDCAGKANYAbQA3ABvAD0AHyAQ2AioBF4CRAExAJlATYAnYBQ4CkQFigLYAXIAu8BgQDBgGEgMNAYeAyIBkgDJwwAoAC4ASQAxADSAGqAOIA2QB1AF9AMjDQHAAVABWAC4AIYAZAAywBqADZAH4ARgApYBV4C0ALSAawA3gB8gENgIvASIAmwBOwCkQFyAMCAYSAw8BjADJxAAYAC4ASQAxADVAHEAbwRAZABUAFYALgAhgBkADLAGoANkAfgBGAClgFXANYAfIBDYCLwEiAJsATsApEBcgDAgGEgMPAZOMgKgAUABUAEMAJgAXABHADLAGoAPwAjABHAClgFXAK2AbwBMQCbAFogMCAYeAyIYAJADEANUAbQA4gByADwALEAbIBHo4COAAIABEADgAPAAuAB8AHIAPwAggBdAC-AGQANAAfwBFACRAFmAMIAZYAzQBpADVAG0AOIAcgA5wB1ADuAIAAQOAg4CEAERAIuATaAnwCfgFLAKgAW0AusBgAGBANYAa8A3gBxwDyAHyAQhAh8CIAEewJWAlcBMQCZQE2gKFAUgApMBTACpgFVAK2AVyArsBZQC0AFxQLoAuoBfQDAgGDAMWAZCAygdBTAAXABQAFQAMgAcABAACIAFQAMQAaAA8AB9AEMARAAmABPgCqAKwAWAAuABiADMAG8AOYAegBCACGgEQARIAjgBLACYAE0AKUAWIAtwBkADKAGiANQAbIA3wB3gD2gH2AfoA_wCLAEYAI4ASkAq4BYoC0ALSAXMAvIBfgDCAGKANoAbiA6YDqAHoAQ2AiIBF4CQQEiAJUATYAnYBQ4CmgFWALFgWwBbIC4AFyALtAXeAwkBhoDDwGJAMYAY8AyQBk5ABEAAgAH4AQQAvgBoAD-AJEAW4AwgBlgDVAG0AOIAcgA5wB4AFLALEAYAA2QBvADtgIfAR6AlcBMQCbQFCgKQAUmArYBdAC-gGBEIGYACwAKAAZABEACoAGIAQwAmABVAC4AGIAMwAbwA9ACOAFiAMoAagA3wB3gD8AH-AQMAjABHACUgFDAKvAWgBaQC5gF-AMIAYoA2gB1AD0AJBASIAlQBNgCmgFigLRgWwBbQC4AFyALtAYeAxIBkQDJyQBoAAQADgALgAhAByAF8AMgAkQBcgDLAGoANoAdwBCQCoAFiALqAa8A3gB9gErAJtAUmAsoBfQDFiUCsABAACwAKAAZAA4ACIAGIAPAAiABMACqAFwAMQAZgA2gCEAENAIgAiQBHAClAFuAMoAaoA2QB3gD8AIwARwAq8BaAFpAMUAbgA6gB8gEXgJEATYAsUBbAC7QGHgMiAZOUAZgACAAuAB8AEIAOQAfgBWAC-AGQANoAjgBIgC5AGEAMsAagA1wBtADiAHOAOoAdwA8ACAAEHAISARUAm0BPgE_AKWAWIAuoBgADFAGvAN4AdsA8gB_wEegJiATaApABTACpgFdgLQAXQAvoBgQDFikD4ABcAFAAVAAyABwAEAAKgAYgA0AB5AEMARAAmABPACkAFUALAAXAAxABmADmAIQAQ0AiACJAFKALEAW4AygBogDVAGyAO-AfYB-gEWAIwARwAlIBQwCrgFbALmAXkAwgBtADcAHoAReAkQBNgCdgFDgKaAVsAsUBbAC4AFyALtAYaAw8BjADIgGSAMnAA.f_gAD_gAAAAA; feature.expose.377020f0-efe2-49b4-ad8a-497db4b0c9c5=%5B%22sqp_ads%22%2C%22final_discovery_homepage%22%2C%22homepage_brand_image_5%22%2C%22nasa_delivery_instructions_redesign%22%2C%22disable_boosts_for_new_buyers%22%2C%22location_city_country%22%5D; _ga=GA1.2.1706906247.1606217303; _gid=GA1.2.1904756917.1606217303; _gat=1; _vinted_fr_session=RUhCVmtRZzlqcWNZdmhHTnl4VjVpUWhneEFXbk5qaWZYT1htWlp3MTQ0K1RVcGJwMGo3bUVxd29iNlpZMEFZTkJISUNDYzZUaGFtM2NhZ1kxaTRobGJiT2Z2VlV1ZnZzK1g2Q244MzRoNHR3TVRPNGFFeHQ1bTcxUlg4U216NHlzdk9JSmErZnphTzI3cFhHdjhhVDlReEpMNExuempmTFoyVHRJWHEzWUJvczNvWEdNdmpLU2xvNFpCc25SNmsvcG55cWVwU3lHWi9CRkhWWlNhd2tOMDFUR1NWZXVoZ3JnZUlRUkdyZlVaUElldjBRa3JhTk9QSVY1WE9BL0duOW14NHNiTjNXQjRJSFN6d3FKcXZmOVdhS3JKZ0dybE16MDk1ZHVtV2F2WDQ3VkNUODd2MzRCUENuU3N1ZmZoZVRmWGtOVGFETWptQXZ1OHgrNW5sVDJUS2labnJ5WW9LQ1lsUG96NHl1aUYrRnhoNzg1NVd6d0tBV20rNStJMDFmVVI1M0UwV2FuazF1eTdRREVNWUkzSWxQQzNkZlB6ZmN1SzlFOTVBdTU4Z2ZHUlgyZldOQSszQ2NXZHg2T3JkOW9rdjNPMG5JYW9RWHNlMEI0bDJQb3ZVdEYxYWo0YWxFd3A5cHNEUmQ2OWZqQUFYQ1d6NDgvZ3hsdlFiTVJzU1R3NHI3dGl3dkpRSTZqWEFJaEQ0V1VBYWNOYjJIalcvS09XMXNOaTB1alROSFZ2Q3NMTy9hWXBneVBCR2g2bnd4c3BwamVPMEVPekxhL1lFaXJFN05kRXVyOHhDOEQ4QWU4dmNNMUw5Nk8vemVMd3ZrMEp4aWtIQUxqVzk5amZSYmhWdE9HMlgzdlpKQVBpS0NGT0tHWTRJZ0FQZFZiUGJzVDdCUHd5dk9aYXFFaUhrZUF4eGhzM29uSXpZZ3JHbHBuQStENjNPYVJnVk9zNlNJdERqRGNhbmJPR3NKa2NBWnBwQ1hFZnlzVmlDNlVYckRzd3BKREo3Q3ZYZHQ4ZG81VVprVVpTZEEwWlkyUktSUit6VFJ1a2tTcmpDUldqVU1OSUU5aHBkbjVUTUJ4Ni9BNkM3TEFUT0VUaitneC8xWkVTMC9mZ2pBcWhTSkRPeUZ6SWhRZy94am80ckdSMjQwNmRWU3pGVWp2bGVLVldUc1FXemVxa3hHdWRJRElXTXVGME0xaEdjSm4vNFhHMW9mcmZ2SHdIbDAzMUNScmNHWUd4dGFVdWg4dmQ4Q0JMZ0VPSTlKc2U3bm1mRDh1QzlDSWZQRDVYUG01R1IxZDJRL1EzUXdldUhQdU9ZaDU4Sk9TaHpqa053QUhicDF6czZsWXl5OXVIV2NZWFI1eDRHcEg5aXZtcDloSFNsZS82TEszYVNMTnd2QUpHYUNXT1pUM21uU3NHM1dsZzN0aEpncVAyaDdtOFJ6M05qK2VKMGsvcGxuYkwvQVY5OWo3WUI0NXJ1Q1MvWjBWNzdIOVRBVzZPOGNFdHVyRVJ3PS0tV0pQWUh2b1I5NWNQRFdqbUpzU2o1Zz09--69248592df3986d640d8386aad7fe9ad12a92e65; OptanonConsent=isIABGlobal=false&datestamp=Tue+Nov+24+2020+12%3A30%3A37+GMT%2B0100+(Central+European+Standard+Time)&version=6.7.0&hosts=&consentId=de152a64-3557-48e1-af64-5c3bab51b0a9&interactionCount=1&landingPath=NotLandingPage&groups=C0001%3A1%2CC0002%3A1%2CC0003%3A1%2CC0004%3A1%2CSTACK42%3A1&geolocation=FR%3BIDF&AwaitingReconsent=false\n",
    "dnt: 1\n",
    "pragma: no-cache\n",
    "referer: https://www.vinted.fr/vetements?catalog[]=1193&time=1606217432&page=2\n",
    "sec-fetch-dest: empty\n",
    "sec-fetch-mode: cors\n",
    "sec-fetch-site: same-origin\n",
    "user-agent: Mozilla/5.0 (Windows NT 10.0; Win64; x64) AppleWebKit/537.36 (KHTML, like Gecko) Chrome/85.0.4183.121 Safari/537.36 OPR/71.0.3770.323\n",
    "x-csrf-token: ikDuUVA6muVPFyyVmce3n0hTYkAD7wdHiiTwINsweaCX4bcexs3D4smcCguFWrdzb4kh1gXQPdIs5/2X7FRv2Q==\"\"\""
   ]
  },
  {
   "cell_type": "code",
   "execution_count": 5,
   "metadata": {},
   "outputs": [],
   "source": [
    "headers=dict([i.split(': ') for i in headers.split('\\n')])"
   ]
  },
  {
   "cell_type": "code",
   "execution_count": 6,
   "metadata": {},
   "outputs": [],
   "source": [
    "response=r.get(url, headers=headers)"
   ]
  },
  {
   "cell_type": "code",
   "execution_count": 7,
   "metadata": {},
   "outputs": [
    {
     "data": {
      "text/plain": [
       "<Response [401]>"
      ]
     },
     "execution_count": 7,
     "metadata": {},
     "output_type": "execute_result"
    }
   ],
   "source": [
    "response"
   ]
  },
  {
   "cell_type": "code",
   "execution_count": 8,
   "metadata": {},
   "outputs": [
    {
     "data": {
      "text/plain": [
       "401"
      ]
     },
     "execution_count": 8,
     "metadata": {},
     "output_type": "execute_result"
    }
   ],
   "source": [
    "response.status_code"
   ]
  },
  {
   "cell_type": "code",
   "execution_count": 9,
   "metadata": {},
   "outputs": [
    {
     "data": {
      "text/plain": [
       "'{\"code\":100,\"message\":\"Token d\\'authentification invalide\",\"message_code\":\"invalid_authentication_token\"}'"
      ]
     },
     "execution_count": 9,
     "metadata": {},
     "output_type": "execute_result"
    }
   ],
   "source": [
    "response.text"
   ]
  },
  {
   "cell_type": "code",
   "execution_count": 10,
   "metadata": {},
   "outputs": [],
   "source": [
    "data=response.json()"
   ]
  },
  {
   "cell_type": "code",
   "execution_count": 11,
   "metadata": {},
   "outputs": [
    {
     "data": {
      "text/plain": [
       "dict_keys(['code', 'message', 'message_code'])"
      ]
     },
     "execution_count": 11,
     "metadata": {},
     "output_type": "execute_result"
    }
   ],
   "source": [
    "data.keys()"
   ]
  },
  {
   "cell_type": "code",
   "execution_count": 12,
   "metadata": {},
   "outputs": [
    {
     "ename": "KeyError",
     "evalue": "'items'",
     "output_type": "error",
     "traceback": [
      "\u001b[1;31m---------------------------------------------------------------------------\u001b[0m",
      "\u001b[1;31mKeyError\u001b[0m                                  Traceback (most recent call last)",
      "\u001b[1;32m<ipython-input-12-3abab5381d42>\u001b[0m in \u001b[0;36m<module>\u001b[1;34m\u001b[0m\n\u001b[1;32m----> 1\u001b[1;33m \u001b[0mdata\u001b[0m\u001b[1;33m[\u001b[0m\u001b[1;34m'items'\u001b[0m\u001b[1;33m]\u001b[0m\u001b[1;33m\u001b[0m\u001b[1;33m\u001b[0m\u001b[0m\n\u001b[0m",
      "\u001b[1;31mKeyError\u001b[0m: 'items'"
     ]
    }
   ],
   "source": [
    "data['items']"
   ]
  },
  {
   "cell_type": "code",
   "execution_count": 13,
   "metadata": {},
   "outputs": [],
   "source": [
    "import pandas as pd"
   ]
  },
  {
   "cell_type": "code",
   "execution_count": 14,
   "metadata": {},
   "outputs": [
    {
     "ename": "KeyError",
     "evalue": "'items'",
     "output_type": "error",
     "traceback": [
      "\u001b[1;31m---------------------------------------------------------------------------\u001b[0m",
      "\u001b[1;31mKeyError\u001b[0m                                  Traceback (most recent call last)",
      "\u001b[1;32m<ipython-input-14-758e0055503f>\u001b[0m in \u001b[0;36m<module>\u001b[1;34m\u001b[0m\n\u001b[1;32m----> 1\u001b[1;33m \u001b[0mdf\u001b[0m\u001b[1;33m=\u001b[0m\u001b[0mpd\u001b[0m\u001b[1;33m.\u001b[0m\u001b[0mjson_normalize\u001b[0m\u001b[1;33m(\u001b[0m\u001b[0mdata\u001b[0m\u001b[1;33m[\u001b[0m\u001b[1;34m'items'\u001b[0m\u001b[1;33m]\u001b[0m\u001b[1;33m)\u001b[0m\u001b[1;33m\u001b[0m\u001b[1;33m\u001b[0m\u001b[0m\n\u001b[0m",
      "\u001b[1;31mKeyError\u001b[0m: 'items'"
     ]
    }
   ],
   "source": [
    "df=pd.json_normalize(data['items'])"
   ]
  },
  {
   "cell_type": "code",
   "execution_count": null,
   "metadata": {},
   "outputs": [],
   "source": [
    "url"
   ]
  },
  {
   "cell_type": "code",
   "execution_count": null,
   "metadata": {},
   "outputs": [],
   "source": [
    "\"https://www.vinted.fr/api/v2/items?catalog_ids=1193&color_ids=&brand_ids=&size_ids=&material_ids=&status_ids=&country_ids=&city_ids=&is_for_swap=0&page=3&per_page=24&time=1606217432&search_session_id=57349038-a269-48b7-baa1-30676536bd0f\""
   ]
  },
  {
   "cell_type": "code",
   "execution_count": null,
   "metadata": {},
   "outputs": [],
   "source": [
    "df_final=pd.DataFrame()\n",
    "for i in range(1,6):\n",
    "    url=f'https://www.vinted.fr/api/v2/items?catalog_ids=1193&color_ids=&brand_ids=&size_ids=&material_ids=&status_ids=&country_ids=&city_ids=&is_for_swap=0&page={i}&per_page=24&time=1606217432&search_session_id=57349038-a269-48b7-baa1-30676536bd0f'\n",
    "    headers=f\"\"\"accept: application/json, text/plain, */*\n",
    "accept-encoding: gzip, deflate, br\n",
    "accept-language: fr\n",
    "cache-control: no-cache\n",
    "cookie: __cfduid=def393e68d18f0de189887797435429211606217287; anon_id=377020f0-efe2-49b4-ad8a-497db4b0c9c5; __cf_bm=ac27fc9912f106a84e7f82e97c72118b8ec64717-1606217290-1800-AUpszaLeW2XXybI209bGY4RRJ6j+SW1MUxheJle8j/udzFM7qxFP/cf+ir9uwKnttDivO3gzqfqKCZGR60xe2dLHy7d9kAb2PjwLW4vaVMhVvZ/KEI3pXmQt7dgq4UftNSEPeiWnyB0CmNXMpZoBs8lraJU4s7LX/CRRC9CGTdL9hStjg0BJgMgZRoWcA/NdjQ==; G_ENABLED_IDPS=google; OptanonAlertBoxClosed=2020-11-24T11:28:18.573Z; eupubconsent-v2=CO9YU8EO9YU8EAcABBENBBCsAP_AAH_AAChQGXNf_X9fb2vj-_5999t0eY1f9_63t2wzjgeNs-8NyZ_X_J4XtmMyvB34pqYKmR4EunLBAQdlHGHcTQgAwIkVqTLsYk2MjzNKJ7JEilMbe2dYGH9vn8XT-ZKY70-v___7v3-_-___7pAy6BWABQAEQAKgAhgBFACYAFwAMwAjoBhAGHAMoAywBqADaAHhAPsA_ACAQEYARkAjgBIgCfAFLAKvAWgBaQC_AG8AOkAj0BIICYgEygJsAU2AsUBaIC2AFyALzAX0AwKBh4GIAMegZEBkYDLgEQQAIA-wC9ggCQAAUADgAPAAuAB8AHwASQAxAB_AEUAJEAZoA2gBxADkAHOAOoAf4BAwCDgEXAI0AT8AoYCHwEegJWATaAsIBaAC6AF1ALtAYgAxYBkIDKAkEoABAAC4AKAAqABkADgAHgAQAAiABUADQAHkAQwBEACYAE-AKoArABYAC4AG8AOYAegBCACGgEQARIAjgBLACaAFKALcAYYAyABlwDUANUAbIA7wB7AD4gH2AfoBGACOAEpAKWAVcAuYBfgDCAGKANYAbQA3ABvAD0AHyAQ2AioBF4CRAExAJlATYAnYBQ4CkQFigLYAXIAu8BgQDBgGEgMNAYeAyIBkgDJwwAoAC4ASQAxADSAGqAOIA2QB1AF9AMjDQHAAVABWAC4AIYAZAAywBqADZAH4ARgApYBV4C0ALSAawA3gB8gENgIvASIAmwBOwCkQFyAMCAYSAw8BjADJxAAYAC4ASQAxADVAHEAbwRAZABUAFYALgAhgBkADLAGoANkAfgBGAClgFXANYAfIBDYCLwEiAJsATsApEBcgDAgGEgMPAZOMgKgAUABUAEMAJgAXABHADLAGoAPwAjABHAClgFXAK2AbwBMQCbAFogMCAYeAyIYAJADEANUAbQA4gByADwALEAbIBHo4COAAIABEADgAPAAuAB8AHIAPwAggBdAC-AGQANAAfwBFACRAFmAMIAZYAzQBpADVAG0AOIAcgA5wB1ADuAIAAQOAg4CEAERAIuATaAnwCfgFLAKgAW0AusBgAGBANYAa8A3gBxwDyAHyAQhAh8CIAEewJWAlcBMQCZQE2gKFAUgApMBTACpgFVAK2AVyArsBZQC0AFxQLoAuoBfQDAgGDAMWAZCAygdBTAAXABQAFQAMgAcABAACIAFQAMQAaAA8AB9AEMARAAmABPgCqAKwAWAAuABiADMAG8AOYAegBCACGgEQARIAjgBLACYAE0AKUAWIAtwBkADKAGiANQAbIA3wB3gD2gH2AfoA_wCLAEYAI4ASkAq4BYoC0ALSAXMAvIBfgDCAGKANoAbiA6YDqAHoAQ2AiIBF4CQQEiAJUATYAnYBQ4CmgFWALFgWwBbIC4AFyALtAXeAwkBhoDDwGJAMYAY8AyQBk5ABEAAgAH4AQQAvgBoAD-AJEAW4AwgBlgDVAG0AOIAcgA5wB4AFLALEAYAA2QBvADtgIfAR6AlcBMQCbQFCgKQAUmArYBdAC-gGBEIGYACwAKAAZABEACoAGIAQwAmABVAC4AGIAMwAbwA9ACOAFiAMoAagA3wB3gD8AH-AQMAjABHACUgFDAKvAWgBaQC5gF-AMIAYoA2gB1AD0AJBASIAlQBNgCmgFigLRgWwBbQC4AFyALtAYeAxIBkQDJyQBoAAQADgALgAhAByAF8AMgAkQBcgDLAGoANoAdwBCQCoAFiALqAa8A3gB9gErAJtAUmAsoBfQDFiUCsABAACwAKAAZAA4ACIAGIAPAAiABMACqAFwAMQAZgA2gCEAENAIgAiQBHAClAFuAMoAaoA2QB3gD8AIwARwAq8BaAFpAMUAbgA6gB8gEXgJEATYAsUBbAC7QGHgMiAZOUAZgACAAuAB8AEIAOQAfgBWAC-AGQANoAjgBIgC5AGEAMsAagA1wBtADiAHOAOoAdwA8ACAAEHAISARUAm0BPgE_AKWAWIAuoBgADFAGvAN4AdsA8gB_wEegJiATaApABTACpgFdgLQAXQAvoBgQDFikD4ABcAFAAVAAyABwAEAAKgAYgA0AB5AEMARAAmABPACkAFUALAAXAAxABmADmAIQAQ0AiACJAFKALEAW4AygBogDVAGyAO-AfYB-gEWAIwARwAlIBQwCrgFbALmAXkAwgBtADcAHoAReAkQBNgCdgFDgKaAVsAsUBbAC4AFyALtAYaAw8BjADIgGSAMnAA.f_gAD_gAAAAA; feature.expose.377020f0-efe2-49b4-ad8a-497db4b0c9c5=%5B%22sqp_ads%22%2C%22final_discovery_homepage%22%2C%22homepage_brand_image_5%22%2C%22nasa_delivery_instructions_redesign%22%2C%22disable_boosts_for_new_buyers%22%2C%22location_city_country%22%5D; _ga=GA1.2.1706906247.1606217303; _gid=GA1.2.1904756917.1606217303; _gat=1; _vinted_fr_session=RUhCVmtRZzlqcWNZdmhHTnl4VjVpUWhneEFXbk5qaWZYT1htWlp3MTQ0K1RVcGJwMGo3bUVxd29iNlpZMEFZTkJISUNDYzZUaGFtM2NhZ1kxaTRobGJiT2Z2VlV1ZnZzK1g2Q244MzRoNHR3TVRPNGFFeHQ1bTcxUlg4U216NHlzdk9JSmErZnphTzI3cFhHdjhhVDlReEpMNExuempmTFoyVHRJWHEzWUJvczNvWEdNdmpLU2xvNFpCc25SNmsvcG55cWVwU3lHWi9CRkhWWlNhd2tOMDFUR1NWZXVoZ3JnZUlRUkdyZlVaUElldjBRa3JhTk9QSVY1WE9BL0duOW14NHNiTjNXQjRJSFN6d3FKcXZmOVdhS3JKZ0dybE16MDk1ZHVtV2F2WDQ3VkNUODd2MzRCUENuU3N1ZmZoZVRmWGtOVGFETWptQXZ1OHgrNW5sVDJUS2labnJ5WW9LQ1lsUG96NHl1aUYrRnhoNzg1NVd6d0tBV20rNStJMDFmVVI1M0UwV2FuazF1eTdRREVNWUkzSWxQQzNkZlB6ZmN1SzlFOTVBdTU4Z2ZHUlgyZldOQSszQ2NXZHg2T3JkOW9rdjNPMG5JYW9RWHNlMEI0bDJQb3ZVdEYxYWo0YWxFd3A5cHNEUmQ2OWZqQUFYQ1d6NDgvZ3hsdlFiTVJzU1R3NHI3dGl3dkpRSTZqWEFJaEQ0V1VBYWNOYjJIalcvS09XMXNOaTB1alROSFZ2Q3NMTy9hWXBneVBCR2g2bnd4c3BwamVPMEVPekxhL1lFaXJFN05kRXVyOHhDOEQ4QWU4dmNNMUw5Nk8vemVMd3ZrMEp4aWtIQUxqVzk5amZSYmhWdE9HMlgzdlpKQVBpS0NGT0tHWTRJZ0FQZFZiUGJzVDdCUHd5dk9aYXFFaUhrZUF4eGhzM29uSXpZZ3JHbHBuQStENjNPYVJnVk9zNlNJdERqRGNhbmJPR3NKa2NBWnBwQ1hFZnlzVmlDNlVYckRzd3BKREo3Q3ZYZHQ4ZG81VVprVVpTZEEwWlkyUktSUit6VFJ1a2tTcmpDUldqVU1OSUU5aHBkbjVUTUJ4Ni9BNkM3TEFUT0VUaitneC8xWkVTMC9mZ2pBcWhTSkRPeUZ6SWhRZy94am80ckdSMjQwNmRWU3pGVWp2bGVLVldUc1FXemVxa3hHdWRJRElXTXVGME0xaEdjSm4vNFhHMW9mcmZ2SHdIbDAzMUNScmNHWUd4dGFVdWg4dmQ4Q0JMZ0VPSTlKc2U3bm1mRDh1QzlDSWZQRDVYUG01R1IxZDJRL1EzUXdldUhQdU9ZaDU4Sk9TaHpqa053QUhicDF6czZsWXl5OXVIV2NZWFI1eDRHcEg5aXZtcDloSFNsZS82TEszYVNMTnd2QUpHYUNXT1pUM21uU3NHM1dsZzN0aEpncVAyaDdtOFJ6M05qK2VKMGsvcGxuYkwvQVY5OWo3WUI0NXJ1Q1MvWjBWNzdIOVRBVzZPOGNFdHVyRVJ3PS0tV0pQWUh2b1I5NWNQRFdqbUpzU2o1Zz09--69248592df3986d640d8386aad7fe9ad12a92e65; OptanonConsent=isIABGlobal=false&datestamp=Tue+Nov+24+2020+12%3A30%3A37+GMT%2B0100+(Central+European+Standard+Time)&version=6.7.0&hosts=&consentId=de152a64-3557-48e1-af64-5c3bab51b0a9&interactionCount=1&landingPath=NotLandingPage&groups=C0001%3A1%2CC0002%3A1%2CC0003%3A1%2CC0004%3A1%2CSTACK42%3A1&geolocation=FR%3BIDF&AwaitingReconsent=false\n",
    "dnt: 1\n",
    "pragma: no-cache\n",
    "referer: https://www.vinted.fr/vetements?catalog[]=1193&time=1606217432&page={i-1}\n",
    "sec-fetch-dest: empty\n",
    "sec-fetch-mode: cors\n",
    "sec-fetch-site: same-origin\n",
    "user-agent: Mozilla/5.0 (Windows NT 10.0; Win64; x64) AppleWebKit/537.36 (KHTML, like Gecko) Chrome/85.0.4183.121 Safari/537.36 OPR/71.0.3770.323\n",
    "x-csrf-token: ikDuUVA6muVPFyyVmce3n0hTYkAD7wdHiiTwINsweaCX4bcexs3D4smcCguFWrdzb4kh1gXQPdIs5/2X7FRv2Q==\"\"\"\n",
    "    headers=dict([i.split(': ') for i in headers.split('\\n')])    \n",
    "    response=r.get(url, headers=headers)\n",
    "    data=response.json()\n",
    "    df=pd.json_normalize(data['items'])\n",
    "    df_final=df_final.append(df)\n",
    "    print('page number',i,'is done!')"
   ]
  },
  {
   "cell_type": "code",
   "execution_count": null,
   "metadata": {
    "scrolled": true
   },
   "outputs": [],
   "source": [
    "df_final"
   ]
  },
  {
   "cell_type": "code",
   "execution_count": null,
   "metadata": {},
   "outputs": [],
   "source": [
    "df_final.drop_duplicates(subset=['id'])"
   ]
  },
  {
   "cell_type": "code",
   "execution_count": null,
   "metadata": {},
   "outputs": [],
   "source": []
  }
 ],
 "metadata": {
  "kernelspec": {
   "display_name": "Python 3",
   "language": "python",
   "name": "python3"
  },
  "language_info": {
   "codemirror_mode": {
    "name": "ipython",
    "version": 3
   },
   "file_extension": ".py",
   "mimetype": "text/x-python",
   "name": "python",
   "nbconvert_exporter": "python",
   "pygments_lexer": "ipython3",
   "version": "3.7.6"
  }
 },
 "nbformat": 4,
 "nbformat_minor": 2
}
