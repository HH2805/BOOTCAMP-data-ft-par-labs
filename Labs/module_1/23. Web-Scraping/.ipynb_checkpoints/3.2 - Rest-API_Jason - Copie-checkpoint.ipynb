{
 "cells": [
  {
   "cell_type": "code",
   "execution_count": 1,
   "metadata": {},
   "outputs": [],
   "source": [
    "import requests as r"
   ]
  },
  {
   "cell_type": "code",
   "execution_count": 2,
   "metadata": {},
   "outputs": [],
   "source": [
    "url='https://www.zalando.fr/enfant/?gender=2&p=2'"
   ]
  },
  {
   "cell_type": "code",
   "execution_count": null,
   "metadata": {},
   "outputs": [],
   "source": [
    "r.get(url)"
   ]
  },
  {
   "cell_type": "code",
   "execution_count": 4,
   "metadata": {},
   "outputs": [],
   "source": [
    "headers=\"\"\"accept: application/json, text/plain, */*\n",
    "accept-encoding: gzip, deflate, br\n",
    "accept-language: fr\n",
    "cache-control: no-cache\n",
    "cookie: __cfduid=def393e68d18f0de189887797435429211606217287; anon_id=377020f0-efe2-49b4-ad8a-497db4b0c9c5; __cf_bm=ac27fc9912f106a84e7f82e97c72118b8ec64717-1606217290-1800-AUpszaLeW2XXybI209bGY4RRJ6j+SW1MUxheJle8j/udzFM7qxFP/cf+ir9uwKnttDivO3gzqfqKCZGR60xe2dLHy7d9kAb2PjwLW4vaVMhVvZ/KEI3pXmQt7dgq4UftNSEPeiWnyB0CmNXMpZoBs8lraJU4s7LX/CRRC9CGTdL9hStjg0BJgMgZRoWcA/NdjQ==; G_ENABLED_IDPS=google; OptanonAlertBoxClosed=2020-11-24T11:28:18.573Z; eupubconsent-v2=CO9YU8EO9YU8EAcABBENBBCsAP_AAH_AAChQGXNf_X9fb2vj-_5999t0eY1f9_63t2wzjgeNs-8NyZ_X_J4XtmMyvB34pqYKmR4EunLBAQdlHGHcTQgAwIkVqTLsYk2MjzNKJ7JEilMbe2dYGH9vn8XT-ZKY70-v___7v3-_-___7pAy6BWABQAEQAKgAhgBFACYAFwAMwAjoBhAGHAMoAywBqADaAHhAPsA_ACAQEYARkAjgBIgCfAFLAKvAWgBaQC_AG8AOkAj0BIICYgEygJsAU2AsUBaIC2AFyALzAX0AwKBh4GIAMegZEBkYDLgEQQAIA-wC9ggCQAAUADgAPAAuAB8AHwASQAxAB_AEUAJEAZoA2gBxADkAHOAOoAf4BAwCDgEXAI0AT8AoYCHwEegJWATaAsIBaAC6AF1ALtAYgAxYBkIDKAkEoABAAC4AKAAqABkADgAHgAQAAiABUADQAHkAQwBEACYAE-AKoArABYAC4AG8AOYAegBCACGgEQARIAjgBLACaAFKALcAYYAyABlwDUANUAbIA7wB7AD4gH2AfoBGACOAEpAKWAVcAuYBfgDCAGKANYAbQA3ABvAD0AHyAQ2AioBF4CRAExAJlATYAnYBQ4CkQFigLYAXIAu8BgQDBgGEgMNAYeAyIBkgDJwwAoAC4ASQAxADSAGqAOIA2QB1AF9AMjDQHAAVABWAC4AIYAZAAywBqADZAH4ARgApYBV4C0ALSAawA3gB8gENgIvASIAmwBOwCkQFyAMCAYSAw8BjADJxAAYAC4ASQAxADVAHEAbwRAZABUAFYALgAhgBkADLAGoANkAfgBGAClgFXANYAfIBDYCLwEiAJsATsApEBcgDAgGEgMPAZOMgKgAUABUAEMAJgAXABHADLAGoAPwAjABHAClgFXAK2AbwBMQCbAFogMCAYeAyIYAJADEANUAbQA4gByADwALEAbIBHo4COAAIABEADgAPAAuAB8AHIAPwAggBdAC-AGQANAAfwBFACRAFmAMIAZYAzQBpADVAG0AOIAcgA5wB1ADuAIAAQOAg4CEAERAIuATaAnwCfgFLAKgAW0AusBgAGBANYAa8A3gBxwDyAHyAQhAh8CIAEewJWAlcBMQCZQE2gKFAUgApMBTACpgFVAK2AVyArsBZQC0AFxQLoAuoBfQDAgGDAMWAZCAygdBTAAXABQAFQAMgAcABAACIAFQAMQAaAA8AB9AEMARAAmABPgCqAKwAWAAuABiADMAG8AOYAegBCACGgEQARIAjgBLACYAE0AKUAWIAtwBkADKAGiANQAbIA3wB3gD2gH2AfoA_wCLAEYAI4ASkAq4BYoC0ALSAXMAvIBfgDCAGKANoAbiA6YDqAHoAQ2AiIBF4CQQEiAJUATYAnYBQ4CmgFWALFgWwBbIC4AFyALtAXeAwkBhoDDwGJAMYAY8AyQBk5ABEAAgAH4AQQAvgBoAD-AJEAW4AwgBlgDVAG0AOIAcgA5wB4AFLALEAYAA2QBvADtgIfAR6AlcBMQCbQFCgKQAUmArYBdAC-gGBEIGYACwAKAAZABEACoAGIAQwAmABVAC4AGIAMwAbwA9ACOAFiAMoAagA3wB3gD8AH-AQMAjABHACUgFDAKvAWgBaQC5gF-AMIAYoA2gB1AD0AJBASIAlQBNgCmgFigLRgWwBbQC4AFyALtAYeAxIBkQDJyQBoAAQADgALgAhAByAF8AMgAkQBcgDLAGoANoAdwBCQCoAFiALqAa8A3gB9gErAJtAUmAsoBfQDFiUCsABAACwAKAAZAA4ACIAGIAPAAiABMACqAFwAMQAZgA2gCEAENAIgAiQBHAClAFuAMoAaoA2QB3gD8AIwARwAq8BaAFpAMUAbgA6gB8gEXgJEATYAsUBbAC7QGHgMiAZOUAZgACAAuAB8AEIAOQAfgBWAC-AGQANoAjgBIgC5AGEAMsAagA1wBtADiAHOAOoAdwA8ACAAEHAISARUAm0BPgE_AKWAWIAuoBgADFAGvAN4AdsA8gB_wEegJiATaApABTACpgFdgLQAXQAvoBgQDFikD4ABcAFAAVAAyABwAEAAKgAYgA0AB5AEMARAAmABPACkAFUALAAXAAxABmADmAIQAQ0AiACJAFKALEAW4AygBogDVAGyAO-AfYB-gEWAIwARwAlIBQwCrgFbALmAXkAwgBtADcAHoAReAkQBNgCdgFDgKaAVsAsUBbAC4AFyALtAYaAw8BjADIgGSAMnAA.f_gAD_gAAAAA; feature.expose.377020f0-efe2-49b4-ad8a-497db4b0c9c5=%5B%22sqp_ads%22%2C%22final_discovery_homepage%22%2C%22homepage_brand_image_5%22%2C%22nasa_delivery_instructions_redesign%22%2C%22disable_boosts_for_new_buyers%22%2C%22location_city_country%22%5D; _ga=GA1.2.1706906247.1606217303; _gid=GA1.2.1904756917.1606217303; _gat=1; _vinted_fr_session=RUhCVmtRZzlqcWNZdmhHTnl4VjVpUWhneEFXbk5qaWZYT1htWlp3MTQ0K1RVcGJwMGo3bUVxd29iNlpZMEFZTkJISUNDYzZUaGFtM2NhZ1kxaTRobGJiT2Z2VlV1ZnZzK1g2Q244MzRoNHR3TVRPNGFFeHQ1bTcxUlg4U216NHlzdk9JSmErZnphTzI3cFhHdjhhVDlReEpMNExuempmTFoyVHRJWHEzWUJvczNvWEdNdmpLU2xvNFpCc25SNmsvcG55cWVwU3lHWi9CRkhWWlNhd2tOMDFUR1NWZXVoZ3JnZUlRUkdyZlVaUElldjBRa3JhTk9QSVY1WE9BL0duOW14NHNiTjNXQjRJSFN6d3FKcXZmOVdhS3JKZ0dybE16MDk1ZHVtV2F2WDQ3VkNUODd2MzRCUENuU3N1ZmZoZVRmWGtOVGFETWptQXZ1OHgrNW5sVDJUS2labnJ5WW9LQ1lsUG96NHl1aUYrRnhoNzg1NVd6d0tBV20rNStJMDFmVVI1M0UwV2FuazF1eTdRREVNWUkzSWxQQzNkZlB6ZmN1SzlFOTVBdTU4Z2ZHUlgyZldOQSszQ2NXZHg2T3JkOW9rdjNPMG5JYW9RWHNlMEI0bDJQb3ZVdEYxYWo0YWxFd3A5cHNEUmQ2OWZqQUFYQ1d6NDgvZ3hsdlFiTVJzU1R3NHI3dGl3dkpRSTZqWEFJaEQ0V1VBYWNOYjJIalcvS09XMXNOaTB1alROSFZ2Q3NMTy9hWXBneVBCR2g2bnd4c3BwamVPMEVPekxhL1lFaXJFN05kRXVyOHhDOEQ4QWU4dmNNMUw5Nk8vemVMd3ZrMEp4aWtIQUxqVzk5amZSYmhWdE9HMlgzdlpKQVBpS0NGT0tHWTRJZ0FQZFZiUGJzVDdCUHd5dk9aYXFFaUhrZUF4eGhzM29uSXpZZ3JHbHBuQStENjNPYVJnVk9zNlNJdERqRGNhbmJPR3NKa2NBWnBwQ1hFZnlzVmlDNlVYckRzd3BKREo3Q3ZYZHQ4ZG81VVprVVpTZEEwWlkyUktSUit6VFJ1a2tTcmpDUldqVU1OSUU5aHBkbjVUTUJ4Ni9BNkM3TEFUT0VUaitneC8xWkVTMC9mZ2pBcWhTSkRPeUZ6SWhRZy94am80ckdSMjQwNmRWU3pGVWp2bGVLVldUc1FXemVxa3hHdWRJRElXTXVGME0xaEdjSm4vNFhHMW9mcmZ2SHdIbDAzMUNScmNHWUd4dGFVdWg4dmQ4Q0JMZ0VPSTlKc2U3bm1mRDh1QzlDSWZQRDVYUG01R1IxZDJRL1EzUXdldUhQdU9ZaDU4Sk9TaHpqa053QUhicDF6czZsWXl5OXVIV2NZWFI1eDRHcEg5aXZtcDloSFNsZS82TEszYVNMTnd2QUpHYUNXT1pUM21uU3NHM1dsZzN0aEpncVAyaDdtOFJ6M05qK2VKMGsvcGxuYkwvQVY5OWo3WUI0NXJ1Q1MvWjBWNzdIOVRBVzZPOGNFdHVyRVJ3PS0tV0pQWUh2b1I5NWNQRFdqbUpzU2o1Zz09--69248592df3986d640d8386aad7fe9ad12a92e65; OptanonConsent=isIABGlobal=false&datestamp=Tue+Nov+24+2020+12%3A30%3A37+GMT%2B0100+(Central+European+Standard+Time)&version=6.7.0&hosts=&consentId=de152a64-3557-48e1-af64-5c3bab51b0a9&interactionCount=1&landingPath=NotLandingPage&groups=C0001%3A1%2CC0002%3A1%2CC0003%3A1%2CC0004%3A1%2CSTACK42%3A1&geolocation=FR%3BIDF&AwaitingReconsent=false\n",
    "dnt: 1\n",
    "pragma: no-cache\n",
    "referer: https://www.vinted.fr/vetements?catalog[]=1193&time=1606217432&page=2\n",
    "sec-fetch-dest: empty\n",
    "sec-fetch-mode: cors\n",
    "sec-fetch-site: same-origin\n",
    "user-agent: Mozilla/5.0 (Windows NT 10.0; Win64; x64) AppleWebKit/537.36 (KHTML, like Gecko) Chrome/85.0.4183.121 Safari/537.36 OPR/71.0.3770.323\n",
    "x-csrf-token: ikDuUVA6muVPFyyVmce3n0hTYkAD7wdHiiTwINsweaCX4bcexs3D4smcCguFWrdzb4kh1gXQPdIs5/2X7FRv2Q==\"\"\""
   ]
  },
  {
   "cell_type": "code",
   "execution_count": 5,
   "metadata": {},
   "outputs": [],
   "source": [
    "headers=dict([i.split(': ') for i in headers.split('\\n')])"
   ]
  },
  {
   "cell_type": "code",
   "execution_count": 6,
   "metadata": {},
   "outputs": [
    {
     "data": {
      "text/plain": [
       "<Response [401]>"
      ]
     },
     "execution_count": 6,
     "metadata": {},
     "output_type": "execute_result"
    }
   ],
   "source": [
    "response=r.get(url, headers=headers)\n",
    "response"
   ]
  },
  {
   "cell_type": "code",
   "execution_count": 7,
   "metadata": {},
   "outputs": [
    {
     "data": {
      "text/plain": [
       "401"
      ]
     },
     "execution_count": 7,
     "metadata": {},
     "output_type": "execute_result"
    }
   ],
   "source": [
    "response.status_code"
   ]
  },
  {
   "cell_type": "code",
   "execution_count": 8,
   "metadata": {},
   "outputs": [
    {
     "data": {
      "text/plain": [
       "'{\"code\":100,\"message\":\"Token d\\'authentification invalide\",\"message_code\":\"invalid_authentication_token\"}'"
      ]
     },
     "execution_count": 8,
     "metadata": {},
     "output_type": "execute_result"
    }
   ],
   "source": [
    "response.text"
   ]
  },
  {
   "cell_type": "code",
   "execution_count": 9,
   "metadata": {},
   "outputs": [],
   "source": [
    "data=response.json()"
   ]
  },
  {
   "cell_type": "code",
   "execution_count": 10,
   "metadata": {},
   "outputs": [
    {
     "data": {
      "text/plain": [
       "dict_items([('code', 100), ('message', \"Token d'authentification invalide\"), ('message_code', 'invalid_authentication_token')])"
      ]
     },
     "execution_count": 10,
     "metadata": {},
     "output_type": "execute_result"
    }
   ],
   "source": [
    "data.items()"
   ]
  },
  {
   "cell_type": "code",
   "execution_count": 11,
   "metadata": {},
   "outputs": [],
   "source": [
    "import pandas as pd"
   ]
  },
  {
   "cell_type": "code",
   "execution_count": 12,
   "metadata": {},
   "outputs": [
    {
     "data": {
      "text/html": [
       "<div>\n",
       "<style scoped>\n",
       "    .dataframe tbody tr th:only-of-type {\n",
       "        vertical-align: middle;\n",
       "    }\n",
       "\n",
       "    .dataframe tbody tr th {\n",
       "        vertical-align: top;\n",
       "    }\n",
       "\n",
       "    .dataframe thead th {\n",
       "        text-align: right;\n",
       "    }\n",
       "</style>\n",
       "<table border=\"1\" class=\"dataframe\">\n",
       "  <thead>\n",
       "    <tr style=\"text-align: right;\">\n",
       "      <th></th>\n",
       "      <th>code</th>\n",
       "      <th>message</th>\n",
       "      <th>message_code</th>\n",
       "    </tr>\n",
       "  </thead>\n",
       "  <tbody>\n",
       "    <tr>\n",
       "      <th>0</th>\n",
       "      <td>100</td>\n",
       "      <td>Token d'authentification invalide</td>\n",
       "      <td>invalid_authentication_token</td>\n",
       "    </tr>\n",
       "  </tbody>\n",
       "</table>\n",
       "</div>"
      ],
      "text/plain": [
       "   code                            message                  message_code\n",
       "0   100  Token d'authentification invalide  invalid_authentication_token"
      ]
     },
     "execution_count": 12,
     "metadata": {},
     "output_type": "execute_result"
    }
   ],
   "source": [
    "df=pd.json_normalize(data)\n",
    "df"
   ]
  },
  {
   "cell_type": "code",
   "execution_count": 13,
   "metadata": {},
   "outputs": [
    {
     "data": {
      "text/plain": [
       "'https://www.vinted.fr/vetements?catalog[]=158&time=1606417636&page=2'"
      ]
     },
     "execution_count": 13,
     "metadata": {},
     "output_type": "execute_result"
    }
   ],
   "source": [
    "\"https://www.vinted.fr/vetements?catalog[]=158&time=1606417636&page=2\""
   ]
  },
  {
   "cell_type": "code",
   "execution_count": 14,
   "metadata": {},
   "outputs": [
    {
     "ename": "ValueError",
     "evalue": "Invalid header name b':method'",
     "output_type": "error",
     "traceback": [
      "\u001b[1;31m---------------------------------------------------------------------------\u001b[0m",
      "\u001b[1;31mValueError\u001b[0m                                Traceback (most recent call last)",
      "\u001b[1;32m<ipython-input-14-ea30c127cfd6>\u001b[0m in \u001b[0;36m<module>\u001b[1;34m\u001b[0m\n\u001b[0;32m     19\u001b[0m x-csrf-token: t7fZstuWHuLBc5fvKOmvKfIo2EkQ0a5m4k3YkvIwfNLEdXGzDzyu7yI8sud3aEJALo+ir+T00RaACgtrKSghiA==\"\"\"\n\u001b[0;32m     20\u001b[0m     \u001b[0mheaders\u001b[0m\u001b[1;33m=\u001b[0m\u001b[0mdict\u001b[0m\u001b[1;33m(\u001b[0m\u001b[1;33m[\u001b[0m\u001b[0mi\u001b[0m\u001b[1;33m.\u001b[0m\u001b[0msplit\u001b[0m\u001b[1;33m(\u001b[0m\u001b[1;34m': '\u001b[0m\u001b[1;33m)\u001b[0m \u001b[1;32mfor\u001b[0m \u001b[0mi\u001b[0m \u001b[1;32min\u001b[0m \u001b[0mheaders\u001b[0m\u001b[1;33m.\u001b[0m\u001b[0msplit\u001b[0m\u001b[1;33m(\u001b[0m\u001b[1;34m'\\n'\u001b[0m\u001b[1;33m)\u001b[0m\u001b[1;33m]\u001b[0m\u001b[1;33m)\u001b[0m\u001b[1;33m\u001b[0m\u001b[1;33m\u001b[0m\u001b[0m\n\u001b[1;32m---> 21\u001b[1;33m     \u001b[0mresponse\u001b[0m\u001b[1;33m=\u001b[0m\u001b[0mr\u001b[0m\u001b[1;33m.\u001b[0m\u001b[0mget\u001b[0m\u001b[1;33m(\u001b[0m\u001b[0murl\u001b[0m\u001b[1;33m,\u001b[0m \u001b[0mheaders\u001b[0m\u001b[1;33m=\u001b[0m\u001b[0mheaders\u001b[0m\u001b[1;33m)\u001b[0m\u001b[1;33m\u001b[0m\u001b[1;33m\u001b[0m\u001b[0m\n\u001b[0m\u001b[0;32m     22\u001b[0m     \u001b[0mdata\u001b[0m\u001b[1;33m=\u001b[0m\u001b[0mresponse\u001b[0m\u001b[1;33m.\u001b[0m\u001b[0mjson\u001b[0m\u001b[1;33m(\u001b[0m\u001b[1;33m)\u001b[0m\u001b[1;33m\u001b[0m\u001b[1;33m\u001b[0m\u001b[0m\n\u001b[0;32m     23\u001b[0m     \u001b[0mdf\u001b[0m\u001b[1;33m=\u001b[0m\u001b[0mpd\u001b[0m\u001b[1;33m.\u001b[0m\u001b[0mjson_normalize\u001b[0m\u001b[1;33m(\u001b[0m\u001b[0mdata\u001b[0m\u001b[1;33m)\u001b[0m\u001b[1;33m\u001b[0m\u001b[1;33m\u001b[0m\u001b[0m\n",
      "\u001b[1;32m~\\anaconda3\\lib\\site-packages\\requests\\api.py\u001b[0m in \u001b[0;36mget\u001b[1;34m(url, params, **kwargs)\u001b[0m\n\u001b[0;32m     74\u001b[0m \u001b[1;33m\u001b[0m\u001b[0m\n\u001b[0;32m     75\u001b[0m     \u001b[0mkwargs\u001b[0m\u001b[1;33m.\u001b[0m\u001b[0msetdefault\u001b[0m\u001b[1;33m(\u001b[0m\u001b[1;34m'allow_redirects'\u001b[0m\u001b[1;33m,\u001b[0m \u001b[1;32mTrue\u001b[0m\u001b[1;33m)\u001b[0m\u001b[1;33m\u001b[0m\u001b[1;33m\u001b[0m\u001b[0m\n\u001b[1;32m---> 76\u001b[1;33m     \u001b[1;32mreturn\u001b[0m \u001b[0mrequest\u001b[0m\u001b[1;33m(\u001b[0m\u001b[1;34m'get'\u001b[0m\u001b[1;33m,\u001b[0m \u001b[0murl\u001b[0m\u001b[1;33m,\u001b[0m \u001b[0mparams\u001b[0m\u001b[1;33m=\u001b[0m\u001b[0mparams\u001b[0m\u001b[1;33m,\u001b[0m \u001b[1;33m**\u001b[0m\u001b[0mkwargs\u001b[0m\u001b[1;33m)\u001b[0m\u001b[1;33m\u001b[0m\u001b[1;33m\u001b[0m\u001b[0m\n\u001b[0m\u001b[0;32m     77\u001b[0m \u001b[1;33m\u001b[0m\u001b[0m\n\u001b[0;32m     78\u001b[0m \u001b[1;33m\u001b[0m\u001b[0m\n",
      "\u001b[1;32m~\\anaconda3\\lib\\site-packages\\requests\\api.py\u001b[0m in \u001b[0;36mrequest\u001b[1;34m(method, url, **kwargs)\u001b[0m\n\u001b[0;32m     59\u001b[0m     \u001b[1;31m# cases, and look like a memory leak in others.\u001b[0m\u001b[1;33m\u001b[0m\u001b[1;33m\u001b[0m\u001b[1;33m\u001b[0m\u001b[0m\n\u001b[0;32m     60\u001b[0m     \u001b[1;32mwith\u001b[0m \u001b[0msessions\u001b[0m\u001b[1;33m.\u001b[0m\u001b[0mSession\u001b[0m\u001b[1;33m(\u001b[0m\u001b[1;33m)\u001b[0m \u001b[1;32mas\u001b[0m \u001b[0msession\u001b[0m\u001b[1;33m:\u001b[0m\u001b[1;33m\u001b[0m\u001b[1;33m\u001b[0m\u001b[0m\n\u001b[1;32m---> 61\u001b[1;33m         \u001b[1;32mreturn\u001b[0m \u001b[0msession\u001b[0m\u001b[1;33m.\u001b[0m\u001b[0mrequest\u001b[0m\u001b[1;33m(\u001b[0m\u001b[0mmethod\u001b[0m\u001b[1;33m=\u001b[0m\u001b[0mmethod\u001b[0m\u001b[1;33m,\u001b[0m \u001b[0murl\u001b[0m\u001b[1;33m=\u001b[0m\u001b[0murl\u001b[0m\u001b[1;33m,\u001b[0m \u001b[1;33m**\u001b[0m\u001b[0mkwargs\u001b[0m\u001b[1;33m)\u001b[0m\u001b[1;33m\u001b[0m\u001b[1;33m\u001b[0m\u001b[0m\n\u001b[0m\u001b[0;32m     62\u001b[0m \u001b[1;33m\u001b[0m\u001b[0m\n\u001b[0;32m     63\u001b[0m \u001b[1;33m\u001b[0m\u001b[0m\n",
      "\u001b[1;32m~\\anaconda3\\lib\\site-packages\\requests\\sessions.py\u001b[0m in \u001b[0;36mrequest\u001b[1;34m(self, method, url, params, data, headers, cookies, files, auth, timeout, allow_redirects, proxies, hooks, stream, verify, cert, json)\u001b[0m\n\u001b[0;32m    528\u001b[0m         }\n\u001b[0;32m    529\u001b[0m         \u001b[0msend_kwargs\u001b[0m\u001b[1;33m.\u001b[0m\u001b[0mupdate\u001b[0m\u001b[1;33m(\u001b[0m\u001b[0msettings\u001b[0m\u001b[1;33m)\u001b[0m\u001b[1;33m\u001b[0m\u001b[1;33m\u001b[0m\u001b[0m\n\u001b[1;32m--> 530\u001b[1;33m         \u001b[0mresp\u001b[0m \u001b[1;33m=\u001b[0m \u001b[0mself\u001b[0m\u001b[1;33m.\u001b[0m\u001b[0msend\u001b[0m\u001b[1;33m(\u001b[0m\u001b[0mprep\u001b[0m\u001b[1;33m,\u001b[0m \u001b[1;33m**\u001b[0m\u001b[0msend_kwargs\u001b[0m\u001b[1;33m)\u001b[0m\u001b[1;33m\u001b[0m\u001b[1;33m\u001b[0m\u001b[0m\n\u001b[0m\u001b[0;32m    531\u001b[0m \u001b[1;33m\u001b[0m\u001b[0m\n\u001b[0;32m    532\u001b[0m         \u001b[1;32mreturn\u001b[0m \u001b[0mresp\u001b[0m\u001b[1;33m\u001b[0m\u001b[1;33m\u001b[0m\u001b[0m\n",
      "\u001b[1;32m~\\anaconda3\\lib\\site-packages\\requests\\sessions.py\u001b[0m in \u001b[0;36msend\u001b[1;34m(self, request, **kwargs)\u001b[0m\n\u001b[0;32m    641\u001b[0m \u001b[1;33m\u001b[0m\u001b[0m\n\u001b[0;32m    642\u001b[0m         \u001b[1;31m# Send the request\u001b[0m\u001b[1;33m\u001b[0m\u001b[1;33m\u001b[0m\u001b[1;33m\u001b[0m\u001b[0m\n\u001b[1;32m--> 643\u001b[1;33m         \u001b[0mr\u001b[0m \u001b[1;33m=\u001b[0m \u001b[0madapter\u001b[0m\u001b[1;33m.\u001b[0m\u001b[0msend\u001b[0m\u001b[1;33m(\u001b[0m\u001b[0mrequest\u001b[0m\u001b[1;33m,\u001b[0m \u001b[1;33m**\u001b[0m\u001b[0mkwargs\u001b[0m\u001b[1;33m)\u001b[0m\u001b[1;33m\u001b[0m\u001b[1;33m\u001b[0m\u001b[0m\n\u001b[0m\u001b[0;32m    644\u001b[0m \u001b[1;33m\u001b[0m\u001b[0m\n\u001b[0;32m    645\u001b[0m         \u001b[1;31m# Total elapsed time of the request (approximately)\u001b[0m\u001b[1;33m\u001b[0m\u001b[1;33m\u001b[0m\u001b[1;33m\u001b[0m\u001b[0m\n",
      "\u001b[1;32m~\\anaconda3\\lib\\site-packages\\requests\\adapters.py\u001b[0m in \u001b[0;36msend\u001b[1;34m(self, request, stream, timeout, verify, cert, proxies)\u001b[0m\n\u001b[0;32m    447\u001b[0m                     \u001b[0mdecode_content\u001b[0m\u001b[1;33m=\u001b[0m\u001b[1;32mFalse\u001b[0m\u001b[1;33m,\u001b[0m\u001b[1;33m\u001b[0m\u001b[1;33m\u001b[0m\u001b[0m\n\u001b[0;32m    448\u001b[0m                     \u001b[0mretries\u001b[0m\u001b[1;33m=\u001b[0m\u001b[0mself\u001b[0m\u001b[1;33m.\u001b[0m\u001b[0mmax_retries\u001b[0m\u001b[1;33m,\u001b[0m\u001b[1;33m\u001b[0m\u001b[1;33m\u001b[0m\u001b[0m\n\u001b[1;32m--> 449\u001b[1;33m                     \u001b[0mtimeout\u001b[0m\u001b[1;33m=\u001b[0m\u001b[0mtimeout\u001b[0m\u001b[1;33m\u001b[0m\u001b[1;33m\u001b[0m\u001b[0m\n\u001b[0m\u001b[0;32m    450\u001b[0m                 )\n\u001b[0;32m    451\u001b[0m \u001b[1;33m\u001b[0m\u001b[0m\n",
      "\u001b[1;32m~\\anaconda3\\lib\\site-packages\\urllib3\\connectionpool.py\u001b[0m in \u001b[0;36murlopen\u001b[1;34m(self, method, url, body, headers, retries, redirect, assert_same_host, timeout, pool_timeout, release_conn, chunked, body_pos, **response_kw)\u001b[0m\n\u001b[0;32m    670\u001b[0m                 \u001b[0mbody\u001b[0m\u001b[1;33m=\u001b[0m\u001b[0mbody\u001b[0m\u001b[1;33m,\u001b[0m\u001b[1;33m\u001b[0m\u001b[1;33m\u001b[0m\u001b[0m\n\u001b[0;32m    671\u001b[0m                 \u001b[0mheaders\u001b[0m\u001b[1;33m=\u001b[0m\u001b[0mheaders\u001b[0m\u001b[1;33m,\u001b[0m\u001b[1;33m\u001b[0m\u001b[1;33m\u001b[0m\u001b[0m\n\u001b[1;32m--> 672\u001b[1;33m                 \u001b[0mchunked\u001b[0m\u001b[1;33m=\u001b[0m\u001b[0mchunked\u001b[0m\u001b[1;33m,\u001b[0m\u001b[1;33m\u001b[0m\u001b[1;33m\u001b[0m\u001b[0m\n\u001b[0m\u001b[0;32m    673\u001b[0m             )\n\u001b[0;32m    674\u001b[0m \u001b[1;33m\u001b[0m\u001b[0m\n",
      "\u001b[1;32m~\\anaconda3\\lib\\site-packages\\urllib3\\connectionpool.py\u001b[0m in \u001b[0;36m_make_request\u001b[1;34m(self, conn, method, url, timeout, chunked, **httplib_request_kw)\u001b[0m\n\u001b[0;32m    385\u001b[0m             \u001b[0mconn\u001b[0m\u001b[1;33m.\u001b[0m\u001b[0mrequest_chunked\u001b[0m\u001b[1;33m(\u001b[0m\u001b[0mmethod\u001b[0m\u001b[1;33m,\u001b[0m \u001b[0murl\u001b[0m\u001b[1;33m,\u001b[0m \u001b[1;33m**\u001b[0m\u001b[0mhttplib_request_kw\u001b[0m\u001b[1;33m)\u001b[0m\u001b[1;33m\u001b[0m\u001b[1;33m\u001b[0m\u001b[0m\n\u001b[0;32m    386\u001b[0m         \u001b[1;32melse\u001b[0m\u001b[1;33m:\u001b[0m\u001b[1;33m\u001b[0m\u001b[1;33m\u001b[0m\u001b[0m\n\u001b[1;32m--> 387\u001b[1;33m             \u001b[0mconn\u001b[0m\u001b[1;33m.\u001b[0m\u001b[0mrequest\u001b[0m\u001b[1;33m(\u001b[0m\u001b[0mmethod\u001b[0m\u001b[1;33m,\u001b[0m \u001b[0murl\u001b[0m\u001b[1;33m,\u001b[0m \u001b[1;33m**\u001b[0m\u001b[0mhttplib_request_kw\u001b[0m\u001b[1;33m)\u001b[0m\u001b[1;33m\u001b[0m\u001b[1;33m\u001b[0m\u001b[0m\n\u001b[0m\u001b[0;32m    388\u001b[0m \u001b[1;33m\u001b[0m\u001b[0m\n\u001b[0;32m    389\u001b[0m         \u001b[1;31m# Reset the timeout for the recv() on the socket\u001b[0m\u001b[1;33m\u001b[0m\u001b[1;33m\u001b[0m\u001b[1;33m\u001b[0m\u001b[0m\n",
      "\u001b[1;32m~\\anaconda3\\lib\\http\\client.py\u001b[0m in \u001b[0;36mrequest\u001b[1;34m(self, method, url, body, headers, encode_chunked)\u001b[0m\n\u001b[0;32m   1250\u001b[0m                 encode_chunked=False):\n\u001b[0;32m   1251\u001b[0m         \u001b[1;34m\"\"\"Send a complete request to the server.\"\"\"\u001b[0m\u001b[1;33m\u001b[0m\u001b[1;33m\u001b[0m\u001b[0m\n\u001b[1;32m-> 1252\u001b[1;33m         \u001b[0mself\u001b[0m\u001b[1;33m.\u001b[0m\u001b[0m_send_request\u001b[0m\u001b[1;33m(\u001b[0m\u001b[0mmethod\u001b[0m\u001b[1;33m,\u001b[0m \u001b[0murl\u001b[0m\u001b[1;33m,\u001b[0m \u001b[0mbody\u001b[0m\u001b[1;33m,\u001b[0m \u001b[0mheaders\u001b[0m\u001b[1;33m,\u001b[0m \u001b[0mencode_chunked\u001b[0m\u001b[1;33m)\u001b[0m\u001b[1;33m\u001b[0m\u001b[1;33m\u001b[0m\u001b[0m\n\u001b[0m\u001b[0;32m   1253\u001b[0m \u001b[1;33m\u001b[0m\u001b[0m\n\u001b[0;32m   1254\u001b[0m     \u001b[1;32mdef\u001b[0m \u001b[0m_send_request\u001b[0m\u001b[1;33m(\u001b[0m\u001b[0mself\u001b[0m\u001b[1;33m,\u001b[0m \u001b[0mmethod\u001b[0m\u001b[1;33m,\u001b[0m \u001b[0murl\u001b[0m\u001b[1;33m,\u001b[0m \u001b[0mbody\u001b[0m\u001b[1;33m,\u001b[0m \u001b[0mheaders\u001b[0m\u001b[1;33m,\u001b[0m \u001b[0mencode_chunked\u001b[0m\u001b[1;33m)\u001b[0m\u001b[1;33m:\u001b[0m\u001b[1;33m\u001b[0m\u001b[1;33m\u001b[0m\u001b[0m\n",
      "\u001b[1;32m~\\anaconda3\\lib\\http\\client.py\u001b[0m in \u001b[0;36m_send_request\u001b[1;34m(self, method, url, body, headers, encode_chunked)\u001b[0m\n\u001b[0;32m   1291\u001b[0m \u001b[1;33m\u001b[0m\u001b[0m\n\u001b[0;32m   1292\u001b[0m         \u001b[1;32mfor\u001b[0m \u001b[0mhdr\u001b[0m\u001b[1;33m,\u001b[0m \u001b[0mvalue\u001b[0m \u001b[1;32min\u001b[0m \u001b[0mheaders\u001b[0m\u001b[1;33m.\u001b[0m\u001b[0mitems\u001b[0m\u001b[1;33m(\u001b[0m\u001b[1;33m)\u001b[0m\u001b[1;33m:\u001b[0m\u001b[1;33m\u001b[0m\u001b[1;33m\u001b[0m\u001b[0m\n\u001b[1;32m-> 1293\u001b[1;33m             \u001b[0mself\u001b[0m\u001b[1;33m.\u001b[0m\u001b[0mputheader\u001b[0m\u001b[1;33m(\u001b[0m\u001b[0mhdr\u001b[0m\u001b[1;33m,\u001b[0m \u001b[0mvalue\u001b[0m\u001b[1;33m)\u001b[0m\u001b[1;33m\u001b[0m\u001b[1;33m\u001b[0m\u001b[0m\n\u001b[0m\u001b[0;32m   1294\u001b[0m         \u001b[1;32mif\u001b[0m \u001b[0misinstance\u001b[0m\u001b[1;33m(\u001b[0m\u001b[0mbody\u001b[0m\u001b[1;33m,\u001b[0m \u001b[0mstr\u001b[0m\u001b[1;33m)\u001b[0m\u001b[1;33m:\u001b[0m\u001b[1;33m\u001b[0m\u001b[1;33m\u001b[0m\u001b[0m\n\u001b[0;32m   1295\u001b[0m             \u001b[1;31m# RFC 2616 Section 3.7.1 says that text default has a\u001b[0m\u001b[1;33m\u001b[0m\u001b[1;33m\u001b[0m\u001b[1;33m\u001b[0m\u001b[0m\n",
      "\u001b[1;32m~\\anaconda3\\lib\\http\\client.py\u001b[0m in \u001b[0;36mputheader\u001b[1;34m(self, header, *values)\u001b[0m\n\u001b[0;32m   1218\u001b[0m \u001b[1;33m\u001b[0m\u001b[0m\n\u001b[0;32m   1219\u001b[0m         \u001b[1;32mif\u001b[0m \u001b[1;32mnot\u001b[0m \u001b[0m_is_legal_header_name\u001b[0m\u001b[1;33m(\u001b[0m\u001b[0mheader\u001b[0m\u001b[1;33m)\u001b[0m\u001b[1;33m:\u001b[0m\u001b[1;33m\u001b[0m\u001b[1;33m\u001b[0m\u001b[0m\n\u001b[1;32m-> 1220\u001b[1;33m             \u001b[1;32mraise\u001b[0m \u001b[0mValueError\u001b[0m\u001b[1;33m(\u001b[0m\u001b[1;34m'Invalid header name %r'\u001b[0m \u001b[1;33m%\u001b[0m \u001b[1;33m(\u001b[0m\u001b[0mheader\u001b[0m\u001b[1;33m,\u001b[0m\u001b[1;33m)\u001b[0m\u001b[1;33m)\u001b[0m\u001b[1;33m\u001b[0m\u001b[1;33m\u001b[0m\u001b[0m\n\u001b[0m\u001b[0;32m   1221\u001b[0m \u001b[1;33m\u001b[0m\u001b[0m\n\u001b[0;32m   1222\u001b[0m         \u001b[0mvalues\u001b[0m \u001b[1;33m=\u001b[0m \u001b[0mlist\u001b[0m\u001b[1;33m(\u001b[0m\u001b[0mvalues\u001b[0m\u001b[1;33m)\u001b[0m\u001b[1;33m\u001b[0m\u001b[1;33m\u001b[0m\u001b[0m\n",
      "\u001b[1;31mValueError\u001b[0m: Invalid header name b':method'"
     ]
    }
   ],
   "source": [
    "df_final=pd.DataFrame()\n",
    "for i in range(1,6):\n",
    "    url='https://www.vinted.fr/vetements?catalog[]=158&time=1606417636&page={i}'\n",
    "    headers=f\"\"\"authority: www.vinted.fr\n",
    ":method: GET\n",
    ":path: /api/v2/items?catalog_ids=158&color_ids=&brand_ids=&size_ids=&material_ids=&status_ids=&country_ids=&city_ids=&is_for_swap=0&page={i}&per_page=24&time=1606417636&search_session_id=5029ee2b-c2c6-49bb-a3a3-b45e911cd8fd\n",
    ":scheme: https\n",
    "accept: application/json, text/plain, */*\n",
    "accept-encoding: gzip, deflate, br\n",
    "accept-language: fr\n",
    "cache-control: no-cache\n",
    "cookie: __cfduid=d4d35af4319a437b4de2f4cb59534917c1606417476; anon_id=7e5e099a-6060-4740-8fe4-462229cc4a65; __cf_bm=97f7e27df675d9bbaad8a0b511bd1407cd2ebffe-1606417620-1800-AZpt7KzPRYIn4YM3vWwHL0Kip1gfGVcyLs/VVy/Ovr13cnI0WlUXBhcOPLEfkx38mNO3CMwKDui7gENKxo+q9BYaUujcrImBulMpRUi6zBRDH+s4HQh9jBuq4xPq6gNSgaNb653z2CLlEusJRqkjvFI4ol+f+awBOk23sgQHj1T9xTmpbT2eLZ2EAxvyBdSRpg==; G_ENABLED_IDPS=google; OptanonAlertBoxClosed=2020-11-26T19:07:09.395Z; eupubconsent-v2=CO9f-BWO9f-BWAcABBENBBCsAP_AAH_AAChQGXNf_X9fb2vj-_5999t0eY1f9_63t2wzjgeNs-8NyZ_X_J4XtmMyvB34pqYKmR4EunLBAQdlHGHcTQgAwIkVqTLsYk2MjzNKJ7JEilMbe2dYGH9vn8XT-ZKY70-v___7v3-_-___7pAy6BWABQAEQAKgAhgBFACYAFwAMwAjoBhAGHAMoAywBqADaAHhAPsA_ACAQEYARkAjgBIgCfAFLAKvAWgBaQC_AG8AOkAj0BIICYgEygJsAU2AsUBaIC2AFyALzAX0AwKBh4GIAMegZEBkYDLgEQQAIA-wC9ggCQAAUADgAPAAuAB8AHwASQAxAB_AEUAJEAZoA2gBxADkAHOAOoAf4BAwCDgEXAI0AT8AoYCHwEegJWATaAsIBaAC6AF1ALtAYgAxYBkIDKAkEoABAAC4AKAAqABkADgAHgAQAAiABUADQAHkAQwBEACYAE-AKoArABYAC4AG8AOYAegBCACGgEQARIAjgBLACaAFKALcAYYAyABlwDUANUAbIA7wB7AD4gH2AfoBGACOAEpAKWAVcAuYBfgDCAGKANYAbQA3ABvAD0AHyAQ2AioBF4CRAExAJlATYAnYBQ4CkQFigLYAXIAu8BgQDBgGEgMNAYeAyIBkgDJwwAoAC4ASQAxADSAGqAOIA2QB1AF9AMjDQHAAVABWAC4AIYAZAAywBqADZAH4ARgApYBV4C0ALSAawA3gB8gENgIvASIAmwBOwCkQFyAMCAYSAw8BjADJxAAYAC4ASQAxADVAHEAbwRAZABUAFYALgAhgBkADLAGoANkAfgBGAClgFXANYAfIBDYCLwEiAJsATsApEBcgDAgGEgMPAZOMgKgAUABUAEMAJgAXABHADLAGoAPwAjABHAClgFXAK2AbwBMQCbAFogMCAYeAyIYAJADEANUAbQA4gByADwALEAbIBHo4COAAIABEADgAPAAuAB8AHIAPwAggBdAC-AGQANAAfwBFACRAFmAMIAZYAzQBpADVAG0AOIAcgA5wB1ADuAIAAQOAg4CEAERAIuATaAnwCfgFLAKgAW0AusBgAGBANYAa8A3gBxwDyAHyAQhAh8CIAEewJWAlcBMQCZQE2gKFAUgApMBTACpgFVAK2AVyArsBZQC0AFxQLoAuoBfQDAgGDAMWAZCAygdBTAAXABQAFQAMgAcABAACIAFQAMQAaAA8AB9AEMARAAmABPgCqAKwAWAAuABiADMAG8AOYAegBCACGgEQARIAjgBLACYAE0AKUAWIAtwBkADKAGiANQAbIA3wB3gD2gH2AfoA_wCLAEYAI4ASkAq4BYoC0ALSAXMAvIBfgDCAGKANoAbiA6YDqAHoAQ2AiIBF4CQQEiAJUATYAnYBQ4CmgFWALFgWwBbIC4AFyALtAXeAwkBhoDDwGJAMYAY8AyQBk5ABEAAgAH4AQQAvgBoAD-AJEAW4AwgBlgDVAG0AOIAcgA5wB4AFLALEAYAA2QBvADtgIfAR6AlcBMQCbQFCgKQAUmArYBdAC-gGBEIGYACwAKAAZABEACoAGIAQwAmABVAC4AGIAMwAbwA9ACOAFiAMoAagA3wB3gD8AH-AQMAjABHACUgFDAKvAWgBaQC5gF-AMIAYoA2gB1AD0AJBASIAlQBNgCmgFigLRgWwBbQC4AFyALtAYeAxIBkQDJyQBoAAQADgALgAhAByAF8AMgAkQBcgDLAGoANoAdwBCQCoAFiALqAa8A3gB9gErAJtAUmAsoBfQDFiUCsABAACwAKAAZAA4ACIAGIAPAAiABMACqAFwAMQAZgA2gCEAENAIgAiQBHAClAFuAMoAaoA2QB3gD8AIwARwAq8BaAFpAMUAbgA6gB8gEXgJEATYAsUBbAC7QGHgMiAZOUAZgACAAuAB8AEIAOQAfgBWAC-AGQANoAjgBIgC5AGEAMsAagA1wBtADiAHOAOoAdwA8ACAAEHAISARUAm0BPgE_AKWAWIAuoBgADFAGvAN4AdsA8gB_wEegJiATaApABTACpgFdgLQAXQAvoBgQDFikD4ABcAFAAVAAyABwAEAAKgAYgA0AB5AEMARAAmABPACkAFUALAAXAAxABmADmAIQAQ0AiACJAFKALEAW4AygBogDVAGyAO-AfYB-gEWAIwARwAlIBQwCrgFbALmAXkAwgBtADcAHoAReAkQBNgCdgFDgKaAVsAsUBbAC4AFyALtAYaAw8BjADIgGSAMnAA.f_gAD_gAAAAA; feature.expose.7e5e099a-6060-4740-8fe4-462229cc4a65=%5B%22sqp_ads%22%2C%22final_discovery_homepage%22%2C%22homepage_brand_image_5%22%2C%22nasa_delivery_instructions_redesign%22%2C%22disable_boosts_for_new_buyers%22%2C%22location_city_country%22%5D; _lm_id=17XGOHPBCGZ09A8H; _gid=GA1.2.337301225.1606417639; _gcl_au=1.1.1753118879.1606417639; _fbp=fb.1.1606417639202.943446011; OptanonConsent=isIABGlobal=false&datestamp=Thu+Nov+26+2020+20%3A07%3A19+GMT%2B0100+(heure+normale+d%E2%80%99Europe+centrale)&version=6.7.0&hosts=&consentId=3da64186-3e6c-48f4-8d3c-904d183600e5&interactionCount=1&landingPath=NotLandingPage&groups=C0001%3A1%2CC0002%3A1%2CC0003%3A1%2CC0004%3A1%2CSTACK42%3A1&geolocation=FR%3B&AwaitingReconsent=false; _vinted_fr_session=c0w2L0QvT2tUeUdLaXdCenFtbWV4MVpUdFpLTjU1ODgwTVUvSTdCbEdjaTJIbDBBV2grRTkxNExYdmVZZElGOW13QzliMjNPYzBXTnhBdzFEd3FMK1RyRm9jaG1OYjA2TlhSUVl3SVF1US9CNVF2VmNZTndQbHZlbU55M3BQdEtvbGhNRUFmK2NCb2czUEJWVThYNEtmR3B4a2Jkbyt0Q0pPTkdXZ2VKanVtZ2hpR1gycy9hVWxLY2JWdTNFa3dnTlpuS2pZRkxneHRIRCtKQ3htQ2tTNjFYaTZSVUJZUDBLY0ltbXEwaUZYVUQ1eldVdjlySjRxMk9Scjg1NFJnajRnbXFRU3hLRDRONjEwZEd3OUtEdm44RitDdkJKSjhGaUpsTkdBUVRPVUtPRlZnUkcyZVZUOUpSaHFtM3Z5eVdkbkhUVGVNUjRaRDBpclpOTWZkdzBySS9odGxoNEJ4ajBnM3pRSWJQeHBtT0lFMjFQTTE0ckVndGtRNmVJV3MzSmVHQ2NBYlI5TFh1QWwxUzArdHNPRVU4MmZzSWlLUlVvRWxTRzRBeWlQUHorOFVqUk1WdVdiV3pYcVJxZzQ3RzRVWm5HN1BvRzdUakhHYjdDN1JDQW5TSTh6aGZySHEyUFFrcU42V1g2bHhyaDhTWEdZL0ZNZlZmanp5YnVKNXZ3MituSE80dzRTQkhFenJDd004ejRQWXlzaHZoS21ZaU16SFlXWndNU0JoTmdwY0lpSDl4dk1IUzdLbDh4ZVZwcVFZdGo4NXE5OEtJZ2gzVW1yenB0c1UzN0RNYlM5dG5hRDlET0NpMDJwZ0JLM2Q4aG1BWFdoMlRIOUFWUThkM1E4NkdVR3VWQXkyaWdBQWVVNHd1Z2RLOFg3ODkxM0E5QmlQdXZOT2xOZ1lEZzQxK296Z0FWcEVoRjJwOTBRdncyQnZ6VHU5Tjh6MWF1ZDZydVNtNUFwYm1DVlhIZzVHd0VuYk4rdDltbklFWll5SEg4Qm5Zc0R5R1RXdTNqM0ttZ3cwWWRlMHdhdTRaK2pyWHd5cWNVRDNzemQvaHBGMXZEaG5OdEJ3MEZHcHZqNHlrYXJLSzJ4QUdNR2VidERUOVNFMFVWRDNIVlpDcDMra0NDcHhVcUx3STcrZWZMemI4TCs3M1dBcUhVWTFzd1I0U001RDBJZjRVanJNRXlpcmxVb001RWFEWkZrV1d2RlZCQkJaN2lhUHRDNEJENGFwSUJXTzRvdUdXYmxNQzYvcCt0L0t3YWVPUDFOVzNiZ25rQkZkdThlOHI1dzE1OEl6QmpHcEFnRDFoU3RKaUt0WlhUSDlJVUhXTHV3U3hyT3JMVVdmQ1pVVnpUbUJBRlg5NHJkczFhR0lTMVF0QjB5OTVzclJpL0l1UHdHblk4eFVTSVR5UnlrNGd6blRseUwzWDNqem9RcjhsTkpYeXNEbEs5SU9Nb1d0YUR2UEExaTluSVdBMHBKVjMvL1RtTDJZTElXSDJCUVRraGt3PS0tNkx2Q1dyUzhnbnB2d3ptUXFFSkpUUT09--da7d5965251517bd9cab6ae752801b44c9456ebb; _ga_ZJHK1N3D75=GS1.1.1606417639.1.0.1606417639.60; _ga=GA1.1.820534410.1606417639; __gads=ID=8be4fc5c724de7c8:T=1606417639:S=ALNI_MamPzmQYatVS3Qa8dP_IOE-3stU_Q\n",
    "pragma: no-cache\n",
    "referer: https://www.vinted.fr/vetements?catalog[]=158&time=1606417636&page={i}\n",
    "sec-fetch-dest: empty\n",
    "sec-fetch-mode: cors\n",
    "sec-fetch-site: same-origin\n",
    "user-agent: Mozilla/5.0 (Windows NT 10.0; Win64; x64) AppleWebKit/537.36 (KHTML, like Gecko) Chrome/87.0.4280.66 Safari/537.36\n",
    "x-csrf-token: t7fZstuWHuLBc5fvKOmvKfIo2EkQ0a5m4k3YkvIwfNLEdXGzDzyu7yI8sud3aEJALo+ir+T00RaACgtrKSghiA==\"\"\"\n",
    "    headers=dict([i.split(': ') for i in headers.split('\\n')])    \n",
    "    response=r.get(url, headers=headers)\n",
    "    data=response.json()\n",
    "    df=pd.json_normalize(data)\n",
    "    df_final=df_final.append(df)\n",
    "    print('page number',i,'is done!')"
   ]
  },
  {
   "cell_type": "code",
   "execution_count": null,
   "metadata": {
    "scrolled": true
   },
   "outputs": [],
   "source": [
    "df_final"
   ]
  },
  {
   "cell_type": "code",
   "execution_count": null,
   "metadata": {
    "scrolled": true
   },
   "outputs": [],
   "source": [
    "df_final.drop_duplicates(subset=['id'])"
   ]
  },
  {
   "cell_type": "code",
   "execution_count": null,
   "metadata": {},
   "outputs": [],
   "source": []
  },
  {
   "cell_type": "code",
   "execution_count": null,
   "metadata": {},
   "outputs": [],
   "source": [
    "control-allow-credentials: true\n",
    "access-control-allow-methods\n",
    "access-control-allow-origin: https://www.hannaandersson.com\n",
    "content-encoding: gzip\n",
    "content-length: 61\n",
    "content-type: application/json\n",
    "date: Thu, 26 Nov 2020 16:30:38 GMT\n",
    "set-cookie: AWSALB=OQshgcDXDClHuRrqPlcjzTGoek3DT2RKtej8clZ3EWoAfWj8dxX5AbHJuwVrXN2pAlGDpTsLnXdCCcSo0dslzSmpRBp4yyUeB3PUc/2UIPvJCclt4+ZAsbVerVlF; Expires=Thu, 03 Dec 2020 16:30:38 GMT; Path=/\n",
    "set-cookie: AWSALBCORS=OQshgcDXDClHuRrqPlcjzTGoek3DT2RKtej8clZ3EWoAfWj8dxX5AbHJuwVrXN2pAlGDpTsLnXdCCcSo0dslzSmpRBp4yyUeB3PUc/2UIPvJCclt4+ZAsbVerVlF; Expires=Thu, 03 Dec 2020 16:30:38 GMT; Path=/; SameSite=None; Secure\n",
    "set-cookie: SIZEBAY_SESSION_ID_V3=1625582F56D36f3d231bb78e4378a"
   ]
  },
  {
   "cell_type": "code",
   "execution_count": null,
   "metadata": {},
   "outputs": [],
   "source": []
  },
  {
   "cell_type": "code",
   "execution_count": null,
   "metadata": {},
   "outputs": [],
   "source": [
    "url='https://www.hannaandersson.com/sale/'"
   ]
  },
  {
   "cell_type": "code",
   "execution_count": null,
   "metadata": {},
   "outputs": [],
   "source": [
    "r.get(url)"
   ]
  },
  {
   "cell_type": "code",
   "execution_count": null,
   "metadata": {},
   "outputs": [],
   "source": [
    "headers=\"\"\"accept: */*\n",
    "accept-encoding: gzip, deflate, br\n",
    "accept-language: fr-FR,fr;q=0.9,en-US;q=0.8,en;q=0.7\n",
    "cache-control: no-cache\n",
    "origin: https://www.hannaandersson.com\n",
    "pragma: no-cache\n",
    "referer: https://www.hannaandersson.com/\n",
    "sec-fetch-dest: empty\n",
    "sec-fetch-mode: cors\n",
    "sec-fetch-site: cross-site\n",
    "user-agent: Mozilla/5.0 (Windows NT 10.0; Win64; x64) AppleWebKit/537.36 (KHTML, like Gecko) Chrome/87.0.4280.66 Safari/537.36\"\"\"\n"
   ]
  },
  {
   "cell_type": "code",
   "execution_count": null,
   "metadata": {},
   "outputs": [],
   "source": [
    "headers=dict([i.split(': ') for i in headers.split('\\n')])"
   ]
  },
  {
   "cell_type": "code",
   "execution_count": null,
   "metadata": {},
   "outputs": [],
   "source": [
    "response=r.get(url, headers=headers)\n",
    "response"
   ]
  },
  {
   "cell_type": "code",
   "execution_count": null,
   "metadata": {},
   "outputs": [],
   "source": [
    "response.status_code"
   ]
  },
  {
   "cell_type": "code",
   "execution_count": null,
   "metadata": {},
   "outputs": [],
   "source": [
    "response.text"
   ]
  },
  {
   "cell_type": "code",
   "execution_count": null,
   "metadata": {},
   "outputs": [],
   "source": [
    "data=response.json()"
   ]
  },
  {
   "cell_type": "code",
   "execution_count": null,
   "metadata": {},
   "outputs": [],
   "source": []
  },
  {
   "cell_type": "code",
   "execution_count": null,
   "metadata": {},
   "outputs": [],
   "source": []
  },
  {
   "cell_type": "code",
   "execution_count": null,
   "metadata": {},
   "outputs": [],
   "source": []
  }
 ],
 "metadata": {
  "kernelspec": {
   "display_name": "Python 3",
   "language": "python",
   "name": "python3"
  },
  "language_info": {
   "codemirror_mode": {
    "name": "ipython",
    "version": 3
   },
   "file_extension": ".py",
   "mimetype": "text/x-python",
   "name": "python",
   "nbconvert_exporter": "python",
   "pygments_lexer": "ipython3",
   "version": "3.7.6"
  }
 },
 "nbformat": 4,
 "nbformat_minor": 2
}
