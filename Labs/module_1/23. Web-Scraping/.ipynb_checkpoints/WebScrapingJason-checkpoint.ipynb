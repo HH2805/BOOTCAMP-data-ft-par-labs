{
 "cells": [
  {
   "cell_type": "code",
   "execution_count": 1,
   "metadata": {},
   "outputs": [],
   "source": [
    "import requests as r"
   ]
  },
  {
   "cell_type": "code",
   "execution_count": 2,
   "metadata": {},
   "outputs": [],
   "source": [
    "url='https://jsonplaceholder.typicode.com/comments'"
   ]
  },
  {
   "cell_type": "code",
   "execution_count": 6,
   "metadata": {},
   "outputs": [],
   "source": [
    "data=r.get(url).json()"
   ]
  },
  {
   "cell_type": "code",
   "execution_count": 8,
   "metadata": {},
   "outputs": [
    {
     "data": {
      "text/html": [
       "<div>\n",
       "<style scoped>\n",
       "    .dataframe tbody tr th:only-of-type {\n",
       "        vertical-align: middle;\n",
       "    }\n",
       "\n",
       "    .dataframe tbody tr th {\n",
       "        vertical-align: top;\n",
       "    }\n",
       "\n",
       "    .dataframe thead th {\n",
       "        text-align: right;\n",
       "    }\n",
       "</style>\n",
       "<table border=\"1\" class=\"dataframe\">\n",
       "  <thead>\n",
       "    <tr style=\"text-align: right;\">\n",
       "      <th></th>\n",
       "      <th>postId</th>\n",
       "      <th>id</th>\n",
       "      <th>name</th>\n",
       "      <th>email</th>\n",
       "      <th>body</th>\n",
       "    </tr>\n",
       "  </thead>\n",
       "  <tbody>\n",
       "    <tr>\n",
       "      <th>0</th>\n",
       "      <td>1</td>\n",
       "      <td>1</td>\n",
       "      <td>id labore ex et quam laborum</td>\n",
       "      <td>Eliseo@gardner.biz</td>\n",
       "      <td>laudantium enim quasi est quidem magnam volupt...</td>\n",
       "    </tr>\n",
       "    <tr>\n",
       "      <th>1</th>\n",
       "      <td>1</td>\n",
       "      <td>2</td>\n",
       "      <td>quo vero reiciendis velit similique earum</td>\n",
       "      <td>Jayne_Kuhic@sydney.com</td>\n",
       "      <td>est natus enim nihil est dolore omnis voluptat...</td>\n",
       "    </tr>\n",
       "    <tr>\n",
       "      <th>2</th>\n",
       "      <td>1</td>\n",
       "      <td>3</td>\n",
       "      <td>odio adipisci rerum aut animi</td>\n",
       "      <td>Nikita@garfield.biz</td>\n",
       "      <td>quia molestiae reprehenderit quasi aspernatur\\...</td>\n",
       "    </tr>\n",
       "    <tr>\n",
       "      <th>3</th>\n",
       "      <td>1</td>\n",
       "      <td>4</td>\n",
       "      <td>alias odio sit</td>\n",
       "      <td>Lew@alysha.tv</td>\n",
       "      <td>non et atque\\noccaecati deserunt quas accusant...</td>\n",
       "    </tr>\n",
       "    <tr>\n",
       "      <th>4</th>\n",
       "      <td>1</td>\n",
       "      <td>5</td>\n",
       "      <td>vero eaque aliquid doloribus et culpa</td>\n",
       "      <td>Hayden@althea.biz</td>\n",
       "      <td>harum non quasi et ratione\\ntempore iure ex vo...</td>\n",
       "    </tr>\n",
       "    <tr>\n",
       "      <th>...</th>\n",
       "      <td>...</td>\n",
       "      <td>...</td>\n",
       "      <td>...</td>\n",
       "      <td>...</td>\n",
       "      <td>...</td>\n",
       "    </tr>\n",
       "    <tr>\n",
       "      <th>495</th>\n",
       "      <td>100</td>\n",
       "      <td>496</td>\n",
       "      <td>et occaecati asperiores quas voluptas ipsam no...</td>\n",
       "      <td>Zola@lizzie.com</td>\n",
       "      <td>neque unde voluptatem iure\\nodio excepturi ips...</td>\n",
       "    </tr>\n",
       "    <tr>\n",
       "      <th>496</th>\n",
       "      <td>100</td>\n",
       "      <td>497</td>\n",
       "      <td>doloribus dolores ut dolores occaecati</td>\n",
       "      <td>Dolly@mandy.co.uk</td>\n",
       "      <td>non dolor consequatur\\nlaboriosam ut deserunt ...</td>\n",
       "    </tr>\n",
       "    <tr>\n",
       "      <th>497</th>\n",
       "      <td>100</td>\n",
       "      <td>498</td>\n",
       "      <td>dolores minus aut libero</td>\n",
       "      <td>Davion@eldora.net</td>\n",
       "      <td>aliquam pariatur suscipit fugiat eos sunt\\nopt...</td>\n",
       "    </tr>\n",
       "    <tr>\n",
       "      <th>498</th>\n",
       "      <td>100</td>\n",
       "      <td>499</td>\n",
       "      <td>excepturi sunt cum a et rerum quo voluptatibus...</td>\n",
       "      <td>Wilburn_Labadie@araceli.name</td>\n",
       "      <td>et necessitatibus tempora ipsum quaerat invent...</td>\n",
       "    </tr>\n",
       "    <tr>\n",
       "      <th>499</th>\n",
       "      <td>100</td>\n",
       "      <td>500</td>\n",
       "      <td>ex eaque eum natus</td>\n",
       "      <td>Emma@joanny.ca</td>\n",
       "      <td>perspiciatis quis doloremque\\nveniam nisi eos ...</td>\n",
       "    </tr>\n",
       "  </tbody>\n",
       "</table>\n",
       "<p>500 rows × 5 columns</p>\n",
       "</div>"
      ],
      "text/plain": [
       "     postId   id                                               name  \\\n",
       "0         1    1                       id labore ex et quam laborum   \n",
       "1         1    2          quo vero reiciendis velit similique earum   \n",
       "2         1    3                      odio adipisci rerum aut animi   \n",
       "3         1    4                                     alias odio sit   \n",
       "4         1    5              vero eaque aliquid doloribus et culpa   \n",
       "..      ...  ...                                                ...   \n",
       "495     100  496  et occaecati asperiores quas voluptas ipsam no...   \n",
       "496     100  497             doloribus dolores ut dolores occaecati   \n",
       "497     100  498                           dolores minus aut libero   \n",
       "498     100  499  excepturi sunt cum a et rerum quo voluptatibus...   \n",
       "499     100  500                                 ex eaque eum natus   \n",
       "\n",
       "                            email  \\\n",
       "0              Eliseo@gardner.biz   \n",
       "1          Jayne_Kuhic@sydney.com   \n",
       "2             Nikita@garfield.biz   \n",
       "3                   Lew@alysha.tv   \n",
       "4               Hayden@althea.biz   \n",
       "..                            ...   \n",
       "495               Zola@lizzie.com   \n",
       "496             Dolly@mandy.co.uk   \n",
       "497             Davion@eldora.net   \n",
       "498  Wilburn_Labadie@araceli.name   \n",
       "499                Emma@joanny.ca   \n",
       "\n",
       "                                                  body  \n",
       "0    laudantium enim quasi est quidem magnam volupt...  \n",
       "1    est natus enim nihil est dolore omnis voluptat...  \n",
       "2    quia molestiae reprehenderit quasi aspernatur\\...  \n",
       "3    non et atque\\noccaecati deserunt quas accusant...  \n",
       "4    harum non quasi et ratione\\ntempore iure ex vo...  \n",
       "..                                                 ...  \n",
       "495  neque unde voluptatem iure\\nodio excepturi ips...  \n",
       "496  non dolor consequatur\\nlaboriosam ut deserunt ...  \n",
       "497  aliquam pariatur suscipit fugiat eos sunt\\nopt...  \n",
       "498  et necessitatibus tempora ipsum quaerat invent...  \n",
       "499  perspiciatis quis doloremque\\nveniam nisi eos ...  \n",
       "\n",
       "[500 rows x 5 columns]"
      ]
     },
     "execution_count": 8,
     "metadata": {},
     "output_type": "execute_result"
    }
   ],
   "source": [
    "import pandas as pd\n",
    "pd.json_normalize(data)"
   ]
  },
  {
   "cell_type": "code",
   "execution_count": null,
   "metadata": {},
   "outputs": [],
   "source": []
  },
  {
   "cell_type": "code",
   "execution_count": null,
   "metadata": {},
   "outputs": [],
   "source": []
  },
  {
   "cell_type": "code",
   "execution_count": null,
   "metadata": {
    "scrolled": true
   },
   "outputs": [],
   "source": []
  },
  {
   "cell_type": "code",
   "execution_count": null,
   "metadata": {},
   "outputs": [],
   "source": []
  },
  {
   "cell_type": "code",
   "execution_count": null,
   "metadata": {},
   "outputs": [],
   "source": []
  },
  {
   "cell_type": "code",
   "execution_count": null,
   "metadata": {},
   "outputs": [],
   "source": []
  },
  {
   "cell_type": "code",
   "execution_count": null,
   "metadata": {},
   "outputs": [],
   "source": []
  },
  {
   "cell_type": "code",
   "execution_count": null,
   "metadata": {},
   "outputs": [],
   "source": []
  },
  {
   "cell_type": "code",
   "execution_count": null,
   "metadata": {},
   "outputs": [],
   "source": []
  },
  {
   "cell_type": "code",
   "execution_count": null,
   "metadata": {
    "scrolled": true
   },
   "outputs": [],
   "source": []
  },
  {
   "cell_type": "code",
   "execution_count": null,
   "metadata": {},
   "outputs": [],
   "source": []
  },
  {
   "cell_type": "code",
   "execution_count": null,
   "metadata": {},
   "outputs": [],
   "source": []
  },
  {
   "cell_type": "code",
   "execution_count": null,
   "metadata": {},
   "outputs": [],
   "source": []
  },
  {
   "cell_type": "code",
   "execution_count": null,
   "metadata": {},
   "outputs": [],
   "source": []
  },
  {
   "cell_type": "code",
   "execution_count": null,
   "metadata": {},
   "outputs": [],
   "source": []
  },
  {
   "cell_type": "code",
   "execution_count": null,
   "metadata": {},
   "outputs": [],
   "source": []
  },
  {
   "cell_type": "code",
   "execution_count": null,
   "metadata": {},
   "outputs": [],
   "source": []
  },
  {
   "cell_type": "code",
   "execution_count": null,
   "metadata": {},
   "outputs": [],
   "source": []
  },
  {
   "cell_type": "code",
   "execution_count": null,
   "metadata": {},
   "outputs": [],
   "source": []
  },
  {
   "cell_type": "code",
   "execution_count": null,
   "metadata": {},
   "outputs": [],
   "source": []
  },
  {
   "cell_type": "code",
   "execution_count": null,
   "metadata": {},
   "outputs": [],
   "source": []
  }
 ],
 "metadata": {
  "kernelspec": {
   "display_name": "Python 3",
   "language": "python",
   "name": "python3"
  },
  "language_info": {
   "codemirror_mode": {
    "name": "ipython",
    "version": 3
   },
   "file_extension": ".py",
   "mimetype": "text/x-python",
   "name": "python",
   "nbconvert_exporter": "python",
   "pygments_lexer": "ipython3",
   "version": "3.7.6"
  }
 },
 "nbformat": 4,
 "nbformat_minor": 4
}
