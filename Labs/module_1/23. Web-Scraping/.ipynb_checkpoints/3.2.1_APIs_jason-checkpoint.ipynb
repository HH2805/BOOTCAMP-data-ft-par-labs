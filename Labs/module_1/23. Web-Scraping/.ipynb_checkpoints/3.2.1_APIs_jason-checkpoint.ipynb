{
 "cells": [
  {
   "cell_type": "code",
   "execution_count": 1,
   "metadata": {},
   "outputs": [],
   "source": [
    "import requests as r"
   ]
  },
  {
   "cell_type": "code",
   "execution_count": 2,
   "metadata": {},
   "outputs": [],
   "source": [
    "url='https://jsonplaceholder.typicode.com/'"
   ]
  },
  {
   "cell_type": "code",
   "execution_count": 3,
   "metadata": {},
   "outputs": [
    {
     "data": {
      "text/plain": [
       "<Response [200]>"
      ]
     },
     "execution_count": 3,
     "metadata": {},
     "output_type": "execute_result"
    }
   ],
   "source": [
    "response=r.get(url)\n",
    "r.get(url)"
   ]
  },
  {
   "cell_type": "code",
   "execution_count": 4,
   "metadata": {},
   "outputs": [
    {
     "data": {
      "text/plain": [
       "b'\\n<!DOCTYPE html>\\n<html lang=\"en\">\\n<head>\\n<meta charset=\"utf-8\" />\\n<meta name=\"viewport\" content=\"width=device-width, initial-scale=1, shrink-to-fit=no\" />\\n<link rel=\"stylesheet\" href=\"/style.css\" />\\n<link rel=\"stylesheet\" href=\"https://cdnjs.cloudflare.com/ajax/libs/prism/1.21.0/themes/prism-tomorrow.min.css\" />\\n<title>JSONPlaceholder - Fake online REST API for testing and prototyping</title>\\n</head>\\n<body class=\"px-2\">\\n<div class=\"bg-purple-800 -mx-2\">\\n<div class=\"container mx-auto py-half text-center\">\\n<a href=\"https://github.com/typicode/husky\" class=\"text-white hover:no-underline\">Improve your Git workflow, Husky v5 has been published and is faster/lighter than ever \\xf0\\x9f\\x90\\xba</a\\n        >\\n</div>\\n</div>\\n<header class=\"container mx-auto flex flex-col md:flex-row justify-between py-one mb-three\">\\n<h1>\\n<a href=\"/\" class=\"font-bold no-underline\">JSONPlaceholder</a>\\n</h1>\\n<nav>\\n<ul class=\"flex\">\\n<li><a href=\"/guide\" class=\"mr-4 no-underline\">Guide</a></li>\\n<li>\\n<a href=\"https://github.com/sponsors/typicode\" class=\"mr-4 no-underline\">Toss a coin (sponsor)</a\\n            >\\n</li>\\n<li>\\n<a href=\"https://my-json-server.typicode.com\" class=\"no-underline\">My JSON Server</a\\n            >\\n</li>\\n</ul>\\n</nav>\\n</header>\\n<div class=\"container mx-auto\">\\n\\n<section class=\"pt-two pb-six\">\\n<h1 class=\"text-6xl mb-two\">{JSON} Placeholder</h1>\\n<p class=\"mb-one\">\\nFree to use fake Online REST API for testing and prototyping<br />\\nPowered by\\n<a href=\"https://github.com/typicode/json-server\">JSON Server</a>\\n+\\n<a href=\"https://github.com/typicode/lowdb\">LowDB</a>\\n</p>\\n<p>As of Sep 2020, <b>serving ~900M requests each month</b>.</p>\\n</section>\\n\\n<section class=\"mb-six\">\\n<h2 class=\"text-2xl mb-one\">Sponsors</h2>\\n<p class=\"mb-two\">\\nJSONPlaceholder is supported by the following companies and\\n<a href=\"https://github.com/sponsors/typicode\">Sponsors</a> on GitHub, check\\nthem out \\xf0\\x9f\\x92\\x96\\n</p>\\n<p>\\n<a href=\"https://tryretool.com/?utm_source=sponsor&utm_campaign=typicode\" target=\"_blank\">\\n<img src=\"https://i.imgur.com/IBItATn.png\" class=\"h-three mb-two\" />\\n</a>\\n</p>\\n<p>\\n<a href=\"https://mockend.com\" target=\"_blank\">\\n<img src=\"https://mockend.com/banner.svg\" class=\"h-three mb-two\" />\\n</a>\\n</p>\\n<p>\\n<a href=\"https://github.com/sponsors/typicode\">Your company logo here</a>\\n</p>\\n</section>\\n\\n<section class=\"mb-four\">\\n<h2 class=\"text-2xl mb-one\">Try it</h2>\\n<p>Run this code here, in a console or from any site:</p>\\n<pre><code id=\"example\" class=\"language-javascript\">fetch(\\'https://jsonplaceholder.typicode.com/todos/1\\')\\n  .then(response => response.json())\\n  .then(json => console.log(json))</code></pre>\\n<button id=\"run-button\" class=\"bg-teal-500 hover:bg-teal-700 text-white font-bold py-quarter my-quarter px-4 rounded\">\\nRun script\\n</button>\\n<pre><code id=\"result\" class=\"language-javascript\">{}</code></pre>\\n<p id=\"run-message\" class=\"invisible\">\\nCongrats you\\'ve made your first call to JSONPlaceholder! \\xf0\\x9f\\x98\\x83 \\xf0\\x9f\\x8e\\x89\\n</p>\\n</section>\\n<main class=\"container mx-auto\"><h2>When to use</h2>\\n<p>JSONPlaceholder is a free online REST API that you can use <strong>whenever you need some fake data</strong>. It can be in a README on GitHub, for a demo on CodeSandbox, in code examples on Stack Overflow, ...or simply to test things locally.</p>\\n<h2>Resources</h2>\\n<p>JSONPlaceholder comes with a set of 6 common resources:</p>\\n<table>\\n<thead>\\n<tr>\\n<th></th>\\n<th></th>\\n</tr>\\n</thead>\\n<tbody>\\n<tr>\\n<td><a href=\"/posts\">/posts</a></td>\\n<td>100 posts</td>\\n</tr>\\n<tr>\\n<td><a href=\"/comments\">/comments</a></td>\\n<td>500 comments</td>\\n</tr>\\n<tr>\\n<td><a href=\"/albums\">/albums</a></td>\\n<td>100 albums</td>\\n</tr>\\n<tr>\\n<td><a href=\"/photos\">/photos</a></td>\\n<td>5000 photos</td>\\n</tr>\\n<tr>\\n<td><a href=\"/todos\">/todos</a></td>\\n<td>200 todos</td>\\n</tr>\\n<tr>\\n<td><a href=\"/users\">/users</a></td>\\n<td>10 users</td>\\n</tr>\\n</tbody>\\n</table>\\n<p><strong>Note</strong>: resources have relations. For example: posts have many comments, albums have many photos, ... see <a href=\"/guide\">guide</a> for the full list.</p>\\n<h2>Routes</h2>\\n<p>All HTTP methods are supported. You can use http or https for your requests.</p>\\n<table>\\n<thead>\\n<tr>\\n<th></th>\\n<th></th>\\n</tr>\\n</thead>\\n<tbody>\\n<tr>\\n<td>GET</td>\\n<td><a href=\"/posts\">/posts</a></td>\\n</tr>\\n<tr>\\n<td>GET</td>\\n<td><a href=\"/posts/1\">/posts/1</a></td>\\n</tr>\\n<tr>\\n<td>GET</td>\\n<td><a href=\"/posts/1/comments\">/posts/1/comments</a></td>\\n</tr>\\n<tr>\\n<td>GET</td>\\n<td><a href=\"/comments?postId=1\">/comments?postId=1</a></td>\\n</tr>\\n<tr>\\n<td>POST</td>\\n<td>/posts</td>\\n</tr>\\n<tr>\\n<td>PUT</td>\\n<td>/posts/1</td>\\n</tr>\\n<tr>\\n<td>PATCH</td>\\n<td>/posts/1</td>\\n</tr>\\n<tr>\\n<td>DELETE</td>\\n<td>/posts/1</td>\\n</tr>\\n</tbody>\\n</table>\\n<p><strong>Note</strong>: see <a href=\"/guide\">guide</a> for usage examples.</p>\\n<h2>Use your own data</h2>\\n<p>With <a href=\"https://my-json-server.typicode.com\">My JSON Server</a> and a simple GitHub repo, you can have your own online fake REST server in seconds.</p>\\n</main>\\n<script>\\n  // Use http or https based on location.protocol\\n  var example = document.getElementById(\\'example\\')\\n  example.textContent = example.textContent.replace(\\'http:\\', location.protocol)\\n\\n  // Highlight result element\\n  var result = document.getElementById(\\'result\\')\\n\\n  // Run example\\n  var runButton = document.getElementById(\\'run-button\\')\\n  runButton.onclick = function () {\\n    var root = location.protocol + \\'//jsonplaceholder.typicode.com\\'\\n    var runMessage = document.getElementById(\\'run-message\\')\\n\\n    fetch(\\'https://jsonplaceholder.typicode.com/todos/1\\')\\n      .then((response) => response.json())\\n      .then((json) => {\\n        var str = JSON.stringify(json, null, \\'\\t\\')\\n\\n        // Format result\\n        result.innerHTML = Prism.highlight(\\n          str,\\n          Prism.languages.javascript,\\n          \\'javascript\\',\\n        )\\n\\n        runMessage.className = \\'\\'\\n      })\\n  }\\n</script>\\n</div>\\n\\n<footer class=\"container mx-auto mt-four\">\\n<div class=\"mb-one\">\\n\\xf0\\x9f\\x90\\xb1\\n<a href=\"https://github.com/users/typicode/sponsorship\">\\n<strong>Sponsor me on GitHub and get perks</strong>\\n</a>\\n</div>\\n<div class=\"mb-one\">\\nCoded and maintained with \\xe2\\x9d\\xa4\\xef\\xb8\\x8f by\\n<a href=\"https://github.com/typicode\">typicode</a> \\xc2\\xa9 2020\\n</div>\\n</footer>\\n\\n<script>\\n      ;(function (i, s, o, g, r, a, m) {\\n        i[\\'GoogleAnalyticsObject\\'] = r\\n        ;(i[r] =\\n          i[r] ||\\n          function () {\\n            ;(i[r].q = i[r].q || []).push(arguments)\\n          }),\\n          (i[r].l = 1 * new Date())\\n        ;(a = s.createElement(o)), (m = s.getElementsByTagName(o)[0])\\n        a.async = 1\\n        a.src = g\\n        m.parentNode.insertBefore(a, m)\\n      })(\\n        window,\\n        document,\\n        \\'script\\',\\n        \\'//www.google-analytics.com/analytics.js\\',\\n        \\'ga\\',\\n      )\\n      ga(\\'create\\', \\'UA-44497010-1\\', \\'typicode.com\\')\\n      ga(\\'send\\', \\'pageview\\')\\n      var trackOutboundLink = function (url) {\\n        ga(\\'send\\', \\'event\\', \\'outbound\\', \\'click\\', url, {\\n          transport: \\'beacon\\',\\n        })\\n      }\\n    </script>\\n<script src=\"https://cdnjs.cloudflare.com/ajax/libs/prism/1.21.0/prism.min.js\"></script>\\n</body>\\n</html>\\n'"
      ]
     },
     "execution_count": 4,
     "metadata": {},
     "output_type": "execute_result"
    }
   ],
   "source": [
    "response.content"
   ]
  },
  {
   "cell_type": "code",
   "execution_count": 5,
   "metadata": {},
   "outputs": [
    {
     "data": {
      "text/plain": [
       "bytes"
      ]
     },
     "execution_count": 5,
     "metadata": {},
     "output_type": "execute_result"
    }
   ],
   "source": [
    "type(response.content)"
   ]
  },
  {
   "cell_type": "code",
   "execution_count": 6,
   "metadata": {},
   "outputs": [
    {
     "ename": "JSONDecodeError",
     "evalue": "Expecting value: line 2 column 1 (char 1)",
     "output_type": "error",
     "traceback": [
      "\u001b[1;31m----------------------\u001b[0m",
      "\u001b[1;31mJSONDecodeError\u001b[0mTraceback (most recent call last)",
      "\u001b[1;32m<ipython-input-6-033982c417db>\u001b[0m in \u001b[0;36m<module>\u001b[1;34m\u001b[0m\n\u001b[0;32m      1\u001b[0m \u001b[1;32mimport\u001b[0m \u001b[0mpandas\u001b[0m \u001b[1;32mas\u001b[0m \u001b[0mpd\u001b[0m\u001b[1;33m\u001b[0m\u001b[1;33m\u001b[0m\u001b[0m\n\u001b[1;32m----> 2\u001b[1;33m \u001b[0mdata\u001b[0m\u001b[1;33m=\u001b[0m\u001b[0mresponse\u001b[0m\u001b[1;33m.\u001b[0m\u001b[0mjson\u001b[0m\u001b[1;33m(\u001b[0m\u001b[1;33m)\u001b[0m\u001b[1;33m\u001b[0m\u001b[1;33m\u001b[0m\u001b[0m\n\u001b[0m\u001b[0;32m      3\u001b[0m \u001b[0mdata\u001b[0m\u001b[1;33m\u001b[0m\u001b[1;33m\u001b[0m\u001b[0m\n",
      "\u001b[1;32m~\\anaconda3\\lib\\site-packages\\requests\\models.py\u001b[0m in \u001b[0;36mjson\u001b[1;34m(self, **kwargs)\u001b[0m\n\u001b[0;32m    896\u001b[0m                     \u001b[1;31m# used.\u001b[0m\u001b[1;33m\u001b[0m\u001b[1;33m\u001b[0m\u001b[1;33m\u001b[0m\u001b[0m\n\u001b[0;32m    897\u001b[0m                     \u001b[1;32mpass\u001b[0m\u001b[1;33m\u001b[0m\u001b[1;33m\u001b[0m\u001b[0m\n\u001b[1;32m--> 898\u001b[1;33m         \u001b[1;32mreturn\u001b[0m \u001b[0mcomplexjson\u001b[0m\u001b[1;33m.\u001b[0m\u001b[0mloads\u001b[0m\u001b[1;33m(\u001b[0m\u001b[0mself\u001b[0m\u001b[1;33m.\u001b[0m\u001b[0mtext\u001b[0m\u001b[1;33m,\u001b[0m \u001b[1;33m**\u001b[0m\u001b[0mkwargs\u001b[0m\u001b[1;33m)\u001b[0m\u001b[1;33m\u001b[0m\u001b[1;33m\u001b[0m\u001b[0m\n\u001b[0m\u001b[0;32m    899\u001b[0m \u001b[1;33m\u001b[0m\u001b[0m\n\u001b[0;32m    900\u001b[0m     \u001b[1;33m@\u001b[0m\u001b[0mproperty\u001b[0m\u001b[1;33m\u001b[0m\u001b[1;33m\u001b[0m\u001b[0m\n",
      "\u001b[1;32m~\\anaconda3\\lib\\json\\__init__.py\u001b[0m in \u001b[0;36mloads\u001b[1;34m(s, encoding, cls, object_hook, parse_float, parse_int, parse_constant, object_pairs_hook, **kw)\u001b[0m\n\u001b[0;32m    346\u001b[0m             \u001b[0mparse_int\u001b[0m \u001b[1;32mis\u001b[0m \u001b[1;32mNone\u001b[0m \u001b[1;32mand\u001b[0m \u001b[0mparse_float\u001b[0m \u001b[1;32mis\u001b[0m \u001b[1;32mNone\u001b[0m \u001b[1;32mand\u001b[0m\u001b[1;33m\u001b[0m\u001b[1;33m\u001b[0m\u001b[0m\n\u001b[0;32m    347\u001b[0m             parse_constant is None and object_pairs_hook is None and not kw):\n\u001b[1;32m--> 348\u001b[1;33m         \u001b[1;32mreturn\u001b[0m \u001b[0m_default_decoder\u001b[0m\u001b[1;33m.\u001b[0m\u001b[0mdecode\u001b[0m\u001b[1;33m(\u001b[0m\u001b[0ms\u001b[0m\u001b[1;33m)\u001b[0m\u001b[1;33m\u001b[0m\u001b[1;33m\u001b[0m\u001b[0m\n\u001b[0m\u001b[0;32m    349\u001b[0m     \u001b[1;32mif\u001b[0m \u001b[0mcls\u001b[0m \u001b[1;32mis\u001b[0m \u001b[1;32mNone\u001b[0m\u001b[1;33m:\u001b[0m\u001b[1;33m\u001b[0m\u001b[1;33m\u001b[0m\u001b[0m\n\u001b[0;32m    350\u001b[0m         \u001b[0mcls\u001b[0m \u001b[1;33m=\u001b[0m \u001b[0mJSONDecoder\u001b[0m\u001b[1;33m\u001b[0m\u001b[1;33m\u001b[0m\u001b[0m\n",
      "\u001b[1;32m~\\anaconda3\\lib\\json\\decoder.py\u001b[0m in \u001b[0;36mdecode\u001b[1;34m(self, s, _w)\u001b[0m\n\u001b[0;32m    335\u001b[0m \u001b[1;33m\u001b[0m\u001b[0m\n\u001b[0;32m    336\u001b[0m         \"\"\"\n\u001b[1;32m--> 337\u001b[1;33m         \u001b[0mobj\u001b[0m\u001b[1;33m,\u001b[0m \u001b[0mend\u001b[0m \u001b[1;33m=\u001b[0m \u001b[0mself\u001b[0m\u001b[1;33m.\u001b[0m\u001b[0mraw_decode\u001b[0m\u001b[1;33m(\u001b[0m\u001b[0ms\u001b[0m\u001b[1;33m,\u001b[0m \u001b[0midx\u001b[0m\u001b[1;33m=\u001b[0m\u001b[0m_w\u001b[0m\u001b[1;33m(\u001b[0m\u001b[0ms\u001b[0m\u001b[1;33m,\u001b[0m \u001b[1;36m0\u001b[0m\u001b[1;33m)\u001b[0m\u001b[1;33m.\u001b[0m\u001b[0mend\u001b[0m\u001b[1;33m(\u001b[0m\u001b[1;33m)\u001b[0m\u001b[1;33m)\u001b[0m\u001b[1;33m\u001b[0m\u001b[1;33m\u001b[0m\u001b[0m\n\u001b[0m\u001b[0;32m    338\u001b[0m         \u001b[0mend\u001b[0m \u001b[1;33m=\u001b[0m \u001b[0m_w\u001b[0m\u001b[1;33m(\u001b[0m\u001b[0ms\u001b[0m\u001b[1;33m,\u001b[0m \u001b[0mend\u001b[0m\u001b[1;33m)\u001b[0m\u001b[1;33m.\u001b[0m\u001b[0mend\u001b[0m\u001b[1;33m(\u001b[0m\u001b[1;33m)\u001b[0m\u001b[1;33m\u001b[0m\u001b[1;33m\u001b[0m\u001b[0m\n\u001b[0;32m    339\u001b[0m         \u001b[1;32mif\u001b[0m \u001b[0mend\u001b[0m \u001b[1;33m!=\u001b[0m \u001b[0mlen\u001b[0m\u001b[1;33m(\u001b[0m\u001b[0ms\u001b[0m\u001b[1;33m)\u001b[0m\u001b[1;33m:\u001b[0m\u001b[1;33m\u001b[0m\u001b[1;33m\u001b[0m\u001b[0m\n",
      "\u001b[1;32m~\\anaconda3\\lib\\json\\decoder.py\u001b[0m in \u001b[0;36mraw_decode\u001b[1;34m(self, s, idx)\u001b[0m\n\u001b[0;32m    353\u001b[0m             \u001b[0mobj\u001b[0m\u001b[1;33m,\u001b[0m \u001b[0mend\u001b[0m \u001b[1;33m=\u001b[0m \u001b[0mself\u001b[0m\u001b[1;33m.\u001b[0m\u001b[0mscan_once\u001b[0m\u001b[1;33m(\u001b[0m\u001b[0ms\u001b[0m\u001b[1;33m,\u001b[0m \u001b[0midx\u001b[0m\u001b[1;33m)\u001b[0m\u001b[1;33m\u001b[0m\u001b[1;33m\u001b[0m\u001b[0m\n\u001b[0;32m    354\u001b[0m         \u001b[1;32mexcept\u001b[0m \u001b[0mStopIteration\u001b[0m \u001b[1;32mas\u001b[0m \u001b[0merr\u001b[0m\u001b[1;33m:\u001b[0m\u001b[1;33m\u001b[0m\u001b[1;33m\u001b[0m\u001b[0m\n\u001b[1;32m--> 355\u001b[1;33m             \u001b[1;32mraise\u001b[0m \u001b[0mJSONDecodeError\u001b[0m\u001b[1;33m(\u001b[0m\u001b[1;34m\"Expecting value\"\u001b[0m\u001b[1;33m,\u001b[0m \u001b[0ms\u001b[0m\u001b[1;33m,\u001b[0m \u001b[0merr\u001b[0m\u001b[1;33m.\u001b[0m\u001b[0mvalue\u001b[0m\u001b[1;33m)\u001b[0m \u001b[1;32mfrom\u001b[0m \u001b[1;32mNone\u001b[0m\u001b[1;33m\u001b[0m\u001b[1;33m\u001b[0m\u001b[0m\n\u001b[0m\u001b[0;32m    356\u001b[0m         \u001b[1;32mreturn\u001b[0m \u001b[0mobj\u001b[0m\u001b[1;33m,\u001b[0m \u001b[0mend\u001b[0m\u001b[1;33m\u001b[0m\u001b[1;33m\u001b[0m\u001b[0m\n",
      "\u001b[1;31mJSONDecodeError\u001b[0m: Expecting value: line 2 column 1 (char 1)"
     ]
    }
   ],
   "source": [
    "import pandas as pd\n",
    "data=response.json()\n",
    "data"
   ]
  },
  {
   "cell_type": "code",
   "execution_count": null,
   "metadata": {},
   "outputs": [],
   "source": [
    "pd.json_normalize(data)"
   ]
  },
  {
   "cell_type": "code",
   "execution_count": null,
   "metadata": {},
   "outputs": [],
   "source": []
  }
 ],
 "metadata": {
  "kernelspec": {
   "display_name": "Python 3",
   "language": "python",
   "name": "python3"
  },
  "language_info": {
   "codemirror_mode": {
    "name": "ipython",
    "version": 3
   },
   "file_extension": ".py",
   "mimetype": "text/x-python",
   "name": "python",
   "nbconvert_exporter": "python",
   "pygments_lexer": "ipython3",
   "version": "3.7.6"
  }
 },
 "nbformat": 4,
 "nbformat_minor": 4
}
